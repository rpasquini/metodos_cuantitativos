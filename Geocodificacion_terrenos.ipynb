{
  "nbformat": 4,
  "nbformat_minor": 0,
  "metadata": {
    "colab": {
      "provenance": [],
      "authorship_tag": "ABX9TyOeOm0kr6Bi4JlnZTjR1+ma",
      "include_colab_link": true
    },
    "kernelspec": {
      "name": "python3",
      "display_name": "Python 3"
    },
    "language_info": {
      "name": "python"
    }
  },
  "cells": [
    {
      "cell_type": "markdown",
      "metadata": {
        "id": "view-in-github",
        "colab_type": "text"
      },
      "source": [
        "<a href=\"https://colab.research.google.com/github/rpasquini/metodos_cuantitativos/blob/main/Geocodificacion_terrenos.ipynb\" target=\"_parent\"><img src=\"https://colab.research.google.com/assets/colab-badge.svg\" alt=\"Open In Colab\"/></a>"
      ]
    },
    {
      "cell_type": "code",
      "execution_count": 3,
      "metadata": {
        "colab": {
          "base_uri": "https://localhost:8080/"
        },
        "id": "LFLidSB17973",
        "outputId": "07d1e9ff-e127-499a-8e68-76b5fb4db35c"
      },
      "outputs": [
        {
          "output_type": "stream",
          "name": "stdout",
          "text": [
            "Requirement already satisfied: geocoder in /usr/local/lib/python3.10/dist-packages (1.38.1)\n",
            "Requirement already satisfied: click in /usr/local/lib/python3.10/dist-packages (from geocoder) (8.1.4)\n",
            "Requirement already satisfied: future in /usr/local/lib/python3.10/dist-packages (from geocoder) (0.18.3)\n",
            "Requirement already satisfied: ratelim in /usr/local/lib/python3.10/dist-packages (from geocoder) (0.1.6)\n",
            "Requirement already satisfied: requests in /usr/local/lib/python3.10/dist-packages (from geocoder) (2.27.1)\n",
            "Requirement already satisfied: six in /usr/local/lib/python3.10/dist-packages (from geocoder) (1.16.0)\n",
            "Requirement already satisfied: decorator in /usr/local/lib/python3.10/dist-packages (from ratelim->geocoder) (4.4.2)\n",
            "Requirement already satisfied: urllib3<1.27,>=1.21.1 in /usr/local/lib/python3.10/dist-packages (from requests->geocoder) (1.26.16)\n",
            "Requirement already satisfied: certifi>=2017.4.17 in /usr/local/lib/python3.10/dist-packages (from requests->geocoder) (2023.5.7)\n",
            "Requirement already satisfied: charset-normalizer~=2.0.0 in /usr/local/lib/python3.10/dist-packages (from requests->geocoder) (2.0.12)\n",
            "Requirement already satisfied: idna<4,>=2.5 in /usr/local/lib/python3.10/dist-packages (from requests->geocoder) (3.4)\n"
          ]
        }
      ],
      "source": [
        "!pip install geocoder"
      ]
    },
    {
      "cell_type": "code",
      "source": [
        "!pip install geopandas"
      ],
      "metadata": {
        "colab": {
          "base_uri": "https://localhost:8080/"
        },
        "id": "0oBf9-0H8EKh",
        "outputId": "813b89bf-4e73-4309-9a11-4c5342072e64"
      },
      "execution_count": 4,
      "outputs": [
        {
          "output_type": "stream",
          "name": "stdout",
          "text": [
            "Requirement already satisfied: geopandas in /usr/local/lib/python3.10/dist-packages (0.13.2)\n",
            "Requirement already satisfied: fiona>=1.8.19 in /usr/local/lib/python3.10/dist-packages (from geopandas) (1.9.4.post1)\n",
            "Requirement already satisfied: packaging in /usr/local/lib/python3.10/dist-packages (from geopandas) (23.1)\n",
            "Requirement already satisfied: pandas>=1.1.0 in /usr/local/lib/python3.10/dist-packages (from geopandas) (1.5.3)\n",
            "Requirement already satisfied: pyproj>=3.0.1 in /usr/local/lib/python3.10/dist-packages (from geopandas) (3.6.0)\n",
            "Requirement already satisfied: shapely>=1.7.1 in /usr/local/lib/python3.10/dist-packages (from geopandas) (2.0.1)\n",
            "Requirement already satisfied: attrs>=19.2.0 in /usr/local/lib/python3.10/dist-packages (from fiona>=1.8.19->geopandas) (23.1.0)\n",
            "Requirement already satisfied: certifi in /usr/local/lib/python3.10/dist-packages (from fiona>=1.8.19->geopandas) (2023.5.7)\n",
            "Requirement already satisfied: click~=8.0 in /usr/local/lib/python3.10/dist-packages (from fiona>=1.8.19->geopandas) (8.1.4)\n",
            "Requirement already satisfied: click-plugins>=1.0 in /usr/local/lib/python3.10/dist-packages (from fiona>=1.8.19->geopandas) (1.1.1)\n",
            "Requirement already satisfied: cligj>=0.5 in /usr/local/lib/python3.10/dist-packages (from fiona>=1.8.19->geopandas) (0.7.2)\n",
            "Requirement already satisfied: six in /usr/local/lib/python3.10/dist-packages (from fiona>=1.8.19->geopandas) (1.16.0)\n",
            "Requirement already satisfied: python-dateutil>=2.8.1 in /usr/local/lib/python3.10/dist-packages (from pandas>=1.1.0->geopandas) (2.8.2)\n",
            "Requirement already satisfied: pytz>=2020.1 in /usr/local/lib/python3.10/dist-packages (from pandas>=1.1.0->geopandas) (2022.7.1)\n",
            "Requirement already satisfied: numpy>=1.21.0 in /usr/local/lib/python3.10/dist-packages (from pandas>=1.1.0->geopandas) (1.22.4)\n"
          ]
        }
      ]
    },
    {
      "cell_type": "code",
      "source": [
        "import pandas as pd\n",
        "import geopandas as gpd\n",
        "import geocoder"
      ],
      "metadata": {
        "id": "JVFcRPvh8ubb"
      },
      "execution_count": 36,
      "outputs": []
    },
    {
      "cell_type": "code",
      "source": [
        "terrenos=pd.read_excel(\"/content/Terrenos-en-venta-2020 (1).xlsx\")"
      ],
      "metadata": {
        "id": "c-BPSKC39OB8"
      },
      "execution_count": 9,
      "outputs": []
    },
    {
      "cell_type": "code",
      "source": [
        "terrenos"
      ],
      "metadata": {
        "colab": {
          "base_uri": "https://localhost:8080/",
          "height": 467
        },
        "id": "u6FlqI249dA2",
        "outputId": "95bc56ae-8dd1-4573-84c2-62d48899888c"
      },
      "execution_count": 10,
      "outputs": [
        {
          "output_type": "execute_result",
          "data": {
            "text/plain": [
              "                             DIRECCION  PROPIEDADS  PRECIOUSD  PRECIOPESO  \\\n",
              "0                       RIVADAVIA 3500         190     150000    12000000   \n",
              "1                         PRINGLES 100         242     230000    18400000   \n",
              "2       PERON, JUAN DOMINGO, TTE. 3400         211     265000    21200000   \n",
              "3                          MEXICO 4000         320     300000    24000000   \n",
              "4                       VENEZUELA 4067         250     305000    24400000   \n",
              "...                                ...         ...        ...         ...   \n",
              "10296     BONORINO, ESTEBAN, Cnel. 300         149     430000    27412500   \n",
              "10297               RIVERA INDARTE 100         500     790000    50362500   \n",
              "10298  ALVAREZ, DONATO, Tte. Gral. 200         771     690000    43987500   \n",
              "10299      ALBERDI, JUAN BAUTISTA 3100         409     800000    51000000   \n",
              "10300               TRELLES, MANUEL R.         280     495000    31680000   \n",
              "\n",
              "       DOLARM2  PESOSM2  COTIZACION TRIMESTRE_        BARRIO  COMUNA_  \n",
              "0          790    63158          80     CUARTO       ALMAGRO        5  \n",
              "1          950    76033          80     CUARTO       ALMAGRO        5  \n",
              "2         1256   100474          80     CUARTO       ALMAGRO        5  \n",
              "3          938    75000          80     CUARTO       ALMAGRO        5  \n",
              "4         1220    97600          80     CUARTO       ALMAGRO        5  \n",
              "...        ...      ...         ...        ...           ...      ...  \n",
              "10296     2886   183976          64     PRIMER  FLORES NORTE        7  \n",
              "10297     1580   100725          64     PRIMER  FLORES NORTE        7  \n",
              "10298      895    57052          64     PRIMER  FLORES NORTE        7  \n",
              "10299     1956   124694          64     PRIMER  FLORES NORTE        7  \n",
              "10300     1768   113143          64    SEGUNDO  FLORES NORTE        7  \n",
              "\n",
              "[10301 rows x 10 columns]"
            ],
            "text/html": [
              "\n",
              "\n",
              "  <div id=\"df-740fa159-e86a-4f8d-8028-30f8babffe9f\">\n",
              "    <div class=\"colab-df-container\">\n",
              "      <div>\n",
              "<style scoped>\n",
              "    .dataframe tbody tr th:only-of-type {\n",
              "        vertical-align: middle;\n",
              "    }\n",
              "\n",
              "    .dataframe tbody tr th {\n",
              "        vertical-align: top;\n",
              "    }\n",
              "\n",
              "    .dataframe thead th {\n",
              "        text-align: right;\n",
              "    }\n",
              "</style>\n",
              "<table border=\"1\" class=\"dataframe\">\n",
              "  <thead>\n",
              "    <tr style=\"text-align: right;\">\n",
              "      <th></th>\n",
              "      <th>DIRECCION</th>\n",
              "      <th>PROPIEDADS</th>\n",
              "      <th>PRECIOUSD</th>\n",
              "      <th>PRECIOPESO</th>\n",
              "      <th>DOLARM2</th>\n",
              "      <th>PESOSM2</th>\n",
              "      <th>COTIZACION</th>\n",
              "      <th>TRIMESTRE_</th>\n",
              "      <th>BARRIO</th>\n",
              "      <th>COMUNA_</th>\n",
              "    </tr>\n",
              "  </thead>\n",
              "  <tbody>\n",
              "    <tr>\n",
              "      <th>0</th>\n",
              "      <td>RIVADAVIA 3500</td>\n",
              "      <td>190</td>\n",
              "      <td>150000</td>\n",
              "      <td>12000000</td>\n",
              "      <td>790</td>\n",
              "      <td>63158</td>\n",
              "      <td>80</td>\n",
              "      <td>CUARTO</td>\n",
              "      <td>ALMAGRO</td>\n",
              "      <td>5</td>\n",
              "    </tr>\n",
              "    <tr>\n",
              "      <th>1</th>\n",
              "      <td>PRINGLES 100</td>\n",
              "      <td>242</td>\n",
              "      <td>230000</td>\n",
              "      <td>18400000</td>\n",
              "      <td>950</td>\n",
              "      <td>76033</td>\n",
              "      <td>80</td>\n",
              "      <td>CUARTO</td>\n",
              "      <td>ALMAGRO</td>\n",
              "      <td>5</td>\n",
              "    </tr>\n",
              "    <tr>\n",
              "      <th>2</th>\n",
              "      <td>PERON, JUAN DOMINGO, TTE. 3400</td>\n",
              "      <td>211</td>\n",
              "      <td>265000</td>\n",
              "      <td>21200000</td>\n",
              "      <td>1256</td>\n",
              "      <td>100474</td>\n",
              "      <td>80</td>\n",
              "      <td>CUARTO</td>\n",
              "      <td>ALMAGRO</td>\n",
              "      <td>5</td>\n",
              "    </tr>\n",
              "    <tr>\n",
              "      <th>3</th>\n",
              "      <td>MEXICO 4000</td>\n",
              "      <td>320</td>\n",
              "      <td>300000</td>\n",
              "      <td>24000000</td>\n",
              "      <td>938</td>\n",
              "      <td>75000</td>\n",
              "      <td>80</td>\n",
              "      <td>CUARTO</td>\n",
              "      <td>ALMAGRO</td>\n",
              "      <td>5</td>\n",
              "    </tr>\n",
              "    <tr>\n",
              "      <th>4</th>\n",
              "      <td>VENEZUELA 4067</td>\n",
              "      <td>250</td>\n",
              "      <td>305000</td>\n",
              "      <td>24400000</td>\n",
              "      <td>1220</td>\n",
              "      <td>97600</td>\n",
              "      <td>80</td>\n",
              "      <td>CUARTO</td>\n",
              "      <td>ALMAGRO</td>\n",
              "      <td>5</td>\n",
              "    </tr>\n",
              "    <tr>\n",
              "      <th>...</th>\n",
              "      <td>...</td>\n",
              "      <td>...</td>\n",
              "      <td>...</td>\n",
              "      <td>...</td>\n",
              "      <td>...</td>\n",
              "      <td>...</td>\n",
              "      <td>...</td>\n",
              "      <td>...</td>\n",
              "      <td>...</td>\n",
              "      <td>...</td>\n",
              "    </tr>\n",
              "    <tr>\n",
              "      <th>10296</th>\n",
              "      <td>BONORINO, ESTEBAN, Cnel. 300</td>\n",
              "      <td>149</td>\n",
              "      <td>430000</td>\n",
              "      <td>27412500</td>\n",
              "      <td>2886</td>\n",
              "      <td>183976</td>\n",
              "      <td>64</td>\n",
              "      <td>PRIMER</td>\n",
              "      <td>FLORES NORTE</td>\n",
              "      <td>7</td>\n",
              "    </tr>\n",
              "    <tr>\n",
              "      <th>10297</th>\n",
              "      <td>RIVERA INDARTE 100</td>\n",
              "      <td>500</td>\n",
              "      <td>790000</td>\n",
              "      <td>50362500</td>\n",
              "      <td>1580</td>\n",
              "      <td>100725</td>\n",
              "      <td>64</td>\n",
              "      <td>PRIMER</td>\n",
              "      <td>FLORES NORTE</td>\n",
              "      <td>7</td>\n",
              "    </tr>\n",
              "    <tr>\n",
              "      <th>10298</th>\n",
              "      <td>ALVAREZ, DONATO, Tte. Gral. 200</td>\n",
              "      <td>771</td>\n",
              "      <td>690000</td>\n",
              "      <td>43987500</td>\n",
              "      <td>895</td>\n",
              "      <td>57052</td>\n",
              "      <td>64</td>\n",
              "      <td>PRIMER</td>\n",
              "      <td>FLORES NORTE</td>\n",
              "      <td>7</td>\n",
              "    </tr>\n",
              "    <tr>\n",
              "      <th>10299</th>\n",
              "      <td>ALBERDI, JUAN BAUTISTA 3100</td>\n",
              "      <td>409</td>\n",
              "      <td>800000</td>\n",
              "      <td>51000000</td>\n",
              "      <td>1956</td>\n",
              "      <td>124694</td>\n",
              "      <td>64</td>\n",
              "      <td>PRIMER</td>\n",
              "      <td>FLORES NORTE</td>\n",
              "      <td>7</td>\n",
              "    </tr>\n",
              "    <tr>\n",
              "      <th>10300</th>\n",
              "      <td>TRELLES, MANUEL R.</td>\n",
              "      <td>280</td>\n",
              "      <td>495000</td>\n",
              "      <td>31680000</td>\n",
              "      <td>1768</td>\n",
              "      <td>113143</td>\n",
              "      <td>64</td>\n",
              "      <td>SEGUNDO</td>\n",
              "      <td>FLORES NORTE</td>\n",
              "      <td>7</td>\n",
              "    </tr>\n",
              "  </tbody>\n",
              "</table>\n",
              "<p>10301 rows × 10 columns</p>\n",
              "</div>\n",
              "      <button class=\"colab-df-convert\" onclick=\"convertToInteractive('df-740fa159-e86a-4f8d-8028-30f8babffe9f')\"\n",
              "              title=\"Convert this dataframe to an interactive table.\"\n",
              "              style=\"display:none;\">\n",
              "\n",
              "  <svg xmlns=\"http://www.w3.org/2000/svg\" height=\"24px\"viewBox=\"0 0 24 24\"\n",
              "       width=\"24px\">\n",
              "    <path d=\"M0 0h24v24H0V0z\" fill=\"none\"/>\n",
              "    <path d=\"M18.56 5.44l.94 2.06.94-2.06 2.06-.94-2.06-.94-.94-2.06-.94 2.06-2.06.94zm-11 1L8.5 8.5l.94-2.06 2.06-.94-2.06-.94L8.5 2.5l-.94 2.06-2.06.94zm10 10l.94 2.06.94-2.06 2.06-.94-2.06-.94-.94-2.06-.94 2.06-2.06.94z\"/><path d=\"M17.41 7.96l-1.37-1.37c-.4-.4-.92-.59-1.43-.59-.52 0-1.04.2-1.43.59L10.3 9.45l-7.72 7.72c-.78.78-.78 2.05 0 2.83L4 21.41c.39.39.9.59 1.41.59.51 0 1.02-.2 1.41-.59l7.78-7.78 2.81-2.81c.8-.78.8-2.07 0-2.86zM5.41 20L4 18.59l7.72-7.72 1.47 1.35L5.41 20z\"/>\n",
              "  </svg>\n",
              "      </button>\n",
              "\n",
              "\n",
              "\n",
              "    <div id=\"df-a44d8474-e149-4b5a-ad9e-c0b04bb9fcd6\">\n",
              "      <button class=\"colab-df-quickchart\" onclick=\"quickchart('df-a44d8474-e149-4b5a-ad9e-c0b04bb9fcd6')\"\n",
              "              title=\"Suggest charts.\"\n",
              "              style=\"display:none;\">\n",
              "\n",
              "<svg xmlns=\"http://www.w3.org/2000/svg\" height=\"24px\"viewBox=\"0 0 24 24\"\n",
              "     width=\"24px\">\n",
              "    <g>\n",
              "        <path d=\"M19 3H5c-1.1 0-2 .9-2 2v14c0 1.1.9 2 2 2h14c1.1 0 2-.9 2-2V5c0-1.1-.9-2-2-2zM9 17H7v-7h2v7zm4 0h-2V7h2v10zm4 0h-2v-4h2v4z\"/>\n",
              "    </g>\n",
              "</svg>\n",
              "      </button>\n",
              "    </div>\n",
              "\n",
              "<style>\n",
              "  .colab-df-quickchart {\n",
              "    background-color: #E8F0FE;\n",
              "    border: none;\n",
              "    border-radius: 50%;\n",
              "    cursor: pointer;\n",
              "    display: none;\n",
              "    fill: #1967D2;\n",
              "    height: 32px;\n",
              "    padding: 0 0 0 0;\n",
              "    width: 32px;\n",
              "  }\n",
              "\n",
              "  .colab-df-quickchart:hover {\n",
              "    background-color: #E2EBFA;\n",
              "    box-shadow: 0px 1px 2px rgba(60, 64, 67, 0.3), 0px 1px 3px 1px rgba(60, 64, 67, 0.15);\n",
              "    fill: #174EA6;\n",
              "  }\n",
              "\n",
              "  [theme=dark] .colab-df-quickchart {\n",
              "    background-color: #3B4455;\n",
              "    fill: #D2E3FC;\n",
              "  }\n",
              "\n",
              "  [theme=dark] .colab-df-quickchart:hover {\n",
              "    background-color: #434B5C;\n",
              "    box-shadow: 0px 1px 3px 1px rgba(0, 0, 0, 0.15);\n",
              "    filter: drop-shadow(0px 1px 2px rgba(0, 0, 0, 0.3));\n",
              "    fill: #FFFFFF;\n",
              "  }\n",
              "</style>\n",
              "\n",
              "    <script>\n",
              "      async function quickchart(key) {\n",
              "        const containerElement = document.querySelector('#' + key);\n",
              "        const charts = await google.colab.kernel.invokeFunction(\n",
              "            'suggestCharts', [key], {});\n",
              "      }\n",
              "    </script>\n",
              "\n",
              "      <script>\n",
              "\n",
              "function displayQuickchartButton(domScope) {\n",
              "  let quickchartButtonEl =\n",
              "    domScope.querySelector('#df-a44d8474-e149-4b5a-ad9e-c0b04bb9fcd6 button.colab-df-quickchart');\n",
              "  quickchartButtonEl.style.display =\n",
              "    google.colab.kernel.accessAllowed ? 'block' : 'none';\n",
              "}\n",
              "\n",
              "        displayQuickchartButton(document);\n",
              "      </script>\n",
              "      <style>\n",
              "    .colab-df-container {\n",
              "      display:flex;\n",
              "      flex-wrap:wrap;\n",
              "      gap: 12px;\n",
              "    }\n",
              "\n",
              "    .colab-df-convert {\n",
              "      background-color: #E8F0FE;\n",
              "      border: none;\n",
              "      border-radius: 50%;\n",
              "      cursor: pointer;\n",
              "      display: none;\n",
              "      fill: #1967D2;\n",
              "      height: 32px;\n",
              "      padding: 0 0 0 0;\n",
              "      width: 32px;\n",
              "    }\n",
              "\n",
              "    .colab-df-convert:hover {\n",
              "      background-color: #E2EBFA;\n",
              "      box-shadow: 0px 1px 2px rgba(60, 64, 67, 0.3), 0px 1px 3px 1px rgba(60, 64, 67, 0.15);\n",
              "      fill: #174EA6;\n",
              "    }\n",
              "\n",
              "    [theme=dark] .colab-df-convert {\n",
              "      background-color: #3B4455;\n",
              "      fill: #D2E3FC;\n",
              "    }\n",
              "\n",
              "    [theme=dark] .colab-df-convert:hover {\n",
              "      background-color: #434B5C;\n",
              "      box-shadow: 0px 1px 3px 1px rgba(0, 0, 0, 0.15);\n",
              "      filter: drop-shadow(0px 1px 2px rgba(0, 0, 0, 0.3));\n",
              "      fill: #FFFFFF;\n",
              "    }\n",
              "  </style>\n",
              "\n",
              "      <script>\n",
              "        const buttonEl =\n",
              "          document.querySelector('#df-740fa159-e86a-4f8d-8028-30f8babffe9f button.colab-df-convert');\n",
              "        buttonEl.style.display =\n",
              "          google.colab.kernel.accessAllowed ? 'block' : 'none';\n",
              "\n",
              "        async function convertToInteractive(key) {\n",
              "          const element = document.querySelector('#df-740fa159-e86a-4f8d-8028-30f8babffe9f');\n",
              "          const dataTable =\n",
              "            await google.colab.kernel.invokeFunction('convertToInteractive',\n",
              "                                                     [key], {});\n",
              "          if (!dataTable) return;\n",
              "\n",
              "          const docLinkHtml = 'Like what you see? Visit the ' +\n",
              "            '<a target=\"_blank\" href=https://colab.research.google.com/notebooks/data_table.ipynb>data table notebook</a>'\n",
              "            + ' to learn more about interactive tables.';\n",
              "          element.innerHTML = '';\n",
              "          dataTable['output_type'] = 'display_data';\n",
              "          await google.colab.output.renderOutput(dataTable, element);\n",
              "          const docLink = document.createElement('div');\n",
              "          docLink.innerHTML = docLinkHtml;\n",
              "          element.appendChild(docLink);\n",
              "        }\n",
              "      </script>\n",
              "    </div>\n",
              "  </div>\n"
            ]
          },
          "metadata": {},
          "execution_count": 10
        }
      ]
    },
    {
      "cell_type": "markdown",
      "source": [
        "Ejemplo de geocoder"
      ],
      "metadata": {
        "id": "OUggS44GG_0U"
      }
    },
    {
      "cell_type": "code",
      "source": [
        "geocoderesults=geocoder.arcgis(\"RIVADAVIA 3500, Ciudad de Buenos Aires\")"
      ],
      "metadata": {
        "id": "s-ncJv0_9hfw"
      },
      "execution_count": 12,
      "outputs": []
    },
    {
      "cell_type": "code",
      "source": [
        "geocoderesults.json['address']"
      ],
      "metadata": {
        "colab": {
          "base_uri": "https://localhost:8080/",
          "height": 35
        },
        "id": "AHAfgsj_97bG",
        "outputId": "a4244804-1c44-455a-b015-1387e1c768d2"
      },
      "execution_count": 13,
      "outputs": [
        {
          "output_type": "execute_result",
          "data": {
            "text/plain": [
              "'Avenida Rivadavia 3500, Almagro, Ciudad de Buenos Aires, C1203, Ciudad Autónoma de Buenos Aires'"
            ],
            "application/vnd.google.colaboratory.intrinsic+json": {
              "type": "string"
            }
          },
          "metadata": {},
          "execution_count": 13
        }
      ]
    },
    {
      "cell_type": "code",
      "source": [
        "geocoderesults.json['lat']\n"
      ],
      "metadata": {
        "colab": {
          "base_uri": "https://localhost:8080/"
        },
        "id": "nM9Fhxa6984q",
        "outputId": "8b08d8ba-779b-4d87-e9d6-4e8bdf07931c"
      },
      "execution_count": 14,
      "outputs": [
        {
          "output_type": "execute_result",
          "data": {
            "text/plain": [
              "-34.61090001026676"
            ]
          },
          "metadata": {},
          "execution_count": 14
        }
      ]
    },
    {
      "cell_type": "code",
      "source": [
        "geocoderesults.json['lng']"
      ],
      "metadata": {
        "colab": {
          "base_uri": "https://localhost:8080/"
        },
        "id": "BM8Hg60b-B37",
        "outputId": "a7aa4649-6b32-4cac-e381-846dec3cfe4e"
      },
      "execution_count": 15,
      "outputs": [
        {
          "output_type": "execute_result",
          "data": {
            "text/plain": [
              "-58.41569999159114"
            ]
          },
          "metadata": {},
          "execution_count": 15
        }
      ]
    },
    {
      "cell_type": "markdown",
      "source": [
        "Implementamos la geocodificación solo para los registros de dirección con altura"
      ],
      "metadata": {
        "id": "eiuCdEUQHECc"
      }
    },
    {
      "cell_type": "code",
      "source": [
        "terrenos['Contiene_altura'] = terrenos['DIRECCION'].str.contains('\\d', regex=True)"
      ],
      "metadata": {
        "id": "T9UTRD8CBHiE"
      },
      "execution_count": 20,
      "outputs": []
    },
    {
      "cell_type": "code",
      "source": [
        "print(\"Nro. direcciones sin altura:\", terrenos.loc[terrenos['Contiene_altura']==False].shape[0])"
      ],
      "metadata": {
        "colab": {
          "base_uri": "https://localhost:8080/"
        },
        "id": "esfxEVI6BPFD",
        "outputId": "3a0249cc-cbf3-404e-dc72-98d9b7b681bc"
      },
      "execution_count": 26,
      "outputs": [
        {
          "output_type": "stream",
          "name": "stdout",
          "text": [
            "Nro. direcciones sin altura: 6259\n"
          ]
        }
      ]
    },
    {
      "cell_type": "code",
      "source": [
        "terrenos=terrenos.loc[terrenos['Contiene_altura']==True]"
      ],
      "metadata": {
        "id": "c9nE1U2FBdZE"
      },
      "execution_count": 28,
      "outputs": []
    },
    {
      "cell_type": "markdown",
      "source": [
        "Implementamos la geocoficación para cada terreno. Guardamos las coordenadas en las columnas lat y lng y del dataframe de terrenos.\n",
        "\n",
        "Nota: Los resultados de la geocodificacion los guaradaremos tambien en un diccionario (de acuerdo al indice de la fila). Ver más abajo.\n",
        "\n",
        "Nota 2: Este proceso puede demorar mucho tiempo, de acuerdo al numero de registros para geocodificar"
      ],
      "metadata": {
        "id": "533KHPmaHRum"
      }
    },
    {
      "cell_type": "code",
      "source": [
        "resultsdict={}\n",
        "\n",
        "for index, row in terrenos.iterrows():\n",
        "  print(index)\n",
        "  direccion_a_geocodificar=row['DIRECCION']+', CIUDAD DE BUENOS AIRES'\n",
        "  geocoderesults=geocoder.arcgis(direccion_a_geocodificar)\n",
        "  resultsdict[index]=geocoderesults\n",
        "  terrenos.at[index,'lat']=geocoderesults.json['lat']\n",
        "  terrenos.at[index,'lng']=geocoderesults.json['lng']\n",
        "\n"
      ],
      "metadata": {
        "id": "6ZBG_tnn_2_k"
      },
      "execution_count": null,
      "outputs": []
    },
    {
      "cell_type": "markdown",
      "source": [
        "Hasta aqui trabajamos con el dataframe de terrenos. Usando las coordenadas, ahora definimos un geodataframe (un elemento de geopandas). Esto nos permitirá usar los metodos espaciales."
      ],
      "metadata": {
        "id": "vIR_B5veKKbj"
      }
    },
    {
      "cell_type": "code",
      "source": [
        "gdf = gpd.GeoDataFrame(\n",
        "    terrenos, geometry=gpd.points_from_xy(terrenos['lng'], terrenos['lat']), crs=\"EPSG:4326\"\n",
        ")"
      ],
      "metadata": {
        "id": "Q5HQ1LieHjdb"
      },
      "execution_count": 38,
      "outputs": []
    },
    {
      "cell_type": "markdown",
      "source": [
        "Una primera inspección del ploteo por coordenadas nos permite ver que algunos terrenos no fueron geocodificados correctamente"
      ],
      "metadata": {
        "id": "RFAVbg-dKmTi"
      }
    },
    {
      "cell_type": "code",
      "source": [
        "gdf.plot()"
      ],
      "metadata": {
        "colab": {
          "base_uri": "https://localhost:8080/",
          "height": 448
        },
        "id": "Xo-C7LDHKjtJ",
        "outputId": "0fc1ec6f-7b74-4f50-a85a-0e65308af157"
      },
      "execution_count": 47,
      "outputs": [
        {
          "output_type": "execute_result",
          "data": {
            "text/plain": [
              "<Axes: >"
            ]
          },
          "metadata": {},
          "execution_count": 47
        },
        {
          "output_type": "display_data",
          "data": {
            "text/plain": [
              "<Figure size 640x480 with 1 Axes>"
            ],
            "image/png": "[encoded data removed]"
          },
          "metadata": {}
        }
      ]
    },
    {
      "cell_type": "code",
      "source": [
        "gdf.loc[(gdf.lng>-58.6)&(gdf.lat>-34.8)].plot()"
      ],
      "metadata": {
        "colab": {
          "base_uri": "https://localhost:8080/",
          "height": 448
        },
        "id": "TjpOshz5H_q4",
        "outputId": "cb3c8fdd-e19a-453c-d39e-347fae337fb9"
      },
      "execution_count": 46,
      "outputs": [
        {
          "output_type": "execute_result",
          "data": {
            "text/plain": [
              "<Axes: >"
            ]
          },
          "metadata": {},
          "execution_count": 46
        },
        {
          "output_type": "display_data",
          "data": {
            "text/plain": [
              "<Figure size 640x480 with 1 Axes>"
            ],
            "image/png": "[encoded data removed]"
          },
          "metadata": {}
        }
      ]
    },
    {
      "cell_type": "markdown",
      "source": [
        "El proceso de geocodificacion trae más información que nos podría servir para validar los resultados. Un proceso de validacion podria implementarse a partir de verificar la correspondencia con el barrio/comuna, etc. (no lo hacemos aqui)."
      ],
      "metadata": {
        "id": "7-25QJwHMOp0"
      }
    },
    {
      "cell_type": "code",
      "source": [
        "terrenos.iloc[0]"
      ],
      "metadata": {
        "colab": {
          "base_uri": "https://localhost:8080/"
        },
        "id": "hKU3DR4MK94d",
        "outputId": "97393753-3478-489f-8436-19a5dc9d91e2"
      },
      "execution_count": 50,
      "outputs": [
        {
          "output_type": "execute_result",
          "data": {
            "text/plain": [
              "DIRECCION          RIVADAVIA 3500\n",
              "PROPIEDADS                    190\n",
              "PRECIOUSD                  150000\n",
              "PRECIOPESO               12000000\n",
              "DOLARM2                       790\n",
              "PESOSM2                     63158\n",
              "COTIZACION                     80\n",
              "TRIMESTRE_                 CUARTO\n",
              "BARRIO                    ALMAGRO\n",
              "COMUNA_                         5\n",
              "Contiene_altura              True\n",
              "lat                      -34.6109\n",
              "lng                      -58.4157\n",
              "Name: 0, dtype: object"
            ]
          },
          "metadata": {},
          "execution_count": 50
        }
      ]
    },
    {
      "cell_type": "code",
      "source": [
        "resultsdict[0].geojson"
      ],
      "metadata": {
        "colab": {
          "base_uri": "https://localhost:8080/"
        },
        "id": "9g2DhAffK5vL",
        "outputId": "2e670e82-641e-499b-b123-ed11b10ef29e"
      },
      "execution_count": 56,
      "outputs": [
        {
          "output_type": "execute_result",
          "data": {
            "text/plain": [
              "{'type': 'FeatureCollection',\n",
              " 'features': [{'type': 'Feature',\n",
              "   'properties': {'address': 'Avenida Rivadavia 3500, Almagro, Ciudad de Buenos Aires, C1203, Ciudad Autónoma de Buenos Aires',\n",
              "    'bbox': [-58.416699991591,\n",
              "     -34.611900010267,\n",
              "     -58.414699991591,\n",
              "     -34.609900010267],\n",
              "    'confidence': 9,\n",
              "    'lat': -34.61090001026676,\n",
              "    'lng': -58.41569999159114,\n",
              "    'ok': True,\n",
              "    'quality': 'PointAddress',\n",
              "    'raw': {'name': 'Avenida Rivadavia 3500, Almagro, Ciudad de Buenos Aires, C1203, Ciudad Autónoma de Buenos Aires',\n",
              "     'extent': {'xmin': -58.416699991591,\n",
              "      'ymin': -34.611900010267,\n",
              "      'xmax': -58.414699991591,\n",
              "      'ymax': -34.609900010267},\n",
              "     'feature': {'geometry': {'x': -58.41569999159114,\n",
              "       'y': -34.61090001026676},\n",
              "      'attributes': {'Score': 98.21, 'Addr_Type': 'PointAddress'}}},\n",
              "    'score': 98.21,\n",
              "    'status': 'OK'},\n",
              "   'bbox': [-58.416699991591,\n",
              "    -34.611900010267,\n",
              "    -58.414699991591,\n",
              "    -34.609900010267],\n",
              "   'geometry': {'type': 'Point',\n",
              "    'coordinates': [-58.41569999159114, -34.61090001026676]}}]}"
            ]
          },
          "metadata": {},
          "execution_count": 56
        }
      ]
    }
  ]
}