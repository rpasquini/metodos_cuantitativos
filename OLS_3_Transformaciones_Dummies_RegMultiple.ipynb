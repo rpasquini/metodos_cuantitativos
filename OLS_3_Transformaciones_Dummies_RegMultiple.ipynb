{
  "nbformat": 4,
  "nbformat_minor": 0,
  "metadata": {
    "colab": {
      "name": "OLS 3  Transformaciones Dummies RegMultiple.ipynb",
      "provenance": [],
      "authorship_tag": "ABX9TyMMxf9Q7p8viebjWXkZDQLE",
      "include_colab_link": true
    },
    "kernelspec": {
      "name": "python3",
      "display_name": "Python 3"
    }
  },
  "cells": [
    {
      "cell_type": "markdown",
      "metadata": {
        "id": "view-in-github",
        "colab_type": "text"
      },
      "source": [
        "<a href=\"https://colab.research.google.com/github/rpasquini/metodos_cuantitativos_2022/blob/main/OLS_3_Transformaciones_Dummies_RegMultiple.ipynb\" target=\"_parent\"><img src=\"https://colab.research.google.com/assets/colab-badge.svg\" alt=\"Open In Colab\"/></a>"
      ]
    },
    {
      "cell_type": "markdown",
      "metadata": {
        "id": "C_-V1RftUVBd"
      },
      "source": [
        "_author: Ricardo Pasquini (rpasquini@gmail.com)"
      ]
    },
    {
      "cell_type": "markdown",
      "metadata": {
        "id": "DFnL5IYFUy50"
      },
      "source": [
        "En este notebook evaluaremos la transformación de la variable a explicar (transformación logarítmica), y exploraremos los efectos de la inclusión de variables explicativas adicionales. "
      ]
    },
    {
      "cell_type": "markdown",
      "metadata": {
        "id": "Z9btYszcZQUG"
      },
      "source": [
        "# Instalacion e Importacion de Librerias\n",
        "\n"
      ]
    },
    {
      "cell_type": "code",
      "metadata": {
        "id": "SxZmS_w7V6Vf",
        "colab": {
          "base_uri": "https://localhost:8080/"
        },
        "outputId": "9e86bf28-9479-4bef-9363-1a4a129767a9"
      },
      "source": [
        "!pip install geopandas"
      ],
      "execution_count": 2,
      "outputs": [
        {
          "output_type": "stream",
          "name": "stdout",
          "text": [
            "Looking in indexes: https://pypi.org/simple, https://us-python.pkg.dev/colab-wheels/public/simple/\n",
            "Requirement already satisfied: geopandas in /usr/local/lib/python3.7/dist-packages (0.10.2)\n",
            "Requirement already satisfied: shapely>=1.6 in /usr/local/lib/python3.7/dist-packages (from geopandas) (1.8.2)\n",
            "Requirement already satisfied: pyproj>=2.2.0 in /usr/local/lib/python3.7/dist-packages (from geopandas) (3.2.1)\n",
            "Requirement already satisfied: pandas>=0.25.0 in /usr/local/lib/python3.7/dist-packages (from geopandas) (1.3.5)\n",
            "Requirement already satisfied: fiona>=1.8 in /usr/local/lib/python3.7/dist-packages (from geopandas) (1.8.21)\n",
            "Requirement already satisfied: cligj>=0.5 in /usr/local/lib/python3.7/dist-packages (from fiona>=1.8->geopandas) (0.7.2)\n",
            "Requirement already satisfied: click>=4.0 in /usr/local/lib/python3.7/dist-packages (from fiona>=1.8->geopandas) (7.1.2)\n",
            "Requirement already satisfied: certifi in /usr/local/lib/python3.7/dist-packages (from fiona>=1.8->geopandas) (2022.6.15)\n",
            "Requirement already satisfied: six>=1.7 in /usr/local/lib/python3.7/dist-packages (from fiona>=1.8->geopandas) (1.15.0)\n",
            "Requirement already satisfied: click-plugins>=1.0 in /usr/local/lib/python3.7/dist-packages (from fiona>=1.8->geopandas) (1.1.1)\n",
            "Requirement already satisfied: attrs>=17 in /usr/local/lib/python3.7/dist-packages (from fiona>=1.8->geopandas) (21.4.0)\n",
            "Requirement already satisfied: munch in /usr/local/lib/python3.7/dist-packages (from fiona>=1.8->geopandas) (2.5.0)\n",
            "Requirement already satisfied: setuptools in /usr/local/lib/python3.7/dist-packages (from fiona>=1.8->geopandas) (57.4.0)\n",
            "Requirement already satisfied: numpy>=1.17.3 in /usr/local/lib/python3.7/dist-packages (from pandas>=0.25.0->geopandas) (1.21.6)\n",
            "Requirement already satisfied: pytz>=2017.3 in /usr/local/lib/python3.7/dist-packages (from pandas>=0.25.0->geopandas) (2022.1)\n",
            "Requirement already satisfied: python-dateutil>=2.7.3 in /usr/local/lib/python3.7/dist-packages (from pandas>=0.25.0->geopandas) (2.8.2)\n"
          ]
        }
      ]
    },
    {
      "cell_type": "code",
      "metadata": {
        "id": "LCcoP1VK-HLp",
        "colab": {
          "base_uri": "https://localhost:8080/"
        },
        "outputId": "3ed7c1e9-8a15-4290-833b-339b447a8b6e"
      },
      "source": [
        "import geopandas as gpd\n",
        "import pandas as pd\n",
        "import statsmodels.api as sm\n",
        "import matplotlib.pyplot as plt\n",
        "import numpy as np"
      ],
      "execution_count": 3,
      "outputs": [
        {
          "output_type": "stream",
          "name": "stderr",
          "text": [
            "/usr/local/lib/python3.7/dist-packages/statsmodels/tools/_testing.py:19: FutureWarning: pandas.util.testing is deprecated. Use the functions in the public API at pandas.testing instead.\n",
            "  import pandas.util.testing as tm\n"
          ]
        }
      ]
    },
    {
      "cell_type": "code",
      "metadata": {
        "id": "kw48nIz4COfL"
      },
      "source": [
        "departamentos=gpd.GeoDataFrame.from_file(\"https://github.com/rpasquini/urban-econometrics/blob/master/data/departamentos2019amba.zip?raw=true\")"
      ],
      "execution_count": 4,
      "outputs": []
    },
    {
      "cell_type": "code",
      "metadata": {
        "id": "14dk5Wf0dKB1",
        "colab": {
          "base_uri": "https://localhost:8080/",
          "height": 560
        },
        "outputId": "d442e862-2e95-4c62-da70-a48b8df5dfad"
      },
      "source": [
        "departamentos.head()"
      ],
      "execution_count": 5,
      "outputs": [
        {
          "output_type": "execute_result",
          "data": {
            "text/plain": [
              "   bathrooms  bedrooms    country  created_on currency  \\\n",
              "0        1.0       1.0  Argentina  2019-09-26      ARS   \n",
              "1        3.0       NaN  Argentina  2019-09-26      ARS   \n",
              "2        1.0       2.0  Argentina  2019-09-26      ARS   \n",
              "3        NaN       NaN  Argentina  2019-09-26      ARS   \n",
              "4        1.0       1.0  Argentina  2019-09-26      ARS   \n",
              "\n",
              "                                          descriptio developmen    end_date  \\\n",
              "0  CODIGO: 1819-CRI180 ubicado en: Av. Callao 180...       None  2019-10-10   \n",
              "1  Residencia de estudiantes y viajeros. Son dos ...       None  2019-11-04   \n",
              "2  CODIGO: 1348-AF021227 ubicado en: Tacuari 263 ...       None  2019-09-28   \n",
              "3  Departamento de dos ambientes a 200 metros de ...       None  2020-02-12   \n",
              "4  CODIGO: 733-1600MARIANOA ubicado en: MARIANO A...       None  2019-11-10   \n",
              "\n",
              "   index         l1  ...  price price_peri rooms  start_date surface_co  \\\n",
              "0      0  Argentina  ...  18000    Mensual   NaN  2019-09-26         52   \n",
              "1      1  Argentina  ...  45000    Mensual   NaN  2019-09-26        219   \n",
              "2      2  Argentina  ...  18500    Mensual   NaN  2019-09-26         61   \n",
              "3      4  Argentina  ...  11000    Mensual   NaN  2019-09-26         38   \n",
              "4      5  Argentina  ...  18500    Mensual   NaN  2019-09-26         39   \n",
              "\n",
              "   surface_to                                              title  \\\n",
              "0          58  Recoleta. Av. Callao y Av. Alvear. Piso alto. ...   \n",
              "1         219                           Departamento - Balvanera   \n",
              "2          67  3 ambientes con patio 61 m2 propios bajas expe...   \n",
              "3          38                           Departamento - San Justo   \n",
              "4          49  EXCELENTE DEPARTAMENTO 2 AMB CON PATIO 49 MTS ...   \n",
              "\n",
              "           type     type_i18n                       geometry  \n",
              "0  Departamento  Departamento  POINT (106827.294 104558.628)  \n",
              "1  Departamento  Departamento  POINT (106347.880 102524.692)  \n",
              "2  Departamento  Departamento  POINT (107658.254 102034.095)  \n",
              "3  Departamento  Departamento    POINT (91709.240 94331.755)  \n",
              "4  Departamento  Departamento   POINT (99129.692 105739.092)  \n",
              "\n",
              "[5 rows x 29 columns]"
            ],
            "text/html": [
              "\n",
              "  <div id=\"df-afa8868e-1fa4-453a-95f0-975fbaefb10f\">\n",
              "    <div class=\"colab-df-container\">\n",
              "      <div>\n",
              "<style scoped>\n",
              "    .dataframe tbody tr th:only-of-type {\n",
              "        vertical-align: middle;\n",
              "    }\n",
              "\n",
              "    .dataframe tbody tr th {\n",
              "        vertical-align: top;\n",
              "    }\n",
              "\n",
              "    .dataframe thead th {\n",
              "        text-align: right;\n",
              "    }\n",
              "</style>\n",
              "<table border=\"1\" class=\"dataframe\">\n",
              "  <thead>\n",
              "    <tr style=\"text-align: right;\">\n",
              "      <th></th>\n",
              "      <th>bathrooms</th>\n",
              "      <th>bedrooms</th>\n",
              "      <th>country</th>\n",
              "      <th>created_on</th>\n",
              "      <th>currency</th>\n",
              "      <th>descriptio</th>\n",
              "      <th>developmen</th>\n",
              "      <th>end_date</th>\n",
              "      <th>index</th>\n",
              "      <th>l1</th>\n",
              "      <th>...</th>\n",
              "      <th>price</th>\n",
              "      <th>price_peri</th>\n",
              "      <th>rooms</th>\n",
              "      <th>start_date</th>\n",
              "      <th>surface_co</th>\n",
              "      <th>surface_to</th>\n",
              "      <th>title</th>\n",
              "      <th>type</th>\n",
              "      <th>type_i18n</th>\n",
              "      <th>geometry</th>\n",
              "    </tr>\n",
              "  </thead>\n",
              "  <tbody>\n",
              "    <tr>\n",
              "      <th>0</th>\n",
              "      <td>1.0</td>\n",
              "      <td>1.0</td>\n",
              "      <td>Argentina</td>\n",
              "      <td>2019-09-26</td>\n",
              "      <td>ARS</td>\n",
              "      <td>CODIGO: 1819-CRI180 ubicado en: Av. Callao 180...</td>\n",
              "      <td>None</td>\n",
              "      <td>2019-10-10</td>\n",
              "      <td>0</td>\n",
              "      <td>Argentina</td>\n",
              "      <td>...</td>\n",
              "      <td>18000</td>\n",
              "      <td>Mensual</td>\n",
              "      <td>NaN</td>\n",
              "      <td>2019-09-26</td>\n",
              "      <td>52</td>\n",
              "      <td>58</td>\n",
              "      <td>Recoleta. Av. Callao y Av. Alvear. Piso alto. ...</td>\n",
              "      <td>Departamento</td>\n",
              "      <td>Departamento</td>\n",
              "      <td>POINT (106827.294 104558.628)</td>\n",
              "    </tr>\n",
              "    <tr>\n",
              "      <th>1</th>\n",
              "      <td>3.0</td>\n",
              "      <td>NaN</td>\n",
              "      <td>Argentina</td>\n",
              "      <td>2019-09-26</td>\n",
              "      <td>ARS</td>\n",
              "      <td>Residencia de estudiantes y viajeros. Son dos ...</td>\n",
              "      <td>None</td>\n",
              "      <td>2019-11-04</td>\n",
              "      <td>1</td>\n",
              "      <td>Argentina</td>\n",
              "      <td>...</td>\n",
              "      <td>45000</td>\n",
              "      <td>Mensual</td>\n",
              "      <td>NaN</td>\n",
              "      <td>2019-09-26</td>\n",
              "      <td>219</td>\n",
              "      <td>219</td>\n",
              "      <td>Departamento - Balvanera</td>\n",
              "      <td>Departamento</td>\n",
              "      <td>Departamento</td>\n",
              "      <td>POINT (106347.880 102524.692)</td>\n",
              "    </tr>\n",
              "    <tr>\n",
              "      <th>2</th>\n",
              "      <td>1.0</td>\n",
              "      <td>2.0</td>\n",
              "      <td>Argentina</td>\n",
              "      <td>2019-09-26</td>\n",
              "      <td>ARS</td>\n",
              "      <td>CODIGO: 1348-AF021227 ubicado en: Tacuari 263 ...</td>\n",
              "      <td>None</td>\n",
              "      <td>2019-09-28</td>\n",
              "      <td>2</td>\n",
              "      <td>Argentina</td>\n",
              "      <td>...</td>\n",
              "      <td>18500</td>\n",
              "      <td>Mensual</td>\n",
              "      <td>NaN</td>\n",
              "      <td>2019-09-26</td>\n",
              "      <td>61</td>\n",
              "      <td>67</td>\n",
              "      <td>3 ambientes con patio 61 m2 propios bajas expe...</td>\n",
              "      <td>Departamento</td>\n",
              "      <td>Departamento</td>\n",
              "      <td>POINT (107658.254 102034.095)</td>\n",
              "    </tr>\n",
              "    <tr>\n",
              "      <th>3</th>\n",
              "      <td>NaN</td>\n",
              "      <td>NaN</td>\n",
              "      <td>Argentina</td>\n",
              "      <td>2019-09-26</td>\n",
              "      <td>ARS</td>\n",
              "      <td>Departamento de dos ambientes a 200 metros de ...</td>\n",
              "      <td>None</td>\n",
              "      <td>2020-02-12</td>\n",
              "      <td>4</td>\n",
              "      <td>Argentina</td>\n",
              "      <td>...</td>\n",
              "      <td>11000</td>\n",
              "      <td>Mensual</td>\n",
              "      <td>NaN</td>\n",
              "      <td>2019-09-26</td>\n",
              "      <td>38</td>\n",
              "      <td>38</td>\n",
              "      <td>Departamento - San Justo</td>\n",
              "      <td>Departamento</td>\n",
              "      <td>Departamento</td>\n",
              "      <td>POINT (91709.240 94331.755)</td>\n",
              "    </tr>\n",
              "    <tr>\n",
              "      <th>4</th>\n",
              "      <td>1.0</td>\n",
              "      <td>1.0</td>\n",
              "      <td>Argentina</td>\n",
              "      <td>2019-09-26</td>\n",
              "      <td>ARS</td>\n",
              "      <td>CODIGO: 733-1600MARIANOA ubicado en: MARIANO A...</td>\n",
              "      <td>None</td>\n",
              "      <td>2019-11-10</td>\n",
              "      <td>5</td>\n",
              "      <td>Argentina</td>\n",
              "      <td>...</td>\n",
              "      <td>18500</td>\n",
              "      <td>Mensual</td>\n",
              "      <td>NaN</td>\n",
              "      <td>2019-09-26</td>\n",
              "      <td>39</td>\n",
              "      <td>49</td>\n",
              "      <td>EXCELENTE DEPARTAMENTO 2 AMB CON PATIO 49 MTS ...</td>\n",
              "      <td>Departamento</td>\n",
              "      <td>Departamento</td>\n",
              "      <td>POINT (99129.692 105739.092)</td>\n",
              "    </tr>\n",
              "  </tbody>\n",
              "</table>\n",
              "<p>5 rows × 29 columns</p>\n",
              "</div>\n",
              "      <button class=\"colab-df-convert\" onclick=\"convertToInteractive('df-afa8868e-1fa4-453a-95f0-975fbaefb10f')\"\n",
              "              title=\"Convert this dataframe to an interactive table.\"\n",
              "              style=\"display:none;\">\n",
              "        \n",
              "  <svg xmlns=\"http://www.w3.org/2000/svg\" height=\"24px\"viewBox=\"0 0 24 24\"\n",
              "       width=\"24px\">\n",
              "    <path d=\"M0 0h24v24H0V0z\" fill=\"none\"/>\n",
              "    <path d=\"M18.56 5.44l.94 2.06.94-2.06 2.06-.94-2.06-.94-.94-2.06-.94 2.06-2.06.94zm-11 1L8.5 8.5l.94-2.06 2.06-.94-2.06-.94L8.5 2.5l-.94 2.06-2.06.94zm10 10l.94 2.06.94-2.06 2.06-.94-2.06-.94-.94-2.06-.94 2.06-2.06.94z\"/><path d=\"M17.41 7.96l-1.37-1.37c-.4-.4-.92-.59-1.43-.59-.52 0-1.04.2-1.43.59L10.3 9.45l-7.72 7.72c-.78.78-.78 2.05 0 2.83L4 21.41c.39.39.9.59 1.41.59.51 0 1.02-.2 1.41-.59l7.78-7.78 2.81-2.81c.8-.78.8-2.07 0-2.86zM5.41 20L4 18.59l7.72-7.72 1.47 1.35L5.41 20z\"/>\n",
              "  </svg>\n",
              "      </button>\n",
              "      \n",
              "  <style>\n",
              "    .colab-df-container {\n",
              "      display:flex;\n",
              "      flex-wrap:wrap;\n",
              "      gap: 12px;\n",
              "    }\n",
              "\n",
              "    .colab-df-convert {\n",
              "      background-color: #E8F0FE;\n",
              "      border: none;\n",
              "      border-radius: 50%;\n",
              "      cursor: pointer;\n",
              "      display: none;\n",
              "      fill: #1967D2;\n",
              "      height: 32px;\n",
              "      padding: 0 0 0 0;\n",
              "      width: 32px;\n",
              "    }\n",
              "\n",
              "    .colab-df-convert:hover {\n",
              "      background-color: #E2EBFA;\n",
              "      box-shadow: 0px 1px 2px rgba(60, 64, 67, 0.3), 0px 1px 3px 1px rgba(60, 64, 67, 0.15);\n",
              "      fill: #174EA6;\n",
              "    }\n",
              "\n",
              "    [theme=dark] .colab-df-convert {\n",
              "      background-color: #3B4455;\n",
              "      fill: #D2E3FC;\n",
              "    }\n",
              "\n",
              "    [theme=dark] .colab-df-convert:hover {\n",
              "      background-color: #434B5C;\n",
              "      box-shadow: 0px 1px 3px 1px rgba(0, 0, 0, 0.15);\n",
              "      filter: drop-shadow(0px 1px 2px rgba(0, 0, 0, 0.3));\n",
              "      fill: #FFFFFF;\n",
              "    }\n",
              "  </style>\n",
              "\n",
              "      <script>\n",
              "        const buttonEl =\n",
              "          document.querySelector('#df-afa8868e-1fa4-453a-95f0-975fbaefb10f button.colab-df-convert');\n",
              "        buttonEl.style.display =\n",
              "          google.colab.kernel.accessAllowed ? 'block' : 'none';\n",
              "\n",
              "        async function convertToInteractive(key) {\n",
              "          const element = document.querySelector('#df-afa8868e-1fa4-453a-95f0-975fbaefb10f');\n",
              "          const dataTable =\n",
              "            await google.colab.kernel.invokeFunction('convertToInteractive',\n",
              "                                                     [key], {});\n",
              "          if (!dataTable) return;\n",
              "\n",
              "          const docLinkHtml = 'Like what you see? Visit the ' +\n",
              "            '<a target=\"_blank\" href=https://colab.research.google.com/notebooks/data_table.ipynb>data table notebook</a>'\n",
              "            + ' to learn more about interactive tables.';\n",
              "          element.innerHTML = '';\n",
              "          dataTable['output_type'] = 'display_data';\n",
              "          await google.colab.output.renderOutput(dataTable, element);\n",
              "          const docLink = document.createElement('div');\n",
              "          docLink.innerHTML = docLinkHtml;\n",
              "          element.appendChild(docLink);\n",
              "        }\n",
              "      </script>\n",
              "    </div>\n",
              "  </div>\n",
              "  "
            ]
          },
          "metadata": {},
          "execution_count": 5
        }
      ]
    },
    {
      "cell_type": "markdown",
      "metadata": {
        "id": "nMy_o6UyZZHc"
      },
      "source": [
        "# OLS\n",
        "\n",
        "Modelo:\n",
        "\n",
        "$price_i=\\beta_0+\\beta_1*bedrooms_i+\\epsilon_i$\n"
      ]
    },
    {
      "cell_type": "code",
      "source": [
        "def regress(listadevars, dataframe):\n",
        "  \"\"\" \n",
        "  Funcion que realiza la regresion OLS\n",
        "  listadevars es una lista de nombres de variables, comenzando por la dependiente, y el resto son las explicativas\n",
        "  dataframe es la base de datos\n",
        "  \"\"\"\n",
        "  datos=dataframe[listadevars]\n",
        "  # el metodo dropna() me permite eliminar las filas que tienen algun valor missing\n",
        "  datos=datos.dropna()\n",
        "  Y=datos[listadevars[0]]\n",
        "  X=datos[listadevars[1:]]\n",
        "  X=sm.add_constant(X)\n",
        "  modelo=sm.OLS(Y,X)\n",
        "  resultados=modelo.fit()\n",
        "  print(resultados.summary())\n",
        "  return resultados"
      ],
      "metadata": {
        "id": "8rLmr3Kxr0I5"
      },
      "execution_count": 6,
      "outputs": []
    },
    {
      "cell_type": "code",
      "source": [
        "resultsreg=regress(['price', 'bedrooms'],departamentos) "
      ],
      "metadata": {
        "colab": {
          "base_uri": "https://localhost:8080/"
        },
        "id": "g8cg8pXYsWHM",
        "outputId": "fd00bf42-c561-4d1a-f760-25d3daa7552e"
      },
      "execution_count": 7,
      "outputs": [
        {
          "output_type": "stream",
          "name": "stdout",
          "text": [
            "                            OLS Regression Results                            \n",
            "==============================================================================\n",
            "Dep. Variable:                  price   R-squared:                       0.049\n",
            "Model:                            OLS   Adj. R-squared:                  0.049\n",
            "Method:                 Least Squares   F-statistic:                     1443.\n",
            "Date:                Thu, 30 Jun 2022   Prob (F-statistic):          7.68e-308\n",
            "Time:                        17:54:35   Log-Likelihood:            -3.0876e+05\n",
            "No. Observations:               27879   AIC:                         6.175e+05\n",
            "Df Residuals:                   27877   BIC:                         6.175e+05\n",
            "Df Model:                           1                                         \n",
            "Covariance Type:            nonrobust                                         \n",
            "==============================================================================\n",
            "                 coef    std err          t      P>|t|      [0.025      0.975]\n",
            "------------------------------------------------------------------------------\n",
            "const       1.151e+04    205.145     56.088      0.000    1.11e+04    1.19e+04\n",
            "bedrooms    4253.5067    111.984     37.983      0.000    4034.013    4473.000\n",
            "==============================================================================\n",
            "Omnibus:                    39834.368   Durbin-Watson:                   1.851\n",
            "Prob(Omnibus):                  0.000   Jarque-Bera (JB):         59814269.062\n",
            "Skew:                           7.918   Prob(JB):                         0.00\n",
            "Kurtosis:                     229.365   Cond. No.                         5.02\n",
            "==============================================================================\n",
            "\n",
            "Warnings:\n",
            "[1] Standard Errors assume that the covariance matrix of the errors is correctly specified.\n"
          ]
        },
        {
          "output_type": "stream",
          "name": "stderr",
          "text": [
            "/usr/local/lib/python3.7/dist-packages/statsmodels/tsa/tsatools.py:117: FutureWarning: In a future version of pandas all arguments of concat except for the argument 'objs' will be keyword-only\n",
            "  x = pd.concat(x[::order], 1)\n"
          ]
        }
      ]
    },
    {
      "cell_type": "markdown",
      "metadata": {
        "id": "mozMJblUZcw2"
      },
      "source": [
        "# Histrograma de Errores Estimados\n"
      ]
    },
    {
      "cell_type": "markdown",
      "source": [
        "Predicción: \\\\\n",
        "\n",
        "$\\hat{price_i}=\\hat{\\beta_0}+\\hat{\\beta_1}*bedrooms_i$"
      ],
      "metadata": {
        "id": "NmD3i1ucuLQ5"
      }
    },
    {
      "cell_type": "code",
      "metadata": {
        "id": "7_KmOzPLZENr",
        "colab": {
          "base_uri": "https://localhost:8080/"
        },
        "outputId": "d28fb18e-3896-4faa-84ed-fa291aa82bfc"
      },
      "source": [
        "datos=departamentos[['price', 'bedrooms']].dropna()\n",
        "prediccion=1.151e+04+4253.5067*datos.bedrooms\n",
        "prediccion"
      ],
      "execution_count": 8,
      "outputs": [
        {
          "output_type": "execute_result",
          "data": {
            "text/plain": [
              "0        15763.5067\n",
              "2        20017.0134\n",
              "4        15763.5067\n",
              "43       15763.5067\n",
              "45       15763.5067\n",
              "            ...    \n",
              "50647    20017.0134\n",
              "50648    15763.5067\n",
              "50650    28524.0268\n",
              "50651    15763.5067\n",
              "50652    20017.0134\n",
              "Name: bedrooms, Length: 27879, dtype: float64"
            ]
          },
          "metadata": {},
          "execution_count": 8
        }
      ]
    },
    {
      "cell_type": "code",
      "source": [
        "#notar que la prediccion también se puede obtener a través de un método específico\n",
        "resultsreg.predict()"
      ],
      "metadata": {
        "id": "rokQlczcygl4",
        "outputId": "edbe9652-a897-4e58-a37e-8b8c474ecbeb",
        "colab": {
          "base_uri": "https://localhost:8080/"
        }
      },
      "execution_count": 10,
      "outputs": [
        {
          "output_type": "execute_result",
          "data": {
            "text/plain": [
              "array([15759.69772791, 20013.20447292, 15759.69772791, ...,\n",
              "       28520.21796295, 15759.69772791, 20013.20447292])"
            ]
          },
          "metadata": {},
          "execution_count": 10
        }
      ]
    },
    {
      "cell_type": "markdown",
      "source": [
        "Errores estimados \\\\\n",
        "$\\hat{\\epsilon_i}=price_i-\\hat{price_i}$"
      ],
      "metadata": {
        "id": "EG9wHaeUuysr"
      }
    },
    {
      "cell_type": "code",
      "source": [
        "residuos=datos.price-prediccion\n",
        "residuos"
      ],
      "metadata": {
        "colab": {
          "base_uri": "https://localhost:8080/"
        },
        "id": "lN6cjIpatCcn",
        "outputId": "61bb2179-0c43-4b8d-f092-d3d426d7f55c"
      },
      "execution_count": 11,
      "outputs": [
        {
          "output_type": "execute_result",
          "data": {
            "text/plain": [
              "0         2236.4933\n",
              "2        -1517.0134\n",
              "4         2736.4933\n",
              "43        -763.5067\n",
              "45       -2763.5067\n",
              "            ...    \n",
              "50647    -9517.0134\n",
              "50648     1736.4933\n",
              "50650    11475.9732\n",
              "50651   -11263.5067\n",
              "50652    -7017.0134\n",
              "Length: 27879, dtype: float64"
            ]
          },
          "metadata": {},
          "execution_count": 11
        }
      ]
    },
    {
      "cell_type": "markdown",
      "source": [
        "Revisamos la distribución en un histograma\n"
      ],
      "metadata": {
        "id": "eh28PFxnzPRs"
      }
    },
    {
      "cell_type": "code",
      "source": [
        "residuos.hist()"
      ],
      "metadata": {
        "id": "OPoK1VhvzD6u",
        "outputId": "d348dd61-4624-4091-fc9c-80083e228f65",
        "colab": {
          "base_uri": "https://localhost:8080/",
          "height": 283
        }
      },
      "execution_count": 13,
      "outputs": [
        {
          "output_type": "execute_result",
          "data": {
            "text/plain": [
              "<matplotlib.axes._subplots.AxesSubplot at 0x7fdf73af7990>"
            ]
          },
          "metadata": {},
          "execution_count": 13
        },
        {
          "output_type": "display_data",
          "data": {
            "text/plain": [
              "<Figure size 432x288 with 1 Axes>"
            ],
            "image/png": "[encoded data removed]"
          },
          "metadata": {
            "needs_background": "light"
          }
        }
      ]
    },
    {
      "cell_type": "markdown",
      "source": [
        "También podríamos revisar el comportamiento de la variabilidad del error con respecto a una variable explicativa (cumplimiento del supuesto de homocedasticidad)"
      ],
      "metadata": {
        "id": "FKRZbjJGzftT"
      }
    },
    {
      "cell_type": "code",
      "metadata": {
        "id": "cGlHVJ1acVO0",
        "colab": {
          "base_uri": "https://localhost:8080/",
          "height": 283
        },
        "outputId": "355d4dc0-78c8-4f06-eb2b-f88b2480daf3"
      },
      "source": [
        "plt.scatter(datos.bedrooms,residuos)"
      ],
      "execution_count": 12,
      "outputs": [
        {
          "output_type": "execute_result",
          "data": {
            "text/plain": [
              "<matplotlib.collections.PathCollection at 0x7fdf73b7d250>"
            ]
          },
          "metadata": {},
          "execution_count": 12
        },
        {
          "output_type": "display_data",
          "data": {
            "text/plain": [
              "<Figure size 432x288 with 1 Axes>"
            ],
            "image/png": "[encoded data removed]"
          },
          "metadata": {
            "needs_background": "light"
          }
        }
      ]
    },
    {
      "cell_type": "markdown",
      "source": [
        "Si los datos tuvieran un orden temporal (caso series de tiempo) podríamos analizar si la serie tiene algun tipo de correlación temporal"
      ],
      "metadata": {
        "id": "kiIn7reTCVIz"
      }
    },
    {
      "cell_type": "code",
      "source": [
        "plt.plot(residuos[0:500])"
      ],
      "metadata": {
        "id": "vLiqxniNB5ha",
        "outputId": "55252e7d-91da-4f55-e720-e8e36d333af7",
        "colab": {
          "base_uri": "https://localhost:8080/",
          "height": 283
        }
      },
      "execution_count": 18,
      "outputs": [
        {
          "output_type": "execute_result",
          "data": {
            "text/plain": [
              "[<matplotlib.lines.Line2D at 0x7fdf7372ce50>]"
            ]
          },
          "metadata": {},
          "execution_count": 18
        },
        {
          "output_type": "display_data",
          "data": {
            "text/plain": [
              "<Figure size 432x288 with 1 Axes>"
            ],
            "image/png": "[encoded data removed]"
          },
          "metadata": {
            "needs_background": "light"
          }
        }
      ]
    },
    {
      "cell_type": "code",
      "source": [
        "plt.scatter(residuos[0:500],residuos[1:501])"
      ],
      "metadata": {
        "id": "iT6Tu0Z3CoK6",
        "outputId": "ecade78f-b4e3-4561-a499-9aebc611c872",
        "colab": {
          "base_uri": "https://localhost:8080/",
          "height": 283
        }
      },
      "execution_count": 19,
      "outputs": [
        {
          "output_type": "execute_result",
          "data": {
            "text/plain": [
              "<matplotlib.collections.PathCollection at 0x7fdf73741910>"
            ]
          },
          "metadata": {},
          "execution_count": 19
        },
        {
          "output_type": "display_data",
          "data": {
            "text/plain": [
              "<Figure size 432x288 with 1 Axes>"
            ],
            "image/png": "[encoded data removed]"
          },
          "metadata": {
            "needs_background": "light"
          }
        }
      ]
    },
    {
      "cell_type": "markdown",
      "metadata": {
        "id": "VxeJXx9gacmx"
      },
      "source": [
        "#Transformación Logarítmica\n",
        "\n",
        "Modelo propuesto:\n",
        "\n",
        "$log(price_i)=\\beta_0+\\beta_1*bedrooms_i+\\epsilon_i$\n"
      ]
    },
    {
      "cell_type": "code",
      "metadata": {
        "id": "TYUHPI-Ma5p6"
      },
      "source": [
        "logY=np.log(Y)"
      ],
      "execution_count": null,
      "outputs": []
    },
    {
      "cell_type": "code",
      "metadata": {
        "id": "wR_HzttWbhtV",
        "colab": {
          "base_uri": "https://localhost:8080/",
          "height": 283
        },
        "outputId": "5109285b-f0e3-41a0-b567-899135208008"
      },
      "source": [
        "logY.hist()"
      ],
      "execution_count": null,
      "outputs": [
        {
          "output_type": "execute_result",
          "data": {
            "text/plain": [
              "<matplotlib.axes._subplots.AxesSubplot at 0x7fc39f61ff98>"
            ]
          },
          "metadata": {
            "tags": []
          },
          "execution_count": 11
        },
        {
          "output_type": "display_data",
          "data": {
            "image/png": "[encoded data removed]",
            "text/plain": [
              "<Figure size 432x288 with 1 Axes>"
            ]
          },
          "metadata": {
            "tags": [],
            "needs_background": "light"
          }
        }
      ]
    },
    {
      "cell_type": "code",
      "metadata": {
        "id": "f-3NEFC7aaDI",
        "colab": {
          "base_uri": "https://localhost:8080/",
          "height": 457
        },
        "outputId": "b6b2d4ee-d27a-4896-ac0b-a072562f4595"
      },
      "source": [
        "modelo=sm.OLS(logY,X)\n",
        "resultados=modelo.fit()\n",
        "print(resultados.summary())"
      ],
      "execution_count": null,
      "outputs": [
        {
          "output_type": "stream",
          "text": [
            "                            OLS Regression Results                            \n",
            "==============================================================================\n",
            "Dep. Variable:                  price   R-squared:                       0.001\n",
            "Model:                            OLS   Adj. R-squared:                  0.001\n",
            "Method:                 Least Squares   F-statistic:                     19.53\n",
            "Date:                Thu, 25 Jun 2020   Prob (F-statistic):           9.96e-06\n",
            "Time:                        22:00:43   Log-Likelihood:                -35268.\n",
            "No. Observations:               27879   AIC:                         7.054e+04\n",
            "Df Residuals:                   27877   BIC:                         7.056e+04\n",
            "Df Model:                           1                                         \n",
            "Covariance Type:            nonrobust                                         \n",
            "==============================================================================\n",
            "                 coef    std err          t      P>|t|      [0.025      0.975]\n",
            "------------------------------------------------------------------------------\n",
            "const          9.4810      0.011    841.888      0.000       9.459       9.503\n",
            "bedrooms       0.0272      0.006      4.419      0.000       0.015       0.039\n",
            "==============================================================================\n",
            "Omnibus:                     4887.715   Durbin-Watson:                   1.771\n",
            "Prob(Omnibus):                  0.000   Jarque-Bera (JB):             9384.217\n",
            "Skew:                          -1.083   Prob(JB):                         0.00\n",
            "Kurtosis:                       4.840   Cond. No.                         5.02\n",
            "==============================================================================\n",
            "\n",
            "Warnings:\n",
            "[1] Standard Errors assume that the covariance matrix of the errors is correctly specified.\n"
          ],
          "name": "stdout"
        }
      ]
    },
    {
      "cell_type": "code",
      "metadata": {
        "id": "1_1kQlYCabKa",
        "colab": {
          "base_uri": "https://localhost:8080/",
          "height": 283
        },
        "outputId": "ecd6f307-3c54-47a4-ba1f-a3d9c15a98f7"
      },
      "source": [
        "residuos2=logY-resultados.predict(X)\n",
        "residuos2.hist()"
      ],
      "execution_count": null,
      "outputs": [
        {
          "output_type": "execute_result",
          "data": {
            "text/plain": [
              "<matplotlib.axes._subplots.AxesSubplot at 0x7fc39f5e07f0>"
            ]
          },
          "metadata": {
            "tags": []
          },
          "execution_count": 13
        },
        {
          "output_type": "display_data",
          "data": {
            "image/png": "[encoded data removed]",
            "text/plain": [
              "<Figure size 432x288 with 1 Axes>"
            ]
          },
          "metadata": {
            "tags": [],
            "needs_background": "light"
          }
        }
      ]
    },
    {
      "cell_type": "code",
      "metadata": {
        "id": "T7Yu3-TUc6CE",
        "colab": {
          "base_uri": "https://localhost:8080/",
          "height": 283
        },
        "outputId": "0ef10cc7-8c57-427e-b260-f8bbdaa6a5ee"
      },
      "source": [
        "plt.scatter(datos.bedrooms,residuos2)"
      ],
      "execution_count": null,
      "outputs": [
        {
          "output_type": "execute_result",
          "data": {
            "text/plain": [
              "<matplotlib.collections.PathCollection at 0x7fc39f5c3438>"
            ]
          },
          "metadata": {
            "tags": []
          },
          "execution_count": 14
        },
        {
          "output_type": "display_data",
          "data": {
            "image/png": "[encoded data removed]",
            "text/plain": [
              "<Figure size 432x288 with 1 Axes>"
            ]
          },
          "metadata": {
            "tags": [],
            "needs_background": "light"
          }
        }
      ]
    },
    {
      "cell_type": "code",
      "source": [
        ""
      ],
      "metadata": {
        "id": "l06URZh_Becn"
      },
      "execution_count": null,
      "outputs": []
    },
    {
      "cell_type": "markdown",
      "metadata": {
        "id": "JsjBc4rpdFey"
      },
      "source": [
        "# Creacion de variable Dummies para los barrios de CABA\n",
        "Para este ejercicio solo estudiaremos los datos de CABA"
      ]
    },
    {
      "cell_type": "code",
      "metadata": {
        "id": "UFSw_JjvfxT3"
      },
      "source": [
        "departamentosCABA=departamentos.loc[departamentos['l2']=='Capital Federal']"
      ],
      "execution_count": null,
      "outputs": []
    },
    {
      "cell_type": "code",
      "metadata": {
        "id": "9Zy9uO53hAeJ",
        "colab": {
          "base_uri": "https://localhost:8080/",
          "height": 281
        },
        "outputId": "4dc4bdc6-9334-4484-d56c-3fe3b8414035"
      },
      "source": [
        "departamentosCABA.l3.unique()"
      ],
      "execution_count": null,
      "outputs": [
        {
          "output_type": "execute_result",
          "data": {
            "text/plain": [
              "array(['Recoleta', 'Balvanera', 'Monserrat', 'Villa Urquiza', 'Almagro',\n",
              "       'Palermo', 'Belgrano', 'Caballito', b'Nu\\xf1ez', 'Congreso',\n",
              "       'Saavedra', 'Barrio Norte', 'Puerto Madero', 'Retiro', 'Once',\n",
              "       'Barracas', 'Floresta', 'Chacarita', 'Colegiales',\n",
              "       b'Las Ca\\xf1itas', b'San Nicol\\xe1s', 'Villa Crespo',\n",
              "       'Villa del Parque', 'Parque Centenario', b'Villa Pueyrred\\xf3n',\n",
              "       'Villa General Mitre', 'Boedo', 'Flores', 'Coghlan', 'Paternal',\n",
              "       'San Telmo', 'Monte Castro', 'Villa Devoto', 'San Cristobal',\n",
              "       'Parque Chacabuco', 'Parque Avellaneda', 'Abasto', 'Mataderos',\n",
              "       'Tribunales', 'Villa Luro', 'Villa Ortuzar',\n",
              "       'Centro / Microcentro', 'Boca', 'Liniers', 'Villa Lugano',\n",
              "       'Parque Chas', b'Constituci\\xf3n', b'Agronom\\xeda',\n",
              "       'Parque Patricios', None, 'Versalles', 'Villa Santa Rita',\n",
              "       'Velez Sarsfield', 'Pompeya', 'Villa Real', 'Villa Riachuelo',\n",
              "       'Catalinas'], dtype=object)"
            ]
          },
          "metadata": {
            "tags": []
          },
          "execution_count": 16
        }
      ]
    },
    {
      "cell_type": "code",
      "metadata": {
        "id": "sxghA6_ihGRP",
        "colab": {
          "base_uri": "https://localhost:8080/",
          "height": 1000
        },
        "outputId": "b38de1de-445b-47a3-a33d-c7e3aae46e1c"
      },
      "source": [
        "# Un extra. Calculo del numero de observaciones por barrio usando groupby\n",
        "departamentosCABA.groupby(by='l3').agg(['count'])['index']"
      ],
      "execution_count": null,
      "outputs": [
        {
          "output_type": "execute_result",
          "data": {
            "text/html": [
              "<div>\n",
              "<style scoped>\n",
              "    .dataframe tbody tr th:only-of-type {\n",
              "        vertical-align: middle;\n",
              "    }\n",
              "\n",
              "    .dataframe tbody tr th {\n",
              "        vertical-align: top;\n",
              "    }\n",
              "\n",
              "    .dataframe thead th {\n",
              "        text-align: right;\n",
              "    }\n",
              "</style>\n",
              "<table border=\"1\" class=\"dataframe\">\n",
              "  <thead>\n",
              "    <tr style=\"text-align: right;\">\n",
              "      <th></th>\n",
              "      <th>count</th>\n",
              "    </tr>\n",
              "    <tr>\n",
              "      <th>l3</th>\n",
              "      <th></th>\n",
              "    </tr>\n",
              "  </thead>\n",
              "  <tbody>\n",
              "    <tr>\n",
              "      <th>b'Agronom\\xeda'</th>\n",
              "      <td>37</td>\n",
              "    </tr>\n",
              "    <tr>\n",
              "      <th>b'Constituci\\xf3n'</th>\n",
              "      <td>130</td>\n",
              "    </tr>\n",
              "    <tr>\n",
              "      <th>b'Las Ca\\xf1itas'</th>\n",
              "      <td>379</td>\n",
              "    </tr>\n",
              "    <tr>\n",
              "      <th>b'Nu\\xf1ez'</th>\n",
              "      <td>1145</td>\n",
              "    </tr>\n",
              "    <tr>\n",
              "      <th>b'San Nicol\\xe1s'</th>\n",
              "      <td>322</td>\n",
              "    </tr>\n",
              "    <tr>\n",
              "      <th>b'Villa Pueyrred\\xf3n'</th>\n",
              "      <td>246</td>\n",
              "    </tr>\n",
              "    <tr>\n",
              "      <th>Abasto</th>\n",
              "      <td>163</td>\n",
              "    </tr>\n",
              "    <tr>\n",
              "      <th>Almagro</th>\n",
              "      <td>1406</td>\n",
              "    </tr>\n",
              "    <tr>\n",
              "      <th>Balvanera</th>\n",
              "      <td>698</td>\n",
              "    </tr>\n",
              "    <tr>\n",
              "      <th>Barracas</th>\n",
              "      <td>274</td>\n",
              "    </tr>\n",
              "    <tr>\n",
              "      <th>Barrio Norte</th>\n",
              "      <td>1692</td>\n",
              "    </tr>\n",
              "    <tr>\n",
              "      <th>Belgrano</th>\n",
              "      <td>3708</td>\n",
              "    </tr>\n",
              "    <tr>\n",
              "      <th>Boca</th>\n",
              "      <td>143</td>\n",
              "    </tr>\n",
              "    <tr>\n",
              "      <th>Boedo</th>\n",
              "      <td>295</td>\n",
              "    </tr>\n",
              "    <tr>\n",
              "      <th>Caballito</th>\n",
              "      <td>2045</td>\n",
              "    </tr>\n",
              "    <tr>\n",
              "      <th>Catalinas</th>\n",
              "      <td>3</td>\n",
              "    </tr>\n",
              "    <tr>\n",
              "      <th>Centro / Microcentro</th>\n",
              "      <td>251</td>\n",
              "    </tr>\n",
              "    <tr>\n",
              "      <th>Chacarita</th>\n",
              "      <td>188</td>\n",
              "    </tr>\n",
              "    <tr>\n",
              "      <th>Coghlan</th>\n",
              "      <td>204</td>\n",
              "    </tr>\n",
              "    <tr>\n",
              "      <th>Colegiales</th>\n",
              "      <td>515</td>\n",
              "    </tr>\n",
              "    <tr>\n",
              "      <th>Congreso</th>\n",
              "      <td>300</td>\n",
              "    </tr>\n",
              "    <tr>\n",
              "      <th>Flores</th>\n",
              "      <td>808</td>\n",
              "    </tr>\n",
              "    <tr>\n",
              "      <th>Floresta</th>\n",
              "      <td>337</td>\n",
              "    </tr>\n",
              "    <tr>\n",
              "      <th>Liniers</th>\n",
              "      <td>187</td>\n",
              "    </tr>\n",
              "    <tr>\n",
              "      <th>Mataderos</th>\n",
              "      <td>128</td>\n",
              "    </tr>\n",
              "    <tr>\n",
              "      <th>Monserrat</th>\n",
              "      <td>332</td>\n",
              "    </tr>\n",
              "    <tr>\n",
              "      <th>Monte Castro</th>\n",
              "      <td>100</td>\n",
              "    </tr>\n",
              "    <tr>\n",
              "      <th>Once</th>\n",
              "      <td>298</td>\n",
              "    </tr>\n",
              "    <tr>\n",
              "      <th>Palermo</th>\n",
              "      <td>6661</td>\n",
              "    </tr>\n",
              "    <tr>\n",
              "      <th>Parque Avellaneda</th>\n",
              "      <td>22</td>\n",
              "    </tr>\n",
              "    <tr>\n",
              "      <th>Parque Centenario</th>\n",
              "      <td>106</td>\n",
              "    </tr>\n",
              "    <tr>\n",
              "      <th>Parque Chacabuco</th>\n",
              "      <td>237</td>\n",
              "    </tr>\n",
              "    <tr>\n",
              "      <th>Parque Chas</th>\n",
              "      <td>44</td>\n",
              "    </tr>\n",
              "    <tr>\n",
              "      <th>Parque Patricios</th>\n",
              "      <td>123</td>\n",
              "    </tr>\n",
              "    <tr>\n",
              "      <th>Paternal</th>\n",
              "      <td>177</td>\n",
              "    </tr>\n",
              "    <tr>\n",
              "      <th>Pompeya</th>\n",
              "      <td>28</td>\n",
              "    </tr>\n",
              "    <tr>\n",
              "      <th>Puerto Madero</th>\n",
              "      <td>1264</td>\n",
              "    </tr>\n",
              "    <tr>\n",
              "      <th>Recoleta</th>\n",
              "      <td>2915</td>\n",
              "    </tr>\n",
              "    <tr>\n",
              "      <th>Retiro</th>\n",
              "      <td>529</td>\n",
              "    </tr>\n",
              "    <tr>\n",
              "      <th>Saavedra</th>\n",
              "      <td>279</td>\n",
              "    </tr>\n",
              "    <tr>\n",
              "      <th>San Cristobal</th>\n",
              "      <td>339</td>\n",
              "    </tr>\n",
              "    <tr>\n",
              "      <th>San Telmo</th>\n",
              "      <td>471</td>\n",
              "    </tr>\n",
              "    <tr>\n",
              "      <th>Tribunales</th>\n",
              "      <td>82</td>\n",
              "    </tr>\n",
              "    <tr>\n",
              "      <th>Velez Sarsfield</th>\n",
              "      <td>18</td>\n",
              "    </tr>\n",
              "    <tr>\n",
              "      <th>Versalles</th>\n",
              "      <td>67</td>\n",
              "    </tr>\n",
              "    <tr>\n",
              "      <th>Villa Crespo</th>\n",
              "      <td>1080</td>\n",
              "    </tr>\n",
              "    <tr>\n",
              "      <th>Villa Devoto</th>\n",
              "      <td>386</td>\n",
              "    </tr>\n",
              "    <tr>\n",
              "      <th>Villa General Mitre</th>\n",
              "      <td>47</td>\n",
              "    </tr>\n",
              "    <tr>\n",
              "      <th>Villa Lugano</th>\n",
              "      <td>83</td>\n",
              "    </tr>\n",
              "    <tr>\n",
              "      <th>Villa Luro</th>\n",
              "      <td>155</td>\n",
              "    </tr>\n",
              "    <tr>\n",
              "      <th>Villa Ortuzar</th>\n",
              "      <td>98</td>\n",
              "    </tr>\n",
              "    <tr>\n",
              "      <th>Villa Real</th>\n",
              "      <td>24</td>\n",
              "    </tr>\n",
              "    <tr>\n",
              "      <th>Villa Riachuelo</th>\n",
              "      <td>3</td>\n",
              "    </tr>\n",
              "    <tr>\n",
              "      <th>Villa Santa Rita</th>\n",
              "      <td>73</td>\n",
              "    </tr>\n",
              "    <tr>\n",
              "      <th>Villa Urquiza</th>\n",
              "      <td>1361</td>\n",
              "    </tr>\n",
              "    <tr>\n",
              "      <th>Villa del Parque</th>\n",
              "      <td>458</td>\n",
              "    </tr>\n",
              "  </tbody>\n",
              "</table>\n",
              "</div>"
            ],
            "text/plain": [
              "                        count\n",
              "l3                           \n",
              "b'Agronom\\xeda'            37\n",
              "b'Constituci\\xf3n'        130\n",
              "b'Las Ca\\xf1itas'         379\n",
              "b'Nu\\xf1ez'              1145\n",
              "b'San Nicol\\xe1s'         322\n",
              "b'Villa Pueyrred\\xf3n'    246\n",
              "Abasto                    163\n",
              "Almagro                  1406\n",
              "Balvanera                 698\n",
              "Barracas                  274\n",
              "Barrio Norte             1692\n",
              "Belgrano                 3708\n",
              "Boca                      143\n",
              "Boedo                     295\n",
              "Caballito                2045\n",
              "Catalinas                   3\n",
              "Centro / Microcentro      251\n",
              "Chacarita                 188\n",
              "Coghlan                   204\n",
              "Colegiales                515\n",
              "Congreso                  300\n",
              "Flores                    808\n",
              "Floresta                  337\n",
              "Liniers                   187\n",
              "Mataderos                 128\n",
              "Monserrat                 332\n",
              "Monte Castro              100\n",
              "Once                      298\n",
              "Palermo                  6661\n",
              "Parque Avellaneda          22\n",
              "Parque Centenario         106\n",
              "Parque Chacabuco          237\n",
              "Parque Chas                44\n",
              "Parque Patricios          123\n",
              "Paternal                  177\n",
              "Pompeya                    28\n",
              "Puerto Madero            1264\n",
              "Recoleta                 2915\n",
              "Retiro                    529\n",
              "Saavedra                  279\n",
              "San Cristobal             339\n",
              "San Telmo                 471\n",
              "Tribunales                 82\n",
              "Velez Sarsfield            18\n",
              "Versalles                  67\n",
              "Villa Crespo             1080\n",
              "Villa Devoto              386\n",
              "Villa General Mitre        47\n",
              "Villa Lugano               83\n",
              "Villa Luro                155\n",
              "Villa Ortuzar              98\n",
              "Villa Real                 24\n",
              "Villa Riachuelo             3\n",
              "Villa Santa Rita           73\n",
              "Villa Urquiza            1361\n",
              "Villa del Parque          458"
            ]
          },
          "metadata": {
            "tags": []
          },
          "execution_count": 17
        }
      ]
    },
    {
      "cell_type": "code",
      "metadata": {
        "id": "Wx9q2bO9kKmN"
      },
      "source": [
        "## Construccion de dummies para una variable categorica de manera automatizada"
      ],
      "execution_count": null,
      "outputs": []
    },
    {
      "cell_type": "code",
      "metadata": {
        "id": "ZMFrALEEgGJu",
        "colab": {
          "base_uri": "https://localhost:8080/",
          "height": 471
        },
        "outputId": "c239e136-9970-45c9-e88f-ab5b74d89bf9"
      },
      "source": [
        "dummiesbarrios=pd.get_dummies(departamentosCABA.l3, prefix='dum')\n",
        "dummiesbarrios"
      ],
      "execution_count": null,
      "outputs": [
        {
          "output_type": "execute_result",
          "data": {
            "text/html": [
              "<div>\n",
              "<style scoped>\n",
              "    .dataframe tbody tr th:only-of-type {\n",
              "        vertical-align: middle;\n",
              "    }\n",
              "\n",
              "    .dataframe tbody tr th {\n",
              "        vertical-align: top;\n",
              "    }\n",
              "\n",
              "    .dataframe thead th {\n",
              "        text-align: right;\n",
              "    }\n",
              "</style>\n",
              "<table border=\"1\" class=\"dataframe\">\n",
              "  <thead>\n",
              "    <tr style=\"text-align: right;\">\n",
              "      <th></th>\n",
              "      <th>dum_b'Agronom\\xeda'</th>\n",
              "      <th>dum_b'Constituci\\xf3n'</th>\n",
              "      <th>dum_b'Las Ca\\xf1itas'</th>\n",
              "      <th>dum_b'Nu\\xf1ez'</th>\n",
              "      <th>dum_b'San Nicol\\xe1s'</th>\n",
              "      <th>dum_b'Villa Pueyrred\\xf3n'</th>\n",
              "      <th>dum_Abasto</th>\n",
              "      <th>dum_Almagro</th>\n",
              "      <th>dum_Balvanera</th>\n",
              "      <th>dum_Barracas</th>\n",
              "      <th>dum_Barrio Norte</th>\n",
              "      <th>dum_Belgrano</th>\n",
              "      <th>dum_Boca</th>\n",
              "      <th>dum_Boedo</th>\n",
              "      <th>dum_Caballito</th>\n",
              "      <th>dum_Catalinas</th>\n",
              "      <th>dum_Centro / Microcentro</th>\n",
              "      <th>dum_Chacarita</th>\n",
              "      <th>dum_Coghlan</th>\n",
              "      <th>dum_Colegiales</th>\n",
              "      <th>dum_Congreso</th>\n",
              "      <th>dum_Flores</th>\n",
              "      <th>dum_Floresta</th>\n",
              "      <th>dum_Liniers</th>\n",
              "      <th>dum_Mataderos</th>\n",
              "      <th>dum_Monserrat</th>\n",
              "      <th>dum_Monte Castro</th>\n",
              "      <th>dum_Once</th>\n",
              "      <th>dum_Palermo</th>\n",
              "      <th>dum_Parque Avellaneda</th>\n",
              "      <th>dum_Parque Centenario</th>\n",
              "      <th>dum_Parque Chacabuco</th>\n",
              "      <th>dum_Parque Chas</th>\n",
              "      <th>dum_Parque Patricios</th>\n",
              "      <th>dum_Paternal</th>\n",
              "      <th>dum_Pompeya</th>\n",
              "      <th>dum_Puerto Madero</th>\n",
              "      <th>dum_Recoleta</th>\n",
              "      <th>dum_Retiro</th>\n",
              "      <th>dum_Saavedra</th>\n",
              "      <th>dum_San Cristobal</th>\n",
              "      <th>dum_San Telmo</th>\n",
              "      <th>dum_Tribunales</th>\n",
              "      <th>dum_Velez Sarsfield</th>\n",
              "      <th>dum_Versalles</th>\n",
              "      <th>dum_Villa Crespo</th>\n",
              "      <th>dum_Villa Devoto</th>\n",
              "      <th>dum_Villa General Mitre</th>\n",
              "      <th>dum_Villa Lugano</th>\n",
              "      <th>dum_Villa Luro</th>\n",
              "      <th>dum_Villa Ortuzar</th>\n",
              "      <th>dum_Villa Real</th>\n",
              "      <th>dum_Villa Riachuelo</th>\n",
              "      <th>dum_Villa Santa Rita</th>\n",
              "      <th>dum_Villa Urquiza</th>\n",
              "      <th>dum_Villa del Parque</th>\n",
              "    </tr>\n",
              "  </thead>\n",
              "  <tbody>\n",
              "    <tr>\n",
              "      <th>0</th>\n",
              "      <td>0</td>\n",
              "      <td>0</td>\n",
              "      <td>0</td>\n",
              "      <td>0</td>\n",
              "      <td>0</td>\n",
              "      <td>0</td>\n",
              "      <td>0</td>\n",
              "      <td>0</td>\n",
              "      <td>0</td>\n",
              "      <td>0</td>\n",
              "      <td>0</td>\n",
              "      <td>0</td>\n",
              "      <td>0</td>\n",
              "      <td>0</td>\n",
              "      <td>0</td>\n",
              "      <td>0</td>\n",
              "      <td>0</td>\n",
              "      <td>0</td>\n",
              "      <td>0</td>\n",
              "      <td>0</td>\n",
              "      <td>0</td>\n",
              "      <td>0</td>\n",
              "      <td>0</td>\n",
              "      <td>0</td>\n",
              "      <td>0</td>\n",
              "      <td>0</td>\n",
              "      <td>0</td>\n",
              "      <td>0</td>\n",
              "      <td>0</td>\n",
              "      <td>0</td>\n",
              "      <td>0</td>\n",
              "      <td>0</td>\n",
              "      <td>0</td>\n",
              "      <td>0</td>\n",
              "      <td>0</td>\n",
              "      <td>0</td>\n",
              "      <td>0</td>\n",
              "      <td>1</td>\n",
              "      <td>0</td>\n",
              "      <td>0</td>\n",
              "      <td>0</td>\n",
              "      <td>0</td>\n",
              "      <td>0</td>\n",
              "      <td>0</td>\n",
              "      <td>0</td>\n",
              "      <td>0</td>\n",
              "      <td>0</td>\n",
              "      <td>0</td>\n",
              "      <td>0</td>\n",
              "      <td>0</td>\n",
              "      <td>0</td>\n",
              "      <td>0</td>\n",
              "      <td>0</td>\n",
              "      <td>0</td>\n",
              "      <td>0</td>\n",
              "      <td>0</td>\n",
              "    </tr>\n",
              "    <tr>\n",
              "      <th>1</th>\n",
              "      <td>0</td>\n",
              "      <td>0</td>\n",
              "      <td>0</td>\n",
              "      <td>0</td>\n",
              "      <td>0</td>\n",
              "      <td>0</td>\n",
              "      <td>0</td>\n",
              "      <td>0</td>\n",
              "      <td>1</td>\n",
              "      <td>0</td>\n",
              "      <td>0</td>\n",
              "      <td>0</td>\n",
              "      <td>0</td>\n",
              "      <td>0</td>\n",
              "      <td>0</td>\n",
              "      <td>0</td>\n",
              "      <td>0</td>\n",
              "      <td>0</td>\n",
              "      <td>0</td>\n",
              "      <td>0</td>\n",
              "      <td>0</td>\n",
              "      <td>0</td>\n",
              "      <td>0</td>\n",
              "      <td>0</td>\n",
              "      <td>0</td>\n",
              "      <td>0</td>\n",
              "      <td>0</td>\n",
              "      <td>0</td>\n",
              "      <td>0</td>\n",
              "      <td>0</td>\n",
              "      <td>0</td>\n",
              "      <td>0</td>\n",
              "      <td>0</td>\n",
              "      <td>0</td>\n",
              "      <td>0</td>\n",
              "      <td>0</td>\n",
              "      <td>0</td>\n",
              "      <td>0</td>\n",
              "      <td>0</td>\n",
              "      <td>0</td>\n",
              "      <td>0</td>\n",
              "      <td>0</td>\n",
              "      <td>0</td>\n",
              "      <td>0</td>\n",
              "      <td>0</td>\n",
              "      <td>0</td>\n",
              "      <td>0</td>\n",
              "      <td>0</td>\n",
              "      <td>0</td>\n",
              "      <td>0</td>\n",
              "      <td>0</td>\n",
              "      <td>0</td>\n",
              "      <td>0</td>\n",
              "      <td>0</td>\n",
              "      <td>0</td>\n",
              "      <td>0</td>\n",
              "    </tr>\n",
              "    <tr>\n",
              "      <th>2</th>\n",
              "      <td>0</td>\n",
              "      <td>0</td>\n",
              "      <td>0</td>\n",
              "      <td>0</td>\n",
              "      <td>0</td>\n",
              "      <td>0</td>\n",
              "      <td>0</td>\n",
              "      <td>0</td>\n",
              "      <td>0</td>\n",
              "      <td>0</td>\n",
              "      <td>0</td>\n",
              "      <td>0</td>\n",
              "      <td>0</td>\n",
              "      <td>0</td>\n",
              "      <td>0</td>\n",
              "      <td>0</td>\n",
              "      <td>0</td>\n",
              "      <td>0</td>\n",
              "      <td>0</td>\n",
              "      <td>0</td>\n",
              "      <td>0</td>\n",
              "      <td>0</td>\n",
              "      <td>0</td>\n",
              "      <td>0</td>\n",
              "      <td>0</td>\n",
              "      <td>1</td>\n",
              "      <td>0</td>\n",
              "      <td>0</td>\n",
              "      <td>0</td>\n",
              "      <td>0</td>\n",
              "      <td>0</td>\n",
              "      <td>0</td>\n",
              "      <td>0</td>\n",
              "      <td>0</td>\n",
              "      <td>0</td>\n",
              "      <td>0</td>\n",
              "      <td>0</td>\n",
              "      <td>0</td>\n",
              "      <td>0</td>\n",
              "      <td>0</td>\n",
              "      <td>0</td>\n",
              "      <td>0</td>\n",
              "      <td>0</td>\n",
              "      <td>0</td>\n",
              "      <td>0</td>\n",
              "      <td>0</td>\n",
              "      <td>0</td>\n",
              "      <td>0</td>\n",
              "      <td>0</td>\n",
              "      <td>0</td>\n",
              "      <td>0</td>\n",
              "      <td>0</td>\n",
              "      <td>0</td>\n",
              "      <td>0</td>\n",
              "      <td>0</td>\n",
              "      <td>0</td>\n",
              "    </tr>\n",
              "    <tr>\n",
              "      <th>4</th>\n",
              "      <td>0</td>\n",
              "      <td>0</td>\n",
              "      <td>0</td>\n",
              "      <td>0</td>\n",
              "      <td>0</td>\n",
              "      <td>0</td>\n",
              "      <td>0</td>\n",
              "      <td>0</td>\n",
              "      <td>0</td>\n",
              "      <td>0</td>\n",
              "      <td>0</td>\n",
              "      <td>0</td>\n",
              "      <td>0</td>\n",
              "      <td>0</td>\n",
              "      <td>0</td>\n",
              "      <td>0</td>\n",
              "      <td>0</td>\n",
              "      <td>0</td>\n",
              "      <td>0</td>\n",
              "      <td>0</td>\n",
              "      <td>0</td>\n",
              "      <td>0</td>\n",
              "      <td>0</td>\n",
              "      <td>0</td>\n",
              "      <td>0</td>\n",
              "      <td>0</td>\n",
              "      <td>0</td>\n",
              "      <td>0</td>\n",
              "      <td>0</td>\n",
              "      <td>0</td>\n",
              "      <td>0</td>\n",
              "      <td>0</td>\n",
              "      <td>0</td>\n",
              "      <td>0</td>\n",
              "      <td>0</td>\n",
              "      <td>0</td>\n",
              "      <td>0</td>\n",
              "      <td>0</td>\n",
              "      <td>0</td>\n",
              "      <td>0</td>\n",
              "      <td>0</td>\n",
              "      <td>0</td>\n",
              "      <td>0</td>\n",
              "      <td>0</td>\n",
              "      <td>0</td>\n",
              "      <td>0</td>\n",
              "      <td>0</td>\n",
              "      <td>0</td>\n",
              "      <td>0</td>\n",
              "      <td>0</td>\n",
              "      <td>0</td>\n",
              "      <td>0</td>\n",
              "      <td>0</td>\n",
              "      <td>0</td>\n",
              "      <td>1</td>\n",
              "      <td>0</td>\n",
              "    </tr>\n",
              "    <tr>\n",
              "      <th>5</th>\n",
              "      <td>0</td>\n",
              "      <td>0</td>\n",
              "      <td>0</td>\n",
              "      <td>0</td>\n",
              "      <td>0</td>\n",
              "      <td>0</td>\n",
              "      <td>0</td>\n",
              "      <td>1</td>\n",
              "      <td>0</td>\n",
              "      <td>0</td>\n",
              "      <td>0</td>\n",
              "      <td>0</td>\n",
              "      <td>0</td>\n",
              "      <td>0</td>\n",
              "      <td>0</td>\n",
              "      <td>0</td>\n",
              "      <td>0</td>\n",
              "      <td>0</td>\n",
              "      <td>0</td>\n",
              "      <td>0</td>\n",
              "      <td>0</td>\n",
              "      <td>0</td>\n",
              "      <td>0</td>\n",
              "      <td>0</td>\n",
              "      <td>0</td>\n",
              "      <td>0</td>\n",
              "      <td>0</td>\n",
              "      <td>0</td>\n",
              "      <td>0</td>\n",
              "      <td>0</td>\n",
              "      <td>0</td>\n",
              "      <td>0</td>\n",
              "      <td>0</td>\n",
              "      <td>0</td>\n",
              "      <td>0</td>\n",
              "      <td>0</td>\n",
              "      <td>0</td>\n",
              "      <td>0</td>\n",
              "      <td>0</td>\n",
              "      <td>0</td>\n",
              "      <td>0</td>\n",
              "      <td>0</td>\n",
              "      <td>0</td>\n",
              "      <td>0</td>\n",
              "      <td>0</td>\n",
              "      <td>0</td>\n",
              "      <td>0</td>\n",
              "      <td>0</td>\n",
              "      <td>0</td>\n",
              "      <td>0</td>\n",
              "      <td>0</td>\n",
              "      <td>0</td>\n",
              "      <td>0</td>\n",
              "      <td>0</td>\n",
              "      <td>0</td>\n",
              "      <td>0</td>\n",
              "    </tr>\n",
              "    <tr>\n",
              "      <th>...</th>\n",
              "      <td>...</td>\n",
              "      <td>...</td>\n",
              "      <td>...</td>\n",
              "      <td>...</td>\n",
              "      <td>...</td>\n",
              "      <td>...</td>\n",
              "      <td>...</td>\n",
              "      <td>...</td>\n",
              "      <td>...</td>\n",
              "      <td>...</td>\n",
              "      <td>...</td>\n",
              "      <td>...</td>\n",
              "      <td>...</td>\n",
              "      <td>...</td>\n",
              "      <td>...</td>\n",
              "      <td>...</td>\n",
              "      <td>...</td>\n",
              "      <td>...</td>\n",
              "      <td>...</td>\n",
              "      <td>...</td>\n",
              "      <td>...</td>\n",
              "      <td>...</td>\n",
              "      <td>...</td>\n",
              "      <td>...</td>\n",
              "      <td>...</td>\n",
              "      <td>...</td>\n",
              "      <td>...</td>\n",
              "      <td>...</td>\n",
              "      <td>...</td>\n",
              "      <td>...</td>\n",
              "      <td>...</td>\n",
              "      <td>...</td>\n",
              "      <td>...</td>\n",
              "      <td>...</td>\n",
              "      <td>...</td>\n",
              "      <td>...</td>\n",
              "      <td>...</td>\n",
              "      <td>...</td>\n",
              "      <td>...</td>\n",
              "      <td>...</td>\n",
              "      <td>...</td>\n",
              "      <td>...</td>\n",
              "      <td>...</td>\n",
              "      <td>...</td>\n",
              "      <td>...</td>\n",
              "      <td>...</td>\n",
              "      <td>...</td>\n",
              "      <td>...</td>\n",
              "      <td>...</td>\n",
              "      <td>...</td>\n",
              "      <td>...</td>\n",
              "      <td>...</td>\n",
              "      <td>...</td>\n",
              "      <td>...</td>\n",
              "      <td>...</td>\n",
              "      <td>...</td>\n",
              "    </tr>\n",
              "    <tr>\n",
              "      <th>50638</th>\n",
              "      <td>0</td>\n",
              "      <td>0</td>\n",
              "      <td>0</td>\n",
              "      <td>0</td>\n",
              "      <td>0</td>\n",
              "      <td>0</td>\n",
              "      <td>0</td>\n",
              "      <td>0</td>\n",
              "      <td>0</td>\n",
              "      <td>0</td>\n",
              "      <td>0</td>\n",
              "      <td>0</td>\n",
              "      <td>0</td>\n",
              "      <td>0</td>\n",
              "      <td>0</td>\n",
              "      <td>0</td>\n",
              "      <td>0</td>\n",
              "      <td>0</td>\n",
              "      <td>0</td>\n",
              "      <td>0</td>\n",
              "      <td>0</td>\n",
              "      <td>0</td>\n",
              "      <td>0</td>\n",
              "      <td>0</td>\n",
              "      <td>0</td>\n",
              "      <td>0</td>\n",
              "      <td>0</td>\n",
              "      <td>0</td>\n",
              "      <td>0</td>\n",
              "      <td>0</td>\n",
              "      <td>0</td>\n",
              "      <td>0</td>\n",
              "      <td>0</td>\n",
              "      <td>0</td>\n",
              "      <td>0</td>\n",
              "      <td>0</td>\n",
              "      <td>0</td>\n",
              "      <td>0</td>\n",
              "      <td>0</td>\n",
              "      <td>0</td>\n",
              "      <td>0</td>\n",
              "      <td>0</td>\n",
              "      <td>0</td>\n",
              "      <td>0</td>\n",
              "      <td>0</td>\n",
              "      <td>0</td>\n",
              "      <td>0</td>\n",
              "      <td>0</td>\n",
              "      <td>0</td>\n",
              "      <td>0</td>\n",
              "      <td>0</td>\n",
              "      <td>0</td>\n",
              "      <td>0</td>\n",
              "      <td>0</td>\n",
              "      <td>1</td>\n",
              "      <td>0</td>\n",
              "    </tr>\n",
              "    <tr>\n",
              "      <th>50639</th>\n",
              "      <td>0</td>\n",
              "      <td>0</td>\n",
              "      <td>0</td>\n",
              "      <td>0</td>\n",
              "      <td>0</td>\n",
              "      <td>0</td>\n",
              "      <td>0</td>\n",
              "      <td>0</td>\n",
              "      <td>0</td>\n",
              "      <td>0</td>\n",
              "      <td>0</td>\n",
              "      <td>0</td>\n",
              "      <td>0</td>\n",
              "      <td>0</td>\n",
              "      <td>0</td>\n",
              "      <td>0</td>\n",
              "      <td>0</td>\n",
              "      <td>0</td>\n",
              "      <td>0</td>\n",
              "      <td>0</td>\n",
              "      <td>0</td>\n",
              "      <td>0</td>\n",
              "      <td>0</td>\n",
              "      <td>0</td>\n",
              "      <td>0</td>\n",
              "      <td>0</td>\n",
              "      <td>0</td>\n",
              "      <td>0</td>\n",
              "      <td>0</td>\n",
              "      <td>0</td>\n",
              "      <td>0</td>\n",
              "      <td>0</td>\n",
              "      <td>0</td>\n",
              "      <td>0</td>\n",
              "      <td>0</td>\n",
              "      <td>0</td>\n",
              "      <td>0</td>\n",
              "      <td>0</td>\n",
              "      <td>0</td>\n",
              "      <td>0</td>\n",
              "      <td>0</td>\n",
              "      <td>0</td>\n",
              "      <td>0</td>\n",
              "      <td>0</td>\n",
              "      <td>0</td>\n",
              "      <td>0</td>\n",
              "      <td>0</td>\n",
              "      <td>0</td>\n",
              "      <td>0</td>\n",
              "      <td>0</td>\n",
              "      <td>0</td>\n",
              "      <td>0</td>\n",
              "      <td>0</td>\n",
              "      <td>0</td>\n",
              "      <td>1</td>\n",
              "      <td>0</td>\n",
              "    </tr>\n",
              "    <tr>\n",
              "      <th>50648</th>\n",
              "      <td>0</td>\n",
              "      <td>0</td>\n",
              "      <td>0</td>\n",
              "      <td>0</td>\n",
              "      <td>0</td>\n",
              "      <td>0</td>\n",
              "      <td>0</td>\n",
              "      <td>0</td>\n",
              "      <td>0</td>\n",
              "      <td>0</td>\n",
              "      <td>0</td>\n",
              "      <td>0</td>\n",
              "      <td>0</td>\n",
              "      <td>0</td>\n",
              "      <td>0</td>\n",
              "      <td>0</td>\n",
              "      <td>0</td>\n",
              "      <td>0</td>\n",
              "      <td>0</td>\n",
              "      <td>0</td>\n",
              "      <td>0</td>\n",
              "      <td>0</td>\n",
              "      <td>0</td>\n",
              "      <td>0</td>\n",
              "      <td>0</td>\n",
              "      <td>0</td>\n",
              "      <td>0</td>\n",
              "      <td>0</td>\n",
              "      <td>0</td>\n",
              "      <td>0</td>\n",
              "      <td>0</td>\n",
              "      <td>1</td>\n",
              "      <td>0</td>\n",
              "      <td>0</td>\n",
              "      <td>0</td>\n",
              "      <td>0</td>\n",
              "      <td>0</td>\n",
              "      <td>0</td>\n",
              "      <td>0</td>\n",
              "      <td>0</td>\n",
              "      <td>0</td>\n",
              "      <td>0</td>\n",
              "      <td>0</td>\n",
              "      <td>0</td>\n",
              "      <td>0</td>\n",
              "      <td>0</td>\n",
              "      <td>0</td>\n",
              "      <td>0</td>\n",
              "      <td>0</td>\n",
              "      <td>0</td>\n",
              "      <td>0</td>\n",
              "      <td>0</td>\n",
              "      <td>0</td>\n",
              "      <td>0</td>\n",
              "      <td>0</td>\n",
              "      <td>0</td>\n",
              "    </tr>\n",
              "    <tr>\n",
              "      <th>50649</th>\n",
              "      <td>0</td>\n",
              "      <td>0</td>\n",
              "      <td>0</td>\n",
              "      <td>0</td>\n",
              "      <td>0</td>\n",
              "      <td>1</td>\n",
              "      <td>0</td>\n",
              "      <td>0</td>\n",
              "      <td>0</td>\n",
              "      <td>0</td>\n",
              "      <td>0</td>\n",
              "      <td>0</td>\n",
              "      <td>0</td>\n",
              "      <td>0</td>\n",
              "      <td>0</td>\n",
              "      <td>0</td>\n",
              "      <td>0</td>\n",
              "      <td>0</td>\n",
              "      <td>0</td>\n",
              "      <td>0</td>\n",
              "      <td>0</td>\n",
              "      <td>0</td>\n",
              "      <td>0</td>\n",
              "      <td>0</td>\n",
              "      <td>0</td>\n",
              "      <td>0</td>\n",
              "      <td>0</td>\n",
              "      <td>0</td>\n",
              "      <td>0</td>\n",
              "      <td>0</td>\n",
              "      <td>0</td>\n",
              "      <td>0</td>\n",
              "      <td>0</td>\n",
              "      <td>0</td>\n",
              "      <td>0</td>\n",
              "      <td>0</td>\n",
              "      <td>0</td>\n",
              "      <td>0</td>\n",
              "      <td>0</td>\n",
              "      <td>0</td>\n",
              "      <td>0</td>\n",
              "      <td>0</td>\n",
              "      <td>0</td>\n",
              "      <td>0</td>\n",
              "      <td>0</td>\n",
              "      <td>0</td>\n",
              "      <td>0</td>\n",
              "      <td>0</td>\n",
              "      <td>0</td>\n",
              "      <td>0</td>\n",
              "      <td>0</td>\n",
              "      <td>0</td>\n",
              "      <td>0</td>\n",
              "      <td>0</td>\n",
              "      <td>0</td>\n",
              "      <td>0</td>\n",
              "    </tr>\n",
              "    <tr>\n",
              "      <th>50650</th>\n",
              "      <td>0</td>\n",
              "      <td>0</td>\n",
              "      <td>0</td>\n",
              "      <td>0</td>\n",
              "      <td>0</td>\n",
              "      <td>1</td>\n",
              "      <td>0</td>\n",
              "      <td>0</td>\n",
              "      <td>0</td>\n",
              "      <td>0</td>\n",
              "      <td>0</td>\n",
              "      <td>0</td>\n",
              "      <td>0</td>\n",
              "      <td>0</td>\n",
              "      <td>0</td>\n",
              "      <td>0</td>\n",
              "      <td>0</td>\n",
              "      <td>0</td>\n",
              "      <td>0</td>\n",
              "      <td>0</td>\n",
              "      <td>0</td>\n",
              "      <td>0</td>\n",
              "      <td>0</td>\n",
              "      <td>0</td>\n",
              "      <td>0</td>\n",
              "      <td>0</td>\n",
              "      <td>0</td>\n",
              "      <td>0</td>\n",
              "      <td>0</td>\n",
              "      <td>0</td>\n",
              "      <td>0</td>\n",
              "      <td>0</td>\n",
              "      <td>0</td>\n",
              "      <td>0</td>\n",
              "      <td>0</td>\n",
              "      <td>0</td>\n",
              "      <td>0</td>\n",
              "      <td>0</td>\n",
              "      <td>0</td>\n",
              "      <td>0</td>\n",
              "      <td>0</td>\n",
              "      <td>0</td>\n",
              "      <td>0</td>\n",
              "      <td>0</td>\n",
              "      <td>0</td>\n",
              "      <td>0</td>\n",
              "      <td>0</td>\n",
              "      <td>0</td>\n",
              "      <td>0</td>\n",
              "      <td>0</td>\n",
              "      <td>0</td>\n",
              "      <td>0</td>\n",
              "      <td>0</td>\n",
              "      <td>0</td>\n",
              "      <td>0</td>\n",
              "      <td>0</td>\n",
              "    </tr>\n",
              "  </tbody>\n",
              "</table>\n",
              "<p>33472 rows × 56 columns</p>\n",
              "</div>"
            ],
            "text/plain": [
              "       dum_b'Agronom\\xeda'  ...  dum_Villa del Parque\n",
              "0                        0  ...                     0\n",
              "1                        0  ...                     0\n",
              "2                        0  ...                     0\n",
              "4                        0  ...                     0\n",
              "5                        0  ...                     0\n",
              "...                    ...  ...                   ...\n",
              "50638                    0  ...                     0\n",
              "50639                    0  ...                     0\n",
              "50648                    0  ...                     0\n",
              "50649                    0  ...                     0\n",
              "50650                    0  ...                     0\n",
              "\n",
              "[33472 rows x 56 columns]"
            ]
          },
          "metadata": {
            "tags": []
          },
          "execution_count": 19
        }
      ]
    },
    {
      "cell_type": "code",
      "metadata": {
        "id": "tbiZMyhiiPIv"
      },
      "source": [
        "departamentosCABA=pd.concat([departamentosCABA, dummiesbarrios],axis=1)"
      ],
      "execution_count": null,
      "outputs": []
    },
    {
      "cell_type": "markdown",
      "metadata": {
        "id": "cfV_aUmViypD"
      },
      "source": [
        "#Estimacion del Modelo con dummys\n",
        "\n",
        "Modelo propuesto:\n",
        "\n",
        "$price_i=\\beta_0+\\beta_1*bedrooms_i+\\beta_2*DPalermo+\\epsilon_i$\n"
      ]
    },
    {
      "cell_type": "code",
      "metadata": {
        "id": "SJt48GOcjJ5k"
      },
      "source": [
        "datos=departamentosCABA[['price', 'bedrooms','dum_Palermo']]\n",
        "# el metodo dropna() me permite eliminar las filas que tienen algun valor missing\n",
        "datos=datos.dropna()\n",
        "Y=datos.price\n",
        "X=datos[['bedrooms','dum_Palermo']]\n",
        "X=sm.add_constant(X)"
      ],
      "execution_count": null,
      "outputs": []
    },
    {
      "cell_type": "code",
      "metadata": {
        "id": "E4JS2Rkmkyte",
        "colab": {
          "base_uri": "https://localhost:8080/",
          "height": 475
        },
        "outputId": "4d1269b4-e54e-421d-a2b1-ec61e7d621c8"
      },
      "source": [
        "modelo=sm.OLS(Y,X)\n",
        "resultados=modelo.fit()\n",
        "print(resultados.summary())"
      ],
      "execution_count": null,
      "outputs": [
        {
          "output_type": "stream",
          "text": [
            "                            OLS Regression Results                            \n",
            "==============================================================================\n",
            "Dep. Variable:                  price   R-squared:                       0.028\n",
            "Model:                            OLS   Adj. R-squared:                  0.028\n",
            "Method:                 Least Squares   F-statistic:                     282.1\n",
            "Date:                Thu, 25 Jun 2020   Prob (F-statistic):          1.75e-121\n",
            "Time:                        22:00:44   Log-Likelihood:            -2.1589e+05\n",
            "No. Observations:               19381   AIC:                         4.318e+05\n",
            "Df Residuals:                   19378   BIC:                         4.318e+05\n",
            "Df Model:                           2                                         \n",
            "Covariance Type:            nonrobust                                         \n",
            "===============================================================================\n",
            "                  coef    std err          t      P>|t|      [0.025      0.975]\n",
            "-------------------------------------------------------------------------------\n",
            "const        1.305e+04    262.836     49.666      0.000    1.25e+04    1.36e+04\n",
            "bedrooms     3246.1545    138.276     23.476      0.000    2975.121    3517.188\n",
            "dum_Palermo   539.9372    296.293      1.822      0.068     -40.822    1120.697\n",
            "==============================================================================\n",
            "Omnibus:                    24715.663   Durbin-Watson:                   1.884\n",
            "Prob(Omnibus):                  0.000   Jarque-Bera (JB):         17619438.157\n",
            "Skew:                           6.504   Prob(JB):                         0.00\n",
            "Kurtosis:                     150.137   Cond. No.                         5.46\n",
            "==============================================================================\n",
            "\n",
            "Warnings:\n",
            "[1] Standard Errors assume that the covariance matrix of the errors is correctly specified.\n"
          ],
          "name": "stdout"
        }
      ]
    },
    {
      "cell_type": "code",
      "metadata": {
        "id": "p62or0DRlkP7"
      },
      "source": [
        "Ypred=resultados.predict(X)"
      ],
      "execution_count": null,
      "outputs": []
    },
    {
      "cell_type": "code",
      "metadata": {
        "id": "hVkhzoR9lpec",
        "colab": {
          "base_uri": "https://localhost:8080/",
          "height": 283
        },
        "outputId": "d87e8bd1-fde9-461a-a318-3b6173b33269"
      },
      "source": [
        "plt.scatter(datos.bedrooms,Ypred)"
      ],
      "execution_count": null,
      "outputs": [
        {
          "output_type": "execute_result",
          "data": {
            "text/plain": [
              "<matplotlib.collections.PathCollection at 0x7fc39f5832b0>"
            ]
          },
          "metadata": {
            "tags": []
          },
          "execution_count": 24
        },
        {
          "output_type": "display_data",
          "data": {
            "image/png": "[encoded data removed]",
            "text/plain": [
              "<Figure size 432x288 with 1 Axes>"
            ]
          },
          "metadata": {
            "tags": [],
            "needs_background": "light"
          }
        }
      ]
    },
    {
      "cell_type": "markdown",
      "metadata": {
        "id": "WKjbMGU0xeMR"
      },
      "source": [
        "#Estimacion del Modelo Multivariado\n",
        "\n",
        "Modelo propuesto:\n",
        "\n",
        "$price_i=\\beta_0+\\beta_1*bedrooms_i+\\beta_2*surface+\\epsilon_i$"
      ]
    },
    {
      "cell_type": "code",
      "metadata": {
        "id": "swCa6Gopfg8L",
        "colab": {
          "base_uri": "https://localhost:8080/",
          "height": 475
        },
        "outputId": "c7a19386-c5c5-4453-908e-63e391da22ce"
      },
      "source": [
        "datos=departamentosCABA[['price', 'bedrooms','surface_to']]\n",
        "# el metodo dropna() me permite eliminar las filas que tienen algun valor missing\n",
        "datos=datos.dropna()\n",
        "Y=datos.price\n",
        "X=datos[['bedrooms','surface_to']]\n",
        "X=sm.add_constant(X)\n",
        "modelo=sm.OLS(Y,X)\n",
        "resultados=modelo.fit()\n",
        "print(resultados.summary())"
      ],
      "execution_count": null,
      "outputs": [
        {
          "output_type": "stream",
          "text": [
            "                            OLS Regression Results                            \n",
            "==============================================================================\n",
            "Dep. Variable:                  price   R-squared:                       0.028\n",
            "Model:                            OLS   Adj. R-squared:                  0.028\n",
            "Method:                 Least Squares   F-statistic:                     281.5\n",
            "Date:                Thu, 25 Jun 2020   Prob (F-statistic):          3.10e-121\n",
            "Time:                        22:00:44   Log-Likelihood:            -2.1590e+05\n",
            "No. Observations:               19381   AIC:                         4.318e+05\n",
            "Df Residuals:                   19378   BIC:                         4.318e+05\n",
            "Df Model:                           2                                         \n",
            "Covariance Type:            nonrobust                                         \n",
            "==============================================================================\n",
            "                 coef    std err          t      P>|t|      [0.025      0.975]\n",
            "------------------------------------------------------------------------------\n",
            "const       1.313e+04    259.172     50.670      0.000    1.26e+04    1.36e+04\n",
            "bedrooms    3304.5656    140.435     23.531      0.000    3029.301    3579.830\n",
            "surface_to    -0.7187      0.487     -1.475      0.140      -1.674       0.237\n",
            "==============================================================================\n",
            "Omnibus:                    24727.655   Durbin-Watson:                   1.884\n",
            "Prob(Omnibus):                  0.000   Jarque-Bera (JB):         17597710.815\n",
            "Skew:                           6.511   Prob(JB):                         0.00\n",
            "Kurtosis:                     150.045   Cond. No.                         639.\n",
            "==============================================================================\n",
            "\n",
            "Warnings:\n",
            "[1] Standard Errors assume that the covariance matrix of the errors is correctly specified.\n"
          ],
          "name": "stdout"
        }
      ]
    },
    {
      "cell_type": "code",
      "metadata": {
        "id": "VkmupEVngA3S",
        "colab": {
          "base_uri": "https://localhost:8080/",
          "height": 457
        },
        "outputId": "b6e23249-e5c7-4053-e56f-39ff22d66269"
      },
      "source": [
        "datos=departamentosCABA[['price', 'bedrooms','surface_to']]\n",
        "# el metodo dropna() me permite eliminar las filas que tienen algun valor missing\n",
        "datos=datos.dropna()\n",
        "Y=datos.price\n",
        "X=datos[['surface_to']]\n",
        "X=sm.add_constant(X)\n",
        "modelo=sm.OLS(Y,X)\n",
        "resultados=modelo.fit()\n",
        "print(resultados.summary())"
      ],
      "execution_count": null,
      "outputs": [
        {
          "output_type": "stream",
          "text": [
            "                            OLS Regression Results                            \n",
            "==============================================================================\n",
            "Dep. Variable:                  price   R-squared:                       0.000\n",
            "Model:                            OLS   Adj. R-squared:                  0.000\n",
            "Method:                 Least Squares   F-statistic:                     9.025\n",
            "Date:                Thu, 25 Jun 2020   Prob (F-statistic):            0.00267\n",
            "Time:                        22:01:54   Log-Likelihood:            -2.1617e+05\n",
            "No. Observations:               19381   AIC:                         4.323e+05\n",
            "Df Residuals:                   19379   BIC:                         4.324e+05\n",
            "Df Model:                           1                                         \n",
            "Covariance Type:            nonrobust                                         \n",
            "==============================================================================\n",
            "                 coef    std err          t      P>|t|      [0.025      0.975]\n",
            "------------------------------------------------------------------------------\n",
            "const       1.845e+04    128.807    143.224      0.000    1.82e+04    1.87e+04\n",
            "surface_to     1.4578      0.485      3.004      0.003       0.507       2.409\n",
            "==============================================================================\n",
            "Omnibus:                    25039.046   Durbin-Watson:                   1.884\n",
            "Prob(Omnibus):                  0.000   Jarque-Bera (JB):         16960133.610\n",
            "Skew:                           6.699   Prob(JB):                         0.00\n",
            "Kurtosis:                     147.301   Cond. No.                         282.\n",
            "==============================================================================\n",
            "\n",
            "Warnings:\n",
            "[1] Standard Errors assume that the covariance matrix of the errors is correctly specified.\n"
          ],
          "name": "stdout"
        }
      ]
    },
    {
      "cell_type": "code",
      "metadata": {
        "id": "42O8f5RkfqkV"
      },
      "source": [
        ""
      ],
      "execution_count": null,
      "outputs": []
    }
  ]
}