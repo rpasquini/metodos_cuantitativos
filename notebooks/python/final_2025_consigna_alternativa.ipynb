{
  "cells": [
    {
      "cell_type": "markdown",
      "metadata": {
        "colab_type": "text",
        "id": "view-in-github"
      },
      "source": [
        "<a href=\"https://colab.research.google.com/github/rpasquini/metodos_cuantitativos/blob/main/notebooks/python/final_2025_consigna_alternativa.ipynb\" target=\"_parent\"><img src=\"https://colab.research.google.com/assets/colab-badge.svg\" alt=\"Open In Colab\"/></a>"
      ]
    },
    {
      "cell_type": "markdown",
      "metadata": {
        "vscode": {
          "languageId": "raw"
        }
      },
      "source": [
        "# Trabajo Final Alternativo: Metodos Cuantitativos Aplicados a Estudios Urbanos 2025\n",
        "\n",
        "Profesor Ricardo Pasquini  \n",
        "Universidad Torcuato Di Tella  \n",
        "[rpasquini@utdt.edu](rpasquini@utdt.edu)\n",
        "\n",
        "Esta consigna alternativa está diseñada para estudiantes que deseen aplicar las herramientas del curso a datos relacionados con sus proyectos de tesis. El objetivo es que demuestren su comprensión de los conceptos fundamentales del curso aplicándolos a problemas de investigación específicos.\n"
      ]
    },
    {
      "cell_type": "markdown",
      "metadata": {
        "vscode": {
          "languageId": "raw"
        }
      },
      "source": [
        "**Importante:**\n",
        "* El trabajo se realiza en forma individual\n",
        "* La entrega se realiza exclusivamente mediante el Campus UTDT\n",
        "* Para responder a las preguntas, trabaje sobre un notebook ingresando celdas de texto y código que hagan falta para responder a las preguntas.\n",
        "* Al finalizar, comparta el link al notebook, incluyendo el link en el examen final CONSIGNA ALTERNATIVA\n",
        "* Recuerde otorgar permisos de edición a rpasquini@utdt.edu\n",
        "\n",
        "**Nota sobre la evaluación:**\n",
        "* Se evaluará la correcta aplicación de los conceptos del curso\n",
        "* Se valorará la claridad en la presentación y justificación de las decisiones metodológicas\n",
        "* Se tendrá en cuenta la calidad de las interpretaciones y la conexión con la pregunta de investigación\n",
        "* No es necesario que todos los supuestos del modelo se cumplan perfectamente, pero sí que se discutan las implicaciones de su violación\n"
      ]
    },
    {
      "cell_type": "markdown",
      "metadata": {
        "vscode": {
          "languageId": "raw"
        }
      },
      "source": [
        "## Parte 1: Presentación del Problema y los Datos\n",
        "\n",
        "### 1. Describa brevemente el problema de investigación que desea abordar. Explique:\n",
        "   - La pregunta de investigación principal \n",
        "   - La relevancia del problema (brevemente)\n",
        "   - Las variables principales que utilizará\n",
        "   - La fuente de los datos\n",
        "\n",
        "*Ingrese aquí su respuesta en formato texto*\n"
      ]
    },
    {
      "cell_type": "code",
      "execution_count": null,
      "metadata": {},
      "outputs": [],
      "source": [
        "# Ingrese aquí el código para cargar sus datos\n",
        "import pandas as pd\n",
        "import numpy as np\n",
        "import matplotlib.pyplot as plt\n",
        "import seaborn as sns\n",
        "import statsmodels.api as sm\n",
        "\n",
        "# Su código aquí\n"
      ]
    },
    {
      "cell_type": "markdown",
      "metadata": {
        "vscode": {
          "languageId": "raw"
        }
      },
      "source": [
        "### 2. Presente un análisis descriptivo de sus datos que incluya:\n",
        "   - Estadísticas descriptivas de las variables principales\n",
        "   - Al menos una visualización relevante de los datos\n",
        "   - Si corresponde, un mapa que muestre la distribución espacial de sus variables de interés\n",
        "\n",
        "*Ingrese aquí su interpretación de las estadísticas descriptivas*\n"
      ]
    },
    {
      "cell_type": "code",
      "execution_count": null,
      "metadata": {},
      "outputs": [],
      "source": [
        "# Código para el análisis descriptivo\n",
        "# Su código aquí\n"
      ]
    },
    {
      "cell_type": "markdown",
      "metadata": {
        "vscode": {
          "languageId": "raw"
        }
      },
      "source": [
        "## Parte 2: Desarrollo del Modelo Econométrico\n",
        "\n",
        "### 3. Proponga un modelo econométrico para abordar su pregunta de investigación:\n",
        "   - Escriba la especificación formal del modelo\n",
        "   - Justifique la elección de la variable dependiente y las variables explicativas\n",
        "   - Explique por qué esta especificación es apropiada para su pregunta de investigación\n",
        "\n",
        "*Ingrese aquí su respuesta en formato texto*\n"
      ]
    },
    {
      "cell_type": "markdown",
      "metadata": {
        "vscode": {
          "languageId": "raw"
        }
      },
      "source": [
        "### 4. Presente el código utilizado para estimar su modelo y los resultados obtenidos:\n"
      ]
    },
    {
      "cell_type": "code",
      "execution_count": null,
      "metadata": {},
      "outputs": [],
      "source": [
        "# Código para la estimación del modelo\n",
        "# Su código aquí\n"
      ]
    },
    {
      "cell_type": "markdown",
      "metadata": {
        "vscode": {
          "languageId": "raw"
        }
      },
      "source": [
        "## Parte 3: Análisis de Resultados\n",
        "\n",
        "### 5. Interprete los coeficientes estimados:\n",
        "   - ¿Qué significado tienen los coeficientes en el contexto de su investigación?\n",
        "   - ¿Son los signos y magnitudes consistentes con sus expectativas teóricas?\n",
        "   - ¿Qué puede decir sobre la significancia estadística de los resultados?\n",
        "\n",
        "*Ingrese aquí su respuesta en formato texto*\n"
      ]
    },
    {
      "cell_type": "markdown",
      "metadata": {
        "vscode": {
          "languageId": "raw"
        }
      },
      "source": [
        "### 6. Evalúe la bondad de ajuste del modelo:\n",
        "   - Interprete las medidas de bondad de ajuste (R², R² ajustado, etc.)\n",
        "   - ¿Considera que el modelo explica adecuadamente la variación en su variable dependiente?\n",
        "   - Si corresponde, compare diferentes especificaciones del modelo\n",
        "\n",
        "*Ingrese aquí su respuesta en formato texto*\n"
      ]
    },
    {
      "cell_type": "markdown",
      "metadata": {
        "vscode": {
          "languageId": "raw"
        }
      },
      "source": [
        "## Parte 4: Diagnóstico del Modelo\n",
        "\n",
        "### 7. Analice los supuestos del modelo:\n",
        "   - Presente gráficos de diagnóstico de los residuos (histograma, Q-Q plot)\n",
        "   - Evalúe la normalidad de los residuos\n",
        "   - Si corresponde, analice la presencia de heterocedasticidad\n",
        "   - Discuta las implicaciones de cualquier violación de los supuestos\n"
      ]
    },
    {
      "cell_type": "code",
      "execution_count": null,
      "metadata": {},
      "outputs": [],
      "source": [
        "# Código para el análisis de residuos\n",
        "# Su código aquí\n"
      ]
    },
    {
      "cell_type": "markdown",
      "metadata": {
        "vscode": {
          "languageId": "raw"
        }
      },
      "source": [
        "### 8. Si su modelo incluye múltiples variables explicativas:\n",
        "   - Analice la correlación entre las variables explicativas\n",
        "   - Discuta las implicaciones para la interpretación de los coeficientes\n",
        "   - Si corresponde, proponga y justifique modificaciones al modelo\n",
        "\n",
        "*Ingrese aquí su respuesta en formato texto*\n"
      ]
    },
    {
      "cell_type": "code",
      "execution_count": null,
      "metadata": {},
      "outputs": [],
      "source": [
        "# Código para el análisis de correlación entre variables\n",
        "# Su código aquí\n"
      ]
    },
    {
      "cell_type": "markdown",
      "metadata": {
        "vscode": {
          "languageId": "raw"
        }
      },
      "source": [
        "## Parte 5: Análisis Espacial (si corresponde)\n",
        "\n",
        "### 9. Si sus datos tienen una dimensión espacial:\n",
        "   - Presente mapas que muestren la distribución espacial de sus variables y/o residuos\n",
        "   - Analice la presencia de patrones espaciales\n",
        "   - Discuta las implicaciones para su análisis\n",
        "\n",
        "*Complete esta sección solo si sus datos tienen una dimensión espacial*\n"
      ]
    },
    {
      "cell_type": "code",
      "execution_count": null,
      "metadata": {},
      "outputs": [],
      "source": [
        "# Código para el análisis espacial\n",
        "# Si corresponde, incluya aquí su código para generar mapas y análisis espacial\n",
        "# import geopandas as gpd  # Descomente esta línea si necesita trabajar con datos espaciales\n",
        "\n",
        "# Su código aquí\n"
      ]
    },
    {
      "cell_type": "markdown",
      "metadata": {
        "vscode": {
          "languageId": "raw"
        }
      },
      "source": [
        "## Parte 6: Conclusiones\n",
        "\n",
        "### 10. Presente sus conclusiones:\n",
        "    - ¿Qué aprendimos sobre su pregunta de investigación?\n",
        "    - ¿Cuáles son las limitaciones de su análisis?\n",
        "    - ¿Qué extensiones o mejoras sugiere para futuros análisis?\n",
        "\n",
        "*Ingrese aquí su respuesta en formato texto*\n"
      ]
    }
  ],
  "metadata": {
    "language_info": {
      "name": "python"
    }
  },
  "nbformat": 4,
  "nbformat_minor": 2
}