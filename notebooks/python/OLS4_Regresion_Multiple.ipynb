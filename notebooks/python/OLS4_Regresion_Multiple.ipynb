{
  "cells": [
    {
      "cell_type": "markdown",
      "metadata": {
        "colab_type": "text",
        "id": "view-in-github"
      },
      "source": [
        "<a href=\"https://colab.research.google.com/github/rpasquini/metodos_cuantitativos/blob/main/notebooks/python/OLS4_Regresion_Multiple.ipynb\" target=\"_parent\"><img src=\"https://colab.research.google.com/assets/colab-badge.svg\" alt=\"Open In Colab\"/></a>"
      ]
    },
    {
      "cell_type": "code",
      "execution_count": 1,
      "metadata": {
        "colab": {
          "base_uri": "https://localhost:8080/",
          "height": 512
        },
        "id": "_zCex4wbRiaY",
        "outputId": "eb435312-dd97-4b6a-abab-8f4a8ed84813"
      },
      "outputs": [],
      "source": [
        "import geopandas as gpd # Libreria para manipular datos y mapear\n",
        "import statsmodels.formula.api as smf # Libreria para tests estadisticos- regresion\n",
        "import matplotlib.pyplot as plt # Libreria para graficos\n",
        "import numpy as np # Libreria para operaciones numéricas"
      ]
    },
    {
      "cell_type": "code",
      "execution_count": 2,
      "metadata": {
        "id": "uP68Bf9se7bx"
      },
      "outputs": [
        {
          "ename": "PermissionError",
          "evalue": "[Errno 13] Permission denied: '/content'",
          "output_type": "error",
          "traceback": [
            "\u001b[0;31m---------------------------------------------------------------------------\u001b[0m",
            "\u001b[0;31mPermissionError\u001b[0m                           Traceback (most recent call last)",
            "Cell \u001b[0;32mIn[2], line 16\u001b[0m\n\u001b[1;32m     13\u001b[0m zip_file \u001b[38;5;241m=\u001b[39m zipfile\u001b[38;5;241m.\u001b[39mZipFile(io\u001b[38;5;241m.\u001b[39mBytesIO(response\u001b[38;5;241m.\u001b[39mcontent))\n\u001b[1;32m     15\u001b[0m \u001b[38;5;66;03m# 2. Extract the contents of the zip file\u001b[39;00m\n\u001b[0;32m---> 16\u001b[0m \u001b[43mzip_file\u001b[49m\u001b[38;5;241;43m.\u001b[39;49m\u001b[43mextractall\u001b[49m\u001b[43m(\u001b[49m\u001b[38;5;124;43m\"\u001b[39;49m\u001b[38;5;124;43m/content/\u001b[39;49m\u001b[38;5;124;43m\"\u001b[39;49m\u001b[43m)\u001b[49m\n\u001b[1;32m     18\u001b[0m \u001b[38;5;66;03m#3. Leer el shapefile con Geopandas (notar que el archivo ya se encuentra en el directorio de Colab)\u001b[39;00m\n\u001b[1;32m     19\u001b[0m departamentos \u001b[38;5;241m=\u001b[39m gpd\u001b[38;5;241m.\u001b[39mread_file(\u001b[38;5;124m'\u001b[39m\u001b[38;5;124mdepartamentos2019amba.shp\u001b[39m\u001b[38;5;124m'\u001b[39m)\n",
            "File \u001b[0;32m~/miniconda3/envs/agrolmos/lib/python3.9/zipfile.py:1642\u001b[0m, in \u001b[0;36mZipFile.extractall\u001b[0;34m(self, path, members, pwd)\u001b[0m\n\u001b[1;32m   1639\u001b[0m     path \u001b[38;5;241m=\u001b[39m os\u001b[38;5;241m.\u001b[39mfspath(path)\n\u001b[1;32m   1641\u001b[0m \u001b[38;5;28;01mfor\u001b[39;00m zipinfo \u001b[38;5;129;01min\u001b[39;00m members:\n\u001b[0;32m-> 1642\u001b[0m     \u001b[38;5;28;43mself\u001b[39;49m\u001b[38;5;241;43m.\u001b[39;49m\u001b[43m_extract_member\u001b[49m\u001b[43m(\u001b[49m\u001b[43mzipinfo\u001b[49m\u001b[43m,\u001b[49m\u001b[43m \u001b[49m\u001b[43mpath\u001b[49m\u001b[43m,\u001b[49m\u001b[43m \u001b[49m\u001b[43mpwd\u001b[49m\u001b[43m)\u001b[49m\n",
            "File \u001b[0;32m~/miniconda3/envs/agrolmos/lib/python3.9/zipfile.py:1688\u001b[0m, in \u001b[0;36mZipFile._extract_member\u001b[0;34m(self, member, targetpath, pwd)\u001b[0m\n\u001b[1;32m   1686\u001b[0m upperdirs \u001b[38;5;241m=\u001b[39m os\u001b[38;5;241m.\u001b[39mpath\u001b[38;5;241m.\u001b[39mdirname(targetpath)\n\u001b[1;32m   1687\u001b[0m \u001b[38;5;28;01mif\u001b[39;00m upperdirs \u001b[38;5;129;01mand\u001b[39;00m \u001b[38;5;129;01mnot\u001b[39;00m os\u001b[38;5;241m.\u001b[39mpath\u001b[38;5;241m.\u001b[39mexists(upperdirs):\n\u001b[0;32m-> 1688\u001b[0m     \u001b[43mos\u001b[49m\u001b[38;5;241;43m.\u001b[39;49m\u001b[43mmakedirs\u001b[49m\u001b[43m(\u001b[49m\u001b[43mupperdirs\u001b[49m\u001b[43m)\u001b[49m\n\u001b[1;32m   1690\u001b[0m \u001b[38;5;28;01mif\u001b[39;00m member\u001b[38;5;241m.\u001b[39mis_dir():\n\u001b[1;32m   1691\u001b[0m     \u001b[38;5;28;01mif\u001b[39;00m \u001b[38;5;129;01mnot\u001b[39;00m os\u001b[38;5;241m.\u001b[39mpath\u001b[38;5;241m.\u001b[39misdir(targetpath):\n",
            "File \u001b[0;32m~/miniconda3/envs/agrolmos/lib/python3.9/os.py:225\u001b[0m, in \u001b[0;36mmakedirs\u001b[0;34m(name, mode, exist_ok)\u001b[0m\n\u001b[1;32m    223\u001b[0m         \u001b[38;5;28;01mreturn\u001b[39;00m\n\u001b[1;32m    224\u001b[0m \u001b[38;5;28;01mtry\u001b[39;00m:\n\u001b[0;32m--> 225\u001b[0m     \u001b[43mmkdir\u001b[49m\u001b[43m(\u001b[49m\u001b[43mname\u001b[49m\u001b[43m,\u001b[49m\u001b[43m \u001b[49m\u001b[43mmode\u001b[49m\u001b[43m)\u001b[49m\n\u001b[1;32m    226\u001b[0m \u001b[38;5;28;01mexcept\u001b[39;00m \u001b[38;5;167;01mOSError\u001b[39;00m:\n\u001b[1;32m    227\u001b[0m     \u001b[38;5;66;03m# Cannot rely on checking for EEXIST, since the operating system\u001b[39;00m\n\u001b[1;32m    228\u001b[0m     \u001b[38;5;66;03m# could give priority to other errors like EACCES or EROFS\u001b[39;00m\n\u001b[1;32m    229\u001b[0m     \u001b[38;5;28;01mif\u001b[39;00m \u001b[38;5;129;01mnot\u001b[39;00m exist_ok \u001b[38;5;129;01mor\u001b[39;00m \u001b[38;5;129;01mnot\u001b[39;00m path\u001b[38;5;241m.\u001b[39misdir(name):\n",
            "\u001b[0;31mPermissionError\u001b[0m: [Errno 13] Permission denied: '/content'"
          ]
        }
      ],
      "source": [
        "departamentos=gpd.GeoDataFrame.from_file(\"https://github.com/rpasquini/urban-econometrics/blob/master/data/departamentos2019amba.zip?raw=true\")# Reemplace la siguiente linea por un proceso paso a paso para prevenir errores\n",
        "# El proceso ahora descarga el zip file, lo descomprime, y recien lee el archivo\n",
        "# departamentos=gpd.GeoDataFrame.from_file(\"https://github.com/rpasquini/urban-econometrics/blob/master/data/departamentos2019amba.zip?raw=true\")\n",
        "\n",
        "import requests\n",
        "import zipfile\n",
        "import io\n",
        "\n",
        "\n",
        "# 1. Download the zip file\n",
        "url = \"https://github.com/rpasquini/urban-econometrics/blob/master/data/departamentos2019amba.zip?raw=true\"\n",
        "response = requests.get(url)\n",
        "zip_file = zipfile.ZipFile(io.BytesIO(response.content))\n",
        "\n",
        "# 2. Extract the contents of the zip file\n",
        "zip_file.extractall(\"/content/\")\n",
        "\n",
        "#3. Leer el shapefile con Geopandas (notar que el archivo ya se encuentra en el directorio de Colab)\n",
        "departamentos = gpd.read_file('departamentos2019amba.shp')"
      ]
    },
    {
      "cell_type": "code",
      "execution_count": 6,
      "metadata": {
        "colab": {
          "base_uri": "https://localhost:8080/",
          "height": 481
        },
        "id": "e2zHgGodfEGo",
        "outputId": "2e0088b5-5576-4809-c5cf-69aa8faa61ac"
      },
      "outputs": [
        {
          "data": {
            "text/plain": [
              "Index(['bathrooms', 'bedrooms', 'country', 'created_on', 'currency',\n",
              "       'descriptio', 'developmen', 'end_date', 'index', 'l1', 'l2', 'l3', 'l4',\n",
              "       'l5', 'l6', 'lat', 'lon', 'operation', 'operation_', 'price',\n",
              "       'price_peri', 'rooms', 'start_date', 'surface_co', 'surface_to',\n",
              "       'title', 'type', 'type_i18n', 'geometry'],\n",
              "      dtype='object')"
            ]
          },
          "execution_count": 6,
          "metadata": {},
          "output_type": "execute_result"
        }
      ],
      "source": [
        "departamentos.columns"
      ]
    },
    {
      "cell_type": "code",
      "execution_count": 4,
      "metadata": {
        "id": "J8mm_3-z9NP1"
      },
      "outputs": [
        {
          "name": "stdout",
          "output_type": "stream",
          "text": [
            "                            OLS Regression Results                            \n",
            "==============================================================================\n",
            "Dep. Variable:                  price   R-squared:                       0.049\n",
            "Model:                            OLS   Adj. R-squared:                  0.049\n",
            "Method:                 Least Squares   F-statistic:                     1443.\n",
            "Date:                Thu, 26 Jun 2025   Prob (F-statistic):          7.68e-308\n",
            "Time:                        18:02:09   Log-Likelihood:            -3.0876e+05\n",
            "No. Observations:               27879   AIC:                         6.175e+05\n",
            "Df Residuals:                   27877   BIC:                         6.175e+05\n",
            "Df Model:                           1                                         \n",
            "Covariance Type:            nonrobust                                         \n",
            "==============================================================================\n",
            "                 coef    std err          t      P>|t|      [0.025      0.975]\n",
            "------------------------------------------------------------------------------\n",
            "Intercept   1.151e+04    205.145     56.088      0.000    1.11e+04    1.19e+04\n",
            "bedrooms    4253.5067    111.984     37.983      0.000    4034.013    4473.000\n",
            "==============================================================================\n",
            "Omnibus:                    39834.368   Durbin-Watson:                   1.851\n",
            "Prob(Omnibus):                  0.000   Jarque-Bera (JB):         59814269.062\n",
            "Skew:                           7.918   Prob(JB):                         0.00\n",
            "Kurtosis:                     229.365   Cond. No.                         5.02\n",
            "==============================================================================\n",
            "\n",
            "Notes:\n",
            "[1] Standard Errors assume that the covariance matrix of the errors is correctly specified.\n"
          ]
        }
      ],
      "source": [
        "modelo=smf.ols(formula='price ~ bedrooms', data=departamentos)\n",
        "resultados=modelo.fit()\n",
        "print(resultados.summary())\n"
      ]
    },
    {
      "cell_type": "markdown",
      "metadata": {
        "id": "p7w8Z5g2faBg"
      },
      "source": [
        "#Estimacion del Modelo Multivariado\n",
        "\n",
        "Modelo propuesto:\n",
        "\n",
        "$price_i=\\beta_0+\\beta_1*bedrooms_i+\\beta_2*surface+\\epsilon_i$"
      ]
    },
    {
      "cell_type": "code",
      "execution_count": 9,
      "metadata": {
        "colab": {
          "base_uri": "https://localhost:8080/",
          "height": 475
        },
        "id": "maS-rnPZAOpp",
        "outputId": "d99936ea-9bde-4d53-9613-0e82f53a6d2c"
      },
      "outputs": [
        {
          "name": "stdout",
          "output_type": "stream",
          "text": [
            "                            OLS Regression Results                            \n",
            "==============================================================================\n",
            "Dep. Variable:                  price   R-squared:                       0.049\n",
            "Model:                            OLS   Adj. R-squared:                  0.049\n",
            "Method:                 Least Squares   F-statistic:                     721.3\n",
            "Date:                Thu, 26 Jun 2025   Prob (F-statistic):          3.65e-306\n",
            "Time:                        18:04:04   Log-Likelihood:            -3.0876e+05\n",
            "No. Observations:               27879   AIC:                         6.175e+05\n",
            "Df Residuals:                   27876   BIC:                         6.176e+05\n",
            "Df Model:                           2                                         \n",
            "Covariance Type:            nonrobust                                         \n",
            "==============================================================================\n",
            "                 coef    std err          t      P>|t|      [0.025      0.975]\n",
            "------------------------------------------------------------------------------\n",
            "Intercept   1.151e+04    205.151     56.087      0.000    1.11e+04    1.19e+04\n",
            "bedrooms    4254.6586    113.955     37.336      0.000    4031.301    4478.017\n",
            "surface_to    -0.0225      0.412     -0.055      0.956      -0.829       0.784\n",
            "==============================================================================\n",
            "Omnibus:                    39834.681   Durbin-Watson:                   1.851\n",
            "Prob(Omnibus):                  0.000   Jarque-Bera (JB):         59815237.742\n",
            "Skew:                           7.918   Prob(JB):                         0.00\n",
            "Kurtosis:                     229.367   Cond. No.                         605.\n",
            "==============================================================================\n",
            "\n",
            "Notes:\n",
            "[1] Standard Errors assume that the covariance matrix of the errors is correctly specified.\n"
          ]
        }
      ],
      "source": [
        "print(smf.ols(formula='price ~ bedrooms + surface_to', data=departamentos).fit().summary())"
      ]
    },
    {
      "cell_type": "code",
      "execution_count": 10,
      "metadata": {},
      "outputs": [
        {
          "name": "stdout",
          "output_type": "stream",
          "text": [
            "                            OLS Regression Results                            \n",
            "==============================================================================\n",
            "Dep. Variable:                  price   R-squared:                       0.004\n",
            "Model:                            OLS   Adj. R-squared:                  0.004\n",
            "Method:                 Least Squares   F-statistic:                     210.4\n",
            "Date:                Thu, 26 Jun 2025   Prob (F-statistic):           1.37e-47\n",
            "Time:                        18:04:22   Log-Likelihood:            -5.6558e+05\n",
            "No. Observations:               50653   AIC:                         1.131e+06\n",
            "Df Residuals:                   50651   BIC:                         1.131e+06\n",
            "Df Model:                           1                                         \n",
            "Covariance Type:            nonrobust                                         \n",
            "==============================================================================\n",
            "                 coef    std err          t      P>|t|      [0.025      0.975]\n",
            "------------------------------------------------------------------------------\n",
            "Intercept   1.735e+04     82.221    210.981      0.000    1.72e+04    1.75e+04\n",
            "surface_to     6.0797      0.419     14.507      0.000       5.258       6.901\n",
            "==============================================================================\n",
            "Omnibus:                   122577.427   Durbin-Watson:                   1.860\n",
            "Prob(Omnibus):                  0.000   Jarque-Bera (JB):       6193213175.294\n",
            "Skew:                          24.639   Prob(JB):                         0.00\n",
            "Kurtosis:                    1715.306   Cond. No.                         212.\n",
            "==============================================================================\n",
            "\n",
            "Notes:\n",
            "[1] Standard Errors assume that the covariance matrix of the errors is correctly specified.\n"
          ]
        }
      ],
      "source": [
        "print(smf.ols(formula='price ~ surface_to', data=departamentos).fit().summary())"
      ]
    },
    {
      "cell_type": "markdown",
      "metadata": {
        "id": "4HbYqws-Xjm_"
      },
      "source": [
        "# Ejemplo OVB\n"
      ]
    },
    {
      "cell_type": "code",
      "execution_count": 11,
      "metadata": {},
      "outputs": [],
      "source": [
        "import pandas as pd"
      ]
    },
    {
      "cell_type": "code",
      "execution_count": 12,
      "metadata": {
        "id": "9yt1pkXzR-yG"
      },
      "outputs": [],
      "source": [
        "datosedu=pd.read_csv('https://raw.githubusercontent.com/rpasquini/urban-econometrics/master/data/estadistica-educativa.csv')"
      ]
    },
    {
      "cell_type": "code",
      "execution_count": 13,
      "metadata": {
        "id": "vO0cacNYYR8n"
      },
      "outputs": [],
      "source": [
        "dummiesgestion=pd.get_dummies(datosedu.tipo_gestion)"
      ]
    },
    {
      "cell_type": "code",
      "execution_count": 14,
      "metadata": {
        "id": "FiLl_MM7XplM"
      },
      "outputs": [],
      "source": [
        "datosedu=pd.concat([ datosedu, dummiesgestion],axis=1)"
      ]
    },
    {
      "cell_type": "code",
      "execution_count": null,
      "metadata": {
        "colab": {
          "base_uri": "https://localhost:8080/",
          "height": 457
        },
        "id": "-QX5Q3grYaEi",
        "outputId": "a9760e5b-9385-476b-bd78-80dd7fc1ea40"
      },
      "outputs": [
        {
          "name": "stdout",
          "output_type": "stream",
          "text": [
            "                            OLS Regression Results                            \n",
            "==============================================================================\n",
            "Dep. Variable:                  iecep   R-squared:                       0.203\n",
            "Model:                            OLS   Adj. R-squared:                  0.200\n",
            "Method:                 Least Squares   F-statistic:                     77.79\n",
            "Date:                Thu, 26 Jun 2025   Prob (F-statistic):           8.89e-17\n",
            "Time:                        18:05:31   Log-Likelihood:                -487.24\n",
            "No. Observations:                 308   AIC:                             978.5\n",
            "Df Residuals:                     306   BIC:                             985.9\n",
            "Df Model:                           1                                         \n",
            "Covariance Type:            nonrobust                                         \n",
            "===================================================================================\n",
            "                      coef    std err          t      P>|t|      [0.025      0.975]\n",
            "-----------------------------------------------------------------------------------\n",
            "Intercept           5.2251      0.110     47.656      0.000       5.009       5.441\n",
            "Privada[T.True]     1.2248      0.139      8.820      0.000       0.952       1.498\n",
            "==============================================================================\n",
            "Omnibus:                       40.664   Durbin-Watson:                   1.866\n",
            "Prob(Omnibus):                  0.000   Jarque-Bera (JB):               53.439\n",
            "Skew:                          -0.924   Prob(JB):                     2.49e-12\n",
            "Kurtosis:                       3.864   Cond. No.                         3.02\n",
            "==============================================================================\n",
            "\n",
            "Notes:\n",
            "[1] Standard Errors assume that the covariance matrix of the errors is correctly specified.\n"
          ]
        }
      ],
      "source": [
        "resultados=smf.ols(formula='iecep ~ Privada', data=datosedu).fit()\n",
        "print(resultados.summary())"
      ]
    },
    {
      "cell_type": "code",
      "execution_count": null,
      "metadata": {
        "id": "PurPS-QTYvFo"
      },
      "outputs": [],
      "source": []
    },
    {
      "cell_type": "markdown",
      "metadata": {
        "id": "PSVVqNSrStmm"
      },
      "source": [
        "# Ejemplos Colinealidad\n"
      ]
    },
    {
      "cell_type": "code",
      "execution_count": 17,
      "metadata": {
        "id": "oCRRO-RuOehL"
      },
      "outputs": [],
      "source": [
        "departamentos['bedrooms2']=departamentos.bedrooms**2"
      ]
    },
    {
      "cell_type": "code",
      "execution_count": 18,
      "metadata": {
        "colab": {
          "base_uri": "https://localhost:8080/",
          "height": 475
        },
        "id": "OS7b9nr9OxoJ",
        "outputId": "412062db-940c-4fe9-b97b-d665448b882f"
      },
      "outputs": [
        {
          "name": "stdout",
          "output_type": "stream",
          "text": [
            "                            OLS Regression Results                            \n",
            "==============================================================================\n",
            "Dep. Variable:                  price   R-squared:                       0.056\n",
            "Model:                            OLS   Adj. R-squared:                  0.056\n",
            "Method:                 Least Squares   F-statistic:                     825.3\n",
            "Date:                Thu, 26 Jun 2025   Prob (F-statistic):               0.00\n",
            "Time:                        18:06:03   Log-Likelihood:            -3.0866e+05\n",
            "No. Observations:               27879   AIC:                         6.173e+05\n",
            "Df Residuals:                   27876   BIC:                         6.174e+05\n",
            "Df Model:                           2                                         \n",
            "Covariance Type:            nonrobust                                         \n",
            "==============================================================================\n",
            "                 coef    std err          t      P>|t|      [0.025      0.975]\n",
            "------------------------------------------------------------------------------\n",
            "Intercept   8430.1194    299.447     28.152      0.000    7843.189    9017.050\n",
            "bedrooms    7880.3003    281.087     28.035      0.000    7329.356    8431.245\n",
            "bedrooms2   -845.3877     60.136    -14.058      0.000    -963.256    -727.519\n",
            "==============================================================================\n",
            "Omnibus:                    40006.125   Durbin-Watson:                   1.853\n",
            "Prob(Omnibus):                  0.000   Jarque-Bera (JB):         61153936.503\n",
            "Skew:                           7.983   Prob(JB):                         0.00\n",
            "Kurtosis:                     231.889   Cond. No.                         23.7\n",
            "==============================================================================\n",
            "\n",
            "Notes:\n",
            "[1] Standard Errors assume that the covariance matrix of the errors is correctly specified.\n"
          ]
        }
      ],
      "source": [
        "print(smf.ols(formula='price ~ bedrooms + bedrooms2', data=departamentos).fit().summary())"
      ]
    },
    {
      "cell_type": "code",
      "execution_count": 19,
      "metadata": {
        "colab": {
          "base_uri": "https://localhost:8080/",
          "height": 457
        },
        "id": "V5HhKlmpSGAt",
        "outputId": "b378fe88-8524-49c5-91ba-5e3119bd7093"
      },
      "outputs": [
        {
          "name": "stdout",
          "output_type": "stream",
          "text": [
            "                             OLS Regression Results                             \n",
            "================================================================================\n",
            "Dep. Variable:     tasa_repeticion_2012   R-squared:                       0.179\n",
            "Model:                              OLS   Adj. R-squared:                  0.177\n",
            "Method:                   Least Squares   F-statistic:                     66.84\n",
            "Date:                  Thu, 26 Jun 2025   Prob (F-statistic):           7.90e-15\n",
            "Time:                          18:06:17   Log-Likelihood:                -1119.3\n",
            "No. Observations:                   308   AIC:                             2243.\n",
            "Df Residuals:                       306   BIC:                             2250.\n",
            "Df Model:                             1                                         \n",
            "Covariance Type:              nonrobust                                         \n",
            "================================================================================\n",
            "                   coef    std err          t      P>|t|      [0.025      0.975]\n",
            "--------------------------------------------------------------------------------\n",
            "Intercept       15.2180      0.901     16.886      0.000      13.445      16.991\n",
            "one_alto_mat   -23.5385      2.879     -8.176      0.000     -29.204     -17.873\n",
            "==============================================================================\n",
            "Omnibus:                       59.030   Durbin-Watson:                   1.930\n",
            "Prob(Omnibus):                  0.000   Jarque-Bera (JB):               91.831\n",
            "Skew:                           1.147   Prob(JB):                     1.15e-20\n",
            "Kurtosis:                       4.378   Cond. No.                         5.87\n",
            "==============================================================================\n",
            "\n",
            "Notes:\n",
            "[1] Standard Errors assume that the covariance matrix of the errors is correctly specified.\n"
          ]
        }
      ],
      "source": [
        "print(smf.ols(formula='tasa_repeticion_2012 ~ one_alto_mat', data=datosedu).fit().summary())"
      ]
    },
    {
      "cell_type": "code",
      "execution_count": 20,
      "metadata": {
        "colab": {
          "base_uri": "https://localhost:8080/",
          "height": 457
        },
        "id": "jqyC3a_KSR-n",
        "outputId": "7b5d367d-8dc9-4d96-cd54-883a66f37eab"
      },
      "outputs": [
        {
          "name": "stdout",
          "output_type": "stream",
          "text": [
            "                             OLS Regression Results                             \n",
            "================================================================================\n",
            "Dep. Variable:     tasa_repeticion_2012   R-squared:                       0.179\n",
            "Model:                              OLS   Adj. R-squared:                  0.177\n",
            "Method:                   Least Squares   F-statistic:                     66.93\n",
            "Date:                  Thu, 26 Jun 2025   Prob (F-statistic):           7.61e-15\n",
            "Time:                          18:06:31   Log-Likelihood:                -1119.2\n",
            "No. Observations:                   308   AIC:                             2242.\n",
            "Df Residuals:                       306   BIC:                             2250.\n",
            "Df Model:                             1                                         \n",
            "Covariance Type:              nonrobust                                         \n",
            "===================================================================================\n",
            "                      coef    std err          t      P>|t|      [0.025      0.975]\n",
            "-----------------------------------------------------------------------------------\n",
            "Intercept          15.3143      0.910     16.822      0.000      13.523      17.106\n",
            "one_alto_cs_nat   -30.1352      3.683     -8.181      0.000     -37.383     -22.887\n",
            "==============================================================================\n",
            "Omnibus:                       55.703   Durbin-Watson:                   1.985\n",
            "Prob(Omnibus):                  0.000   Jarque-Bera (JB):               84.013\n",
            "Skew:                           1.108   Prob(JB):                     5.71e-19\n",
            "Kurtosis:                       4.281   Cond. No.                         7.33\n",
            "==============================================================================\n",
            "\n",
            "Notes:\n",
            "[1] Standard Errors assume that the covariance matrix of the errors is correctly specified.\n"
          ]
        }
      ],
      "source": [
        "print(smf.ols(formula='tasa_repeticion_2012 ~ one_alto_cs_nat', data=datosedu).fit().summary())"
      ]
    },
    {
      "cell_type": "code",
      "execution_count": 21,
      "metadata": {
        "colab": {
          "base_uri": "https://localhost:8080/",
          "height": 457
        },
        "id": "kL8II8X9SWR7",
        "outputId": "6d8762d9-99c4-4655-92b6-97d40142bfc2"
      },
      "outputs": [
        {
          "name": "stdout",
          "output_type": "stream",
          "text": [
            "                             OLS Regression Results                             \n",
            "================================================================================\n",
            "Dep. Variable:     tasa_repeticion_2012   R-squared:                       0.190\n",
            "Model:                              OLS   Adj. R-squared:                  0.188\n",
            "Method:                   Least Squares   F-statistic:                     71.94\n",
            "Date:                  Thu, 26 Jun 2025   Prob (F-statistic):           9.62e-16\n",
            "Time:                          18:06:49   Log-Likelihood:                -1117.2\n",
            "No. Observations:                   308   AIC:                             2238.\n",
            "Df Residuals:                       306   BIC:                             2246.\n",
            "Df Model:                             1                                         \n",
            "Covariance Type:              nonrobust                                         \n",
            "===================================================================================\n",
            "                      coef    std err          t      P>|t|      [0.025      0.975]\n",
            "-----------------------------------------------------------------------------------\n",
            "Intercept          16.9993      1.054     16.125      0.000      14.925      19.074\n",
            "one_alto_cs_soc   -26.9200      3.174     -8.482      0.000     -33.165     -20.674\n",
            "==============================================================================\n",
            "Omnibus:                       58.859   Durbin-Watson:                   1.989\n",
            "Prob(Omnibus):                  0.000   Jarque-Bera (JB):               92.739\n",
            "Skew:                           1.131   Prob(JB):                     7.28e-21\n",
            "Kurtosis:                       4.453   Cond. No.                         6.62\n",
            "==============================================================================\n",
            "\n",
            "Notes:\n",
            "[1] Standard Errors assume that the covariance matrix of the errors is correctly specified.\n"
          ]
        }
      ],
      "source": [
        "\n",
        "print(smf.ols(formula='tasa_repeticion_2012 ~ one_alto_cs_soc', data=datosedu).fit().summary())"
      ]
    },
    {
      "cell_type": "code",
      "execution_count": 22,
      "metadata": {
        "colab": {
          "base_uri": "https://localhost:8080/",
          "height": 492
        },
        "id": "zRH5THsOSaoa",
        "outputId": "905d9e6e-816f-4a11-811f-aee37d9cd0f6"
      },
      "outputs": [
        {
          "name": "stdout",
          "output_type": "stream",
          "text": [
            "                             OLS Regression Results                             \n",
            "================================================================================\n",
            "Dep. Variable:     tasa_repeticion_2012   R-squared:                       0.228\n",
            "Model:                              OLS   Adj. R-squared:                  0.220\n",
            "Method:                   Least Squares   F-statistic:                     29.89\n",
            "Date:                  Thu, 26 Jun 2025   Prob (F-statistic):           5.80e-17\n",
            "Time:                          18:07:05   Log-Likelihood:                -1109.9\n",
            "No. Observations:                   308   AIC:                             2228.\n",
            "Df Residuals:                       304   BIC:                             2243.\n",
            "Df Model:                             3                                         \n",
            "Covariance Type:              nonrobust                                         \n",
            "===================================================================================\n",
            "                      coef    std err          t      P>|t|      [0.025      0.975]\n",
            "-----------------------------------------------------------------------------------\n",
            "Intercept          17.5814      1.044     16.839      0.000      15.527      19.636\n",
            "one_alto_mat       -9.4725      4.373     -2.166      0.031     -18.078      -0.867\n",
            "one_alto_cs_nat   -10.0345      5.878     -1.707      0.089     -21.601       1.531\n",
            "one_alto_cs_soc   -13.5609      4.698     -2.886      0.004     -22.806      -4.316\n",
            "==============================================================================\n",
            "Omnibus:                       53.961   Durbin-Watson:                   1.978\n",
            "Prob(Omnibus):                  0.000   Jarque-Bera (JB):               81.254\n",
            "Skew:                           1.072   Prob(JB):                     2.27e-18\n",
            "Kurtosis:                       4.316   Cond. No.                         14.3\n",
            "==============================================================================\n",
            "\n",
            "Notes:\n",
            "[1] Standard Errors assume that the covariance matrix of the errors is correctly specified.\n"
          ]
        }
      ],
      "source": [
        "print(smf.ols(formula='tasa_repeticion_2012 ~ one_alto_mat + one_alto_cs_nat + one_alto_cs_soc', data=datosedu).fit().summary())"
      ]
    },
    {
      "cell_type": "markdown",
      "metadata": {
        "id": "jEmFwfki1Ahd"
      },
      "source": [
        "# Investigando el premio por formalidad\n",
        "### Extracto de Datos de Goytia, Heikkila, Pasquini (2020)\n",
        "https://www.sciencedirect.com/science/article/abs/pii/S0264837722005117"
      ]
    },
    {
      "cell_type": "code",
      "execution_count": 24,
      "metadata": {
        "id": "zUHI75r9x3x9"
      },
      "outputs": [],
      "source": [
        "datosghp=pd.read_csv('https://raw.githubusercontent.com/rpasquini/urban-econometrics/master/data/formal%20premia%20data%20extract.csv')"
      ]
    },
    {
      "cell_type": "markdown",
      "metadata": {
        "id": "28CNJaDsOq28"
      },
      "source": [
        "## Descripción de variables\n",
        "* bformal es una dummy que señala con 1 a las areas \"formales\" y 0 a las areas \"informales\". Este es un criterio de delimitación espacial.  \"Informal\" se utiliza para el área que constituye un barrio popular  \n",
        "* dconurb1, dconurb2, dconurb3 son dummies que señalan a los agrupamientos de partidos del AMBA \"Conurbano 1\", \"Conurbano 2\" y \"Conurbano 3\" respectivamente, según la categorización del INDEC.  Vease https://www.indec.gob.ar/dbindec/folleto_gba.pdf\n",
        "* dprop_soloviv', 'dprop_ocupant', 'dinquilinos' son dummies que señalan a los que son propietarios solo de la vivienda, ocupantes e inquilinos respectivamente.\n",
        "* dedu_secincomp', 'dedu_seccomp', 'dedu_ter_o_mas' son dummies que señalan la educación del jefe de hogar\n",
        "* 'dconexionagua1', 'delectricidad_med', 'dconexiongas'  son dummies que señalan la presencia de conexión al agua de red, la presencia de un medidor de electricidad y la conexión al gas de red respectivamente."
      ]
    },
    {
      "cell_type": "code",
      "execution_count": 25,
      "metadata": {
        "colab": {
          "base_uri": "https://localhost:8080/",
          "height": 175
        },
        "id": "aJ133XwA4hVM",
        "outputId": "f03a1071-9bd2-4e71-dc64-71b73b742a9d"
      },
      "outputs": [
        {
          "data": {
            "text/plain": [
              "Index(['hora_c', 'hora_f', 'bformal', 'dconurb1', 'dconurb2', 'dconurb3',\n",
              "       'dmore2000', 'dprop_soloviv', 'dprop_ocupant', 'dinquilinos',\n",
              "       'npersonashogar', 'dedu_secincomp', 'dedu_seccomp', 'dedu_ter_o_mas',\n",
              "       'ddondevivia2', 'ddondevivia3', 'ddondevivia4', 'ddondevivia5',\n",
              "       'ddondevivia6', 'ddondevivia7', 'dmigrantefuerabarrio',\n",
              "       'antigenvivienda', 'nambientes', 'm2', 'dconexionagua1',\n",
              "       'dconexionagua2', 'dconexionagua3', 'dpagaelagua', 'dcloaca',\n",
              "       'delectricidad_med', 'dconexiongas', 'alquiler2', 'ingresohogar2'],\n",
              "      dtype='object')"
            ]
          },
          "execution_count": 25,
          "metadata": {},
          "output_type": "execute_result"
        }
      ],
      "source": [
        "datosghp.columns"
      ]
    },
    {
      "cell_type": "code",
      "execution_count": 26,
      "metadata": {
        "colab": {
          "base_uri": "https://localhost:8080/",
          "height": 510
        },
        "id": "Lir7snQ93x2U",
        "outputId": "98060227-b35b-4bbe-b0b3-2b0890cd1c9e"
      },
      "outputs": [
        {
          "name": "stdout",
          "output_type": "stream",
          "text": [
            "                            OLS Regression Results                            \n",
            "==============================================================================\n",
            "Dep. Variable:              alquiler2   R-squared:                       0.240\n",
            "Model:                            OLS   Adj. R-squared:                  0.224\n",
            "Method:                 Least Squares   F-statistic:                     14.32\n",
            "Date:                Thu, 26 Jun 2025   Prob (F-statistic):           3.68e-18\n",
            "Time:                        18:07:58   Log-Likelihood:                -3269.5\n",
            "No. Observations:                 371   AIC:                             6557.\n",
            "Df Residuals:                     362   BIC:                             6592.\n",
            "Df Model:                           8                                         \n",
            "Covariance Type:            nonrobust                                         \n",
            "=====================================================================================\n",
            "                        coef    std err          t      P>|t|      [0.025      0.975]\n",
            "-------------------------------------------------------------------------------------\n",
            "Intercept          2361.1986    550.483      4.289      0.000    1278.651    3443.746\n",
            "bformal             190.0535    246.223      0.772      0.441    -294.154     674.261\n",
            "dconurb1           -979.8016    317.177     -3.089      0.002   -1603.542    -356.061\n",
            "dconurb2           -489.4651    275.605     -1.776      0.077   -1031.453      52.523\n",
            "dconurb3           -266.9556    286.993     -0.930      0.353    -831.338     297.427\n",
            "dconexionagua1      622.8630    250.727      2.484      0.013     129.798    1115.928\n",
            "delectricidad_med   806.3666    248.243      3.248      0.001     318.187    1294.546\n",
            "dconexiongas       1079.7745    241.739      4.467      0.000     604.385    1555.164\n",
            "hora_c               21.8102     42.304      0.516      0.606     -61.381     105.002\n",
            "==============================================================================\n",
            "Omnibus:                      167.318   Durbin-Watson:                   1.919\n",
            "Prob(Omnibus):                  0.000   Jarque-Bera (JB):              845.171\n",
            "Skew:                           1.896   Prob(JB):                    2.97e-184\n",
            "Kurtosis:                       9.348   Cond. No.                         84.5\n",
            "==============================================================================\n",
            "\n",
            "Notes:\n",
            "[1] Standard Errors assume that the covariance matrix of the errors is correctly specified.\n"
          ]
        }
      ],
      "source": [
        "print(smf.ols(formula='alquiler2 ~ bformal + dconurb1 + dconurb2 + dconurb3 + dconexionagua1 + delectricidad_med + dconexiongas + hora_c', data=datosghp).fit().summary())\n"
      ]
    },
    {
      "cell_type": "code",
      "execution_count": 27,
      "metadata": {
        "colab": {
          "base_uri": "https://localhost:8080/",
          "height": 563
        },
        "id": "9xh8yvBy4cgs",
        "outputId": "3db94f7d-650b-4e65-a390-7010b5ff6edb"
      },
      "outputs": [
        {
          "name": "stdout",
          "output_type": "stream",
          "text": [
            "                            OLS Regression Results                            \n",
            "==============================================================================\n",
            "Dep. Variable:              alquiler2   R-squared:                       0.240\n",
            "Model:                            OLS   Adj. R-squared:                  0.224\n",
            "Method:                 Least Squares   F-statistic:                     14.32\n",
            "Date:                Thu, 26 Jun 2025   Prob (F-statistic):           3.68e-18\n",
            "Time:                        18:08:28   Log-Likelihood:                -3269.5\n",
            "No. Observations:                 371   AIC:                             6557.\n",
            "Df Residuals:                     362   BIC:                             6592.\n",
            "Df Model:                           8                                         \n",
            "Covariance Type:            nonrobust                                         \n",
            "=====================================================================================\n",
            "                        coef    std err          t      P>|t|      [0.025      0.975]\n",
            "-------------------------------------------------------------------------------------\n",
            "Intercept          2361.1986    550.483      4.289      0.000    1278.651    3443.746\n",
            "bformal             190.0535    246.223      0.772      0.441    -294.154     674.261\n",
            "dconurb1           -979.8016    317.177     -3.089      0.002   -1603.542    -356.061\n",
            "dconurb2           -489.4651    275.605     -1.776      0.077   -1031.453      52.523\n",
            "dconurb3           -266.9556    286.993     -0.930      0.353    -831.338     297.427\n",
            "dconexionagua1      622.8630    250.727      2.484      0.013     129.798    1115.928\n",
            "delectricidad_med   806.3666    248.243      3.248      0.001     318.187    1294.546\n",
            "dconexiongas       1079.7745    241.739      4.467      0.000     604.385    1555.164\n",
            "hora_c               21.8102     42.304      0.516      0.606     -61.381     105.002\n",
            "==============================================================================\n",
            "Omnibus:                      167.318   Durbin-Watson:                   1.919\n",
            "Prob(Omnibus):                  0.000   Jarque-Bera (JB):              845.171\n",
            "Skew:                           1.896   Prob(JB):                    2.97e-184\n",
            "Kurtosis:                       9.348   Cond. No.                         84.5\n",
            "==============================================================================\n",
            "\n",
            "Notes:\n",
            "[1] Standard Errors assume that the covariance matrix of the errors is correctly specified.\n"
          ]
        }
      ],
      "source": [
        "print(smf.ols(formula='alquiler2 ~ bformal + dconurb1 + dconurb2 + dconurb3 + dconexionagua1 + delectricidad_med + dconexiongas + hora_c', data=datosghp).fit().summary())\n"
      ]
    },
    {
      "cell_type": "code",
      "execution_count": null,
      "metadata": {
        "id": "6834ghfTOHSN"
      },
      "outputs": [],
      "source": []
    }
  ],
  "metadata": {
    "colab": {
      "authorship_tag": "ABX9TyOI/2J+CMEgoQDXQ3Y0zvkV",
      "include_colab_link": true,
      "name": "OLS4 Regresion Multiple.ipynb",
      "provenance": [],
      "toc_visible": true
    },
    "kernelspec": {
      "display_name": "agrolmos",
      "language": "python",
      "name": "agrolmos"
    },
    "language_info": {
      "codemirror_mode": {
        "name": "ipython",
        "version": 3
      },
      "file_extension": ".py",
      "mimetype": "text/x-python",
      "name": "python",
      "nbconvert_exporter": "python",
      "pygments_lexer": "ipython3",
      "version": "3.9.18"
    }
  },
  "nbformat": 4,
  "nbformat_minor": 0
}
