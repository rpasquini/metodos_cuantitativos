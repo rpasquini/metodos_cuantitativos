{
  "cells": [
    {
      "cell_type": "markdown",
      "metadata": {
        "colab_type": "text",
        "id": "view-in-github"
      },
      "source": [
        "<a href=\"https://colab.research.google.com/github/rpasquini/metodos_cuantitativos/blob/main/notebooks/python/final_2025_consigna_general.ipynb\" target=\"_parent\"><img src=\"https://colab.research.google.com/assets/colab-badge.svg\" alt=\"Open In Colab\"/></a>"
      ]
    },
    {
      "cell_type": "markdown",
      "id": "4e525621",
      "metadata": {
        "id": "4e525621"
      },
      "source": [
        "# Trabajo Final: Metodos Cuantitativos Aplicados a Estudios Urbanos\n",
        "\n",
        "Profesor Ricardo Pasquini \\\n",
        "Universidad Torcuato Di Tella \\\n",
        "[rpasquini@utdt.edu](rpasquini@utdt.edu)\n",
        "\n",
        "En este trabajo final vamos a analizar determinantes del valor de los terrenos en CABA. En particular, el foco va a ser  analizar cuestiones relacionadas a la regulación constructiva, con implicancias en el diseño de regulaciones. Se espera que ustedes alcancen un mejor entendimiento de la implementación de modelos de regresión para el caso del análisis del efecto de las normativas de construcción. \n",
        "\n",
        "Los datos de precios de lotes corresponden al año 2020 y fueron compilados del sitio [Buenos Aires Data](https://data.buenosaires.gob.ar/). Si bien utilizarán esta base de datos para los fines del trabajo final, no deben utilizar estos datos para investigación, ya que el procedimiento que se utilizó para combinar los datos debe revisarse y podría presentar errores o inconsistencias.   \n",
        "\n",
        "\n",
        "**Importante:**\n",
        "\n",
        "* El trabajo se realiza de manera individual.\n",
        "* Las preguntas de la consigna se encuentran en el Campus UTDT (Ver consigna general). Deben responder allí las preguntas.\n",
        "* Se le pedirá que entregue una copia de los cálculos. Para ellos: \n",
        "1.  Guarde una copia local (en su Google Drive) y agregue celdas de código y texto al notebook.\n",
        "2. Al finalizar,  hacer click en compartir \"share\" para obtener el link a la copia del notebook.\n",
        "3. Incluir el link en el examen final.\n",
        "4. Recuerden otorgar permisos de edición a rpasquini@utdt.edu.\n"
      ]
    },
    {
      "cell_type": "code",
      "execution_count": null,
      "id": "YbIXxGdU3fRn",
      "metadata": {
        "colab": {
          "base_uri": "https://localhost:8080/"
        },
        "id": "YbIXxGdU3fRn",
        "outputId": "675d8921-ac17-4ea2-f40a-32bd43c16218"
      },
      "outputs": [
        {
          "name": "stdout",
          "output_type": "stream",
          "text": [
            "Collecting contextily\n",
            "  Downloading contextily-1.3.0-py3-none-any.whl (16 kB)\n",
            "Requirement already satisfied: geopy in /usr/local/lib/python3.10/dist-packages (from contextily) (2.3.0)\n",
            "Requirement already satisfied: matplotlib in /usr/local/lib/python3.10/dist-packages (from contextily) (3.7.1)\n",
            "Collecting mercantile (from contextily)\n",
            "  Downloading mercantile-1.2.1-py3-none-any.whl (14 kB)\n",
            "Requirement already satisfied: pillow in /usr/local/lib/python3.10/dist-packages (from contextily) (9.4.0)\n",
            "Collecting rasterio (from contextily)\n",
            "  Downloading rasterio-1.3.8-cp310-cp310-manylinux_2_17_x86_64.manylinux2014_x86_64.whl (21.3 MB)\n",
            "\u001b[2K     \u001b[90m━━━━━━━━━━━━━━━━━━━━━━━━━━━━━━━━━━━━━━━━\u001b[0m \u001b[32m21.3/21.3 MB\u001b[0m \u001b[31m29.1 MB/s\u001b[0m eta \u001b[36m0:00:00\u001b[0m\n",
            "\u001b[?25hRequirement already satisfied: requests in /usr/local/lib/python3.10/dist-packages (from contextily) (2.31.0)\n",
            "Requirement already satisfied: joblib in /usr/local/lib/python3.10/dist-packages (from contextily) (1.3.1)\n",
            "Requirement already satisfied: xyzservices in /usr/local/lib/python3.10/dist-packages (from contextily) (2023.7.0)\n",
            "Requirement already satisfied: geographiclib<3,>=1.52 in /usr/local/lib/python3.10/dist-packages (from geopy->contextily) (2.0)\n",
            "Requirement already satisfied: contourpy>=1.0.1 in /usr/local/lib/python3.10/dist-packages (from matplotlib->contextily) (1.1.0)\n",
            "Requirement already satisfied: cycler>=0.10 in /usr/local/lib/python3.10/dist-packages (from matplotlib->contextily) (0.11.0)\n",
            "Requirement already satisfied: fonttools>=4.22.0 in /usr/local/lib/python3.10/dist-packages (from matplotlib->contextily) (4.42.0)\n",
            "Requirement already satisfied: kiwisolver>=1.0.1 in /usr/local/lib/python3.10/dist-packages (from matplotlib->contextily) (1.4.4)\n",
            "Requirement already satisfied: numpy>=1.20 in /usr/local/lib/python3.10/dist-packages (from matplotlib->contextily) (1.23.5)\n",
            "Requirement already satisfied: packaging>=20.0 in /usr/local/lib/python3.10/dist-packages (from matplotlib->contextily) (23.1)\n",
            "Requirement already satisfied: pyparsing>=2.3.1 in /usr/local/lib/python3.10/dist-packages (from matplotlib->contextily) (3.1.1)\n",
            "Requirement already satisfied: python-dateutil>=2.7 in /usr/local/lib/python3.10/dist-packages (from matplotlib->contextily) (2.8.2)\n",
            "Requirement already satisfied: click>=3.0 in /usr/local/lib/python3.10/dist-packages (from mercantile->contextily) (8.1.6)\n",
            "Collecting affine (from rasterio->contextily)\n",
            "  Downloading affine-2.4.0-py3-none-any.whl (15 kB)\n",
            "Requirement already satisfied: attrs in /usr/local/lib/python3.10/dist-packages (from rasterio->contextily) (23.1.0)\n",
            "Requirement already satisfied: certifi in /usr/local/lib/python3.10/dist-packages (from rasterio->contextily) (2023.7.22)\n",
            "Requirement already satisfied: cligj>=0.5 in /usr/local/lib/python3.10/dist-packages (from rasterio->contextily) (0.7.2)\n",
            "Collecting snuggs>=1.4.1 (from rasterio->contextily)\n",
            "  Downloading snuggs-1.4.7-py3-none-any.whl (5.4 kB)\n",
            "Requirement already satisfied: click-plugins in /usr/local/lib/python3.10/dist-packages (from rasterio->contextily) (1.1.1)\n",
            "Requirement already satisfied: setuptools in /usr/local/lib/python3.10/dist-packages (from rasterio->contextily) (67.7.2)\n",
            "Requirement already satisfied: charset-normalizer<4,>=2 in /usr/local/lib/python3.10/dist-packages (from requests->contextily) (3.2.0)\n",
            "Requirement already satisfied: idna<4,>=2.5 in /usr/local/lib/python3.10/dist-packages (from requests->contextily) (3.4)\n",
            "Requirement already satisfied: urllib3<3,>=1.21.1 in /usr/local/lib/python3.10/dist-packages (from requests->contextily) (1.26.16)\n",
            "Requirement already satisfied: six>=1.5 in /usr/local/lib/python3.10/dist-packages (from python-dateutil>=2.7->matplotlib->contextily) (1.16.0)\n",
            "Installing collected packages: snuggs, mercantile, affine, rasterio, contextily\n",
            "Successfully installed affine-2.4.0 contextily-1.3.0 mercantile-1.2.1 rasterio-1.3.8 snuggs-1.4.7\n"
          ]
        }
      ],
      "source": [
        "!pip install contextily"
      ]
    },
    {
      "cell_type": "code",
      "execution_count": null,
      "id": "6a4ef6a0",
      "metadata": {
        "id": "6a4ef6a0"
      },
      "outputs": [],
      "source": [
        "import geopandas as gpd\n",
        "import matplotlib.pyplot as plt\n",
        "import statsmodels.api as sm\n",
        "import contextily as cx\n",
        "import statsmodels.formula.api as smf\n"
      ]
    },
    {
      "cell_type": "code",
      "execution_count": 2,
      "id": "f8cca0d3",
      "metadata": {
        "id": "f8cca0d3"
      },
      "outputs": [],
      "source": [
        "#Levantando los datos a un geodataframe\n",
        "gdf=gpd.GeoDataFrame.from_file(\"https://github.com/rpasquini/metodos_cuantitativos/raw/main/data/terrenos_2020_cregu_parcelas.zip\")"
      ]
    },
    {
      "cell_type": "markdown",
      "id": "cf1dd459",
      "metadata": {
        "id": "cf1dd459"
      },
      "source": [
        "# Un primer vistazo de los datos\n",
        "Utilice el siguiente código para mapear sus datos (no es necesario hacer cambios en el código)"
      ]
    },
    {
      "cell_type": "code",
      "execution_count": null,
      "id": "27188b8e",
      "metadata": {
        "colab": {
          "base_uri": "https://localhost:8080/",
          "height": 1000
        },
        "id": "27188b8e",
        "outputId": "40c2aee1-be09-4f3e-f5d3-be3de2cb0f66"
      },
      "outputs": [],
      "source": [
        "fig, ax = plt.subplots(figsize=(12, 12))\n",
        "gdf.to_crs(\"EPSG:4326\").plot(ax=ax,column='PRECIOUSD', legend=True)\n",
        "#ax.set_xlim(-59.2, -58)\n",
        "#ax.set_ylim(-35, -34.1)\n",
        "cx.add_basemap(ax, crs=gdf.to_crs(epsg=4326).crs.to_string(), source=cx.providers.CartoDB.Positron)\n",
        "ax.axis('off')\n",
        "#plt.title(ciudad)"
      ]
    },
    {
      "cell_type": "markdown",
      "id": "c1940327",
      "metadata": {
        "id": "c1940327"
      },
      "source": [
        "### Descripcion de campos\n",
        "| campo      | tipo    | descripcion                                                                                                                                                                                             |\n",
        "| ---------- | ------- | ------------------------------------------------------------------------------------------------------------------------------------------------------------------------------------------------------- |\n",
        "| SUPERFICIE       | int  | Superficie en m2     \n",
        "| PRECIOUSD | int  | Precio terreno en USD\n",
        "| COTIZACION |\tint | Cotizacion del USD en pesos\n",
        "| TRIMESTRE | string | Trimestre\n",
        "| BARRIO\t | string | Barrio\n",
        "| COMUNA | int | Nro de Comuna\n",
        "| smp1       | string  | Corresponde al número de identificación de la Sección-Manzana-Parcela                                                                                                                                   |\n",
        "| sm         | string  | Corresponde al número de identificación de la Sección-Manzana              |\n",
        "| uni_edif_1 | number  | Unidad de edificabilidad 1: define la altura máxima aplicable a cada Unidad de la Ciudad de Buenos Aires\n",
        "| plusvalia | number  | Estimación de la plusvalia que debería pagar el desarrollador si aprovechase la máxima capacidad constructiva"
      ]
    }
  ],
  "metadata": {
    "colab": {
      "include_colab_link": true,
      "provenance": []
    },
    "kernelspec": {
      "display_name": "agrolmos",
      "language": "python",
      "name": "python3"
    },
    "language_info": {
      "codemirror_mode": {
        "name": "ipython",
        "version": 3
      },
      "file_extension": ".py",
      "mimetype": "text/x-python",
      "name": "python",
      "nbconvert_exporter": "python",
      "pygments_lexer": "ipython3",
      "version": "3.9.18"
    }
  },
  "nbformat": 4,
  "nbformat_minor": 5
}