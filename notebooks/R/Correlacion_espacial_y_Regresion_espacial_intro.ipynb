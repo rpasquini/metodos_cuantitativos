{
  "cells": [
    {
      "cell_type": "raw",
      "metadata": {
        "vscode": {
          "languageId": "raw"
        }
      },
      "source": [
        "_author: Ricardo Pasquini (rpasquini@gmail.com), R adaptation\n"
      ]
    },
    {
      "cell_type": "raw",
      "metadata": {
        "vscode": {
          "languageId": "raw"
        }
      },
      "source": [
        "# Setup del ambiente R\n",
        "\n",
        "Primero instalamos y cargamos los paquetes necesarios para el análisis espacial en R:\n",
        "- `sf`: Para manejo de datos espaciales\n",
        "- `spdep`: Para análisis de dependencia espacial\n",
        "- `ggplot2`: Para visualización\n",
        "- `dplyr`: Para manipulación de datos\n",
        "- `spatialreg`: Para regresión espacial\n"
      ]
    },
    {
      "cell_type": "code",
      "execution_count": null,
      "metadata": {},
      "outputs": [],
      "source": [
        "%%R\n",
        "# Instalación de paquetes si no están instalados\n",
        "if (!require('sf')) install.packages('sf')\n",
        "if (!require('spdep')) install.packages('spdep')\n",
        "if (!require('ggplot2')) install.packages('ggplot2')\n",
        "if (!require('dplyr')) install.packages('dplyr')\n",
        "if (!require('spatialreg')) install.packages('spatialreg')\n",
        "\n",
        "# Cargar las librerías\n",
        "library(sf)\n",
        "library(spdep)\n",
        "library(ggplot2)\n",
        "library(dplyr)\n",
        "library(spatialreg)\n"
      ]
    },
    {
      "cell_type": "raw",
      "metadata": {
        "vscode": {
          "languageId": "raw"
        }
      },
      "source": [
        "# Preparamos los datos\n",
        "Por una limitación de la versión de Colab con la que trabajamos aquí (cantidad de RAM), no podremos correr las medidas espaciales en toda la base de datos, asi que vamos a trabajar con una muestra de datos para CABA.\n"
      ]
    },
    {
      "cell_type": "code",
      "execution_count": null,
      "metadata": {},
      "outputs": [],
      "source": [
        "%%R\n",
        "# Descargar y leer los datos\n",
        "temp <- tempfile()\n",
        "download.file(\"https://github.com/rpasquini/urban-econometrics/blob/master/data/departamentos2019amba.zip?raw=true\", temp)\n",
        "unzip(temp, exdir = tempdir())\n",
        "\n",
        "# Leer el shapefile con sf\n",
        "departamentos <- st_read(file.path(tempdir(), \"departamentos2019amba.shp\"))\n",
        "\n",
        "# Filtrar para CABA\n",
        "departamentosCABA <- departamentos[departamentos$l2 == 'Capital Federal',]\n"
      ]
    },
    {
      "cell_type": "code",
      "execution_count": null,
      "metadata": {},
      "outputs": [],
      "source": [
        "%%R\n",
        "# Visualizar los datos con ggplot2\n",
        "ggplot(data = departamentosCABA) +\n",
        "  geom_sf() +\n",
        "  theme_minimal() +\n",
        "  labs(title = \"Departamentos en CABA\")\n"
      ]
    },
    {
      "cell_type": "code",
      "execution_count": null,
      "metadata": {},
      "outputs": [],
      "source": [
        "%%R\n",
        "# Tomar una submuestra y limpiar datos\n",
        "set.seed(123)  # Para reproducibilidad\n",
        "departamentosCABA2 <- departamentosCABA[1:500,]\n",
        "departamentosCABA2 <- departamentosCABA2[departamentosCABA2$price < 80000,]\n",
        "departamentosCABA2 <- departamentosCABA2[!is.na(departamentosCABA2$price) & !is.na(departamentosCABA2$bedrooms),]\n",
        "\n",
        "# Visualizar precios\n",
        "ggplot(data = departamentosCABA2) +\n",
        "  geom_sf(aes(color = price)) +\n",
        "  scale_color_viridis_c() +\n",
        "  theme_minimal() +\n",
        "  labs(title = \"Precios de departamentos en CABA\",\n",
        "       color = \"Precio\")\n"
      ]
    },
    {
      "cell_type": "code",
      "execution_count": null,
      "metadata": {},
      "outputs": [],
      "source": [
        "%%R\n",
        "# Examinar el histograma de precios\n",
        "ggplot(data = as.data.frame(departamentosCABA2), aes(x = price)) +\n",
        "  geom_histogram(bins = 30, fill = \"steelblue\", color = \"white\") +\n",
        "  theme_minimal() +\n",
        "  labs(title = \"Distribución de precios\",\n",
        "       x = \"Precio\",\n",
        "       y = \"Frecuencia\")\n"
      ]
    },
    {
      "cell_type": "raw",
      "metadata": {
        "vscode": {
          "languageId": "raw"
        }
      },
      "source": [
        "# Matriz de pesos espaciales\n",
        "\n",
        "La matriz de pesos es el objeto que nos sirve para especificar las relaciones (espaciales) entre las observaciones. El contenido de la matriz depende de la forma que definamos para medir la dependencia espacial (ver más en los slides de clase).\n",
        "\n",
        "En este caso, con puntos (resultantes de las coordenadas), vamos a utilizar una medida basada en distancias relativas. En R, usaremos el paquete `spdep` que proporciona funciones para crear y manipular matrices de pesos espaciales.\n"
      ]
    },
    {
      "cell_type": "code",
      "execution_count": null,
      "metadata": {},
      "outputs": [],
      "source": [
        "%%R\n",
        "# Crear matriz de pesos basada en distancia\n",
        "coords <- st_coordinates(st_centroid(departamentosCABA2))\n",
        "dists <- dnearneigh(coords, 0, 1000)  # threshold de 1000 metros\n",
        "wdistance <- nb2listw(dists, style=\"W\")\n",
        "\n",
        "# Visualizar la conectividad\n",
        "plot(st_geometry(departamentosCABA2), main=\"Matriz de pesos espaciales\")\n",
        "plot(wdistance, coords, add=TRUE, col='red', lwd=0.5)\n"
      ]
    },
    {
      "cell_type": "raw",
      "metadata": {
        "vscode": {
          "languageId": "raw"
        }
      },
      "source": [
        "# Estadístico de Moran\n",
        "\n",
        "El estadístico de Moran nos permite medir la autocorrelación espacial en los datos. El scatterplot de Moran muestra la variable $y_i$ (eje x) contra su rezago espacial $y^{lag}_i$ (eje y). El rezago espacial es el promedio entre los vecinos espaciales definidos de acuerdo a nuestra matriz de pesos espaciales ($y^{lag}_{i}=\\sum w_iy_i$).\n",
        "\n",
        "El estadístico de Moran es equivalente al coeficiente de la pendiente lineal de la relación. Su intuición es simple: si hay una relación positiva entre la variable y sus rezagos espaciales es porque hay correlación espacial.\n"
      ]
    },
    {
      "cell_type": "code",
      "execution_count": null,
      "metadata": {},
      "outputs": [],
      "source": [
        "%%R\n",
        "# Calcular el I de Moran\n",
        "moran_test <- moran.test(departamentosCABA2$price, wdistance)\n",
        "print(moran_test)\n",
        "\n",
        "# Gráfico de Moran\n",
        "moran.plot(departamentosCABA2$price, wdistance,\n",
        "           labels=FALSE, pch=16,\n",
        "           xlab=\"Precio\", ylab=\"Rezago espacial del precio\",\n",
        "           main=\"Diagrama de dispersión de Moran\")\n"
      ]
    },
    {
      "cell_type": "raw",
      "metadata": {
        "vscode": {
          "languageId": "raw"
        }
      },
      "source": [
        "# Calculamos los pesos espaciales de otra manera\n",
        "\n",
        "Realizamos un segundo ejemplo, donde vamos a modificar la forma de definir a los vecinos espaciales usando un kernel espacial basado en los k vecinos más cercanos. Este enfoque es similar al kernel gaussiano usado en Python, pero implementado a través de la función `knearneigh` de `spdep`.\n"
      ]
    },
    {
      "cell_type": "code",
      "execution_count": null,
      "metadata": {},
      "outputs": [],
      "source": [
        "%%R\n",
        "# Crear matriz de pesos con k vecinos más cercanos\n",
        "knn <- knearneigh(coords, k=10)\n",
        "kernel_nb <- knn2nb(knn)\n",
        "kernel_weights <- nb2listw(kernel_nb, style=\"W\", zero.policy=TRUE)\n",
        "\n",
        "# Visualizar\n",
        "plot(st_geometry(departamentosCABA2), main=\"Matriz de pesos con k vecinos más cercanos\")\n",
        "plot(kernel_weights, coords, add=TRUE, col='blue', lwd=0.5)\n",
        "\n",
        "# Calcular Moran con nuevos pesos\n",
        "moran_kernel <- moran.test(departamentosCABA2$price, kernel_weights)\n",
        "print(moran_kernel)\n"
      ]
    },
    {
      "cell_type": "raw",
      "metadata": {
        "vscode": {
          "languageId": "raw"
        }
      },
      "source": [
        "# Regresión Espacial\n",
        "\n",
        "Primero corremos una regresión OLS estándar y examinamos la autocorrelación espacial en los residuos. Luego implementaremos un modelo de regresión espacial usando el paquete `spatialreg`.\n"
      ]
    },
    {
      "cell_type": "code",
      "execution_count": null,
      "metadata": {},
      "outputs": [],
      "source": [
        "%%R\n",
        "# Regresión OLS\n",
        "ols_model <- lm(price ~ bedrooms, data = departamentosCABA2)\n",
        "summary(ols_model)\n",
        "\n",
        "# Test de Moran en los residuos\n",
        "moran.test(residuals(ols_model), wdistance)\n"
      ]
    },
    {
      "cell_type": "raw",
      "metadata": {
        "vscode": {
          "languageId": "raw"
        }
      },
      "source": [
        "# Regresión con un lag espacial\n",
        "\n",
        "$y=\\rho Wy+\\beta X+\\epsilon$ \\\\\n",
        "donde el primer término representa al rezago espacial. \\\\\n",
        "$\\rho$ es el coeficiente del rezago \\\\\n",
        "W es la matriz de pesos espaciales \\\\\n",
        "X es la matriz de variables explicativas exógenas.\n",
        "\n",
        "En R, usamos la función `lagsarlm` del paquete `spatialreg` para estimar este modelo.\n"
      ]
    },
    {
      "cell_type": "code",
      "execution_count": null,
      "metadata": {},
      "outputs": [],
      "source": [
        "%%R\n",
        "# Modelo de rezago espacial\n",
        "spatial_lag <- lagsarlm(price ~ bedrooms, data = departamentosCABA2, listw = wdistance)\n",
        "summary(spatial_lag)\n",
        "\n",
        "# Impactos del modelo espacial\n",
        "impacts(spatial_lag, listw = wdistance)\n"
      ]
    }
  ],
  "metadata": {
    "language_info": {
      "name": "python"
    }
  },
  "nbformat": 4,
  "nbformat_minor": 2
}
