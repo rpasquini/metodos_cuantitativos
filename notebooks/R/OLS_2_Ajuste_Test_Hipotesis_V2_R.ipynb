{
  "cells": [
    {
      "cell_type": "markdown",
      "metadata": {
        "id": "view-in-github",
        "colab_type": "text"
      },
      "source": [
        "<a href=\"https://colab.research.google.com/github/rpasquini/metodos_cuantitativos/blob/main/notebooks/R/OLS_2_Ajuste_Test_Hipotesis_V2_R.ipynb\" target=\"_parent\"><img src=\"https://colab.research.google.com/assets/colab-badge.svg\" alt=\"Open In Colab\"/></a>"
      ]
    },
    {
      "cell_type": "markdown",
      "metadata": {
        "vscode": {
          "languageId": "raw"
        },
        "id": "ltfIzH-YrVVU"
      },
      "source": [
        "_author: Ricardo Pasquini (rpasquini@gmail.com)\n"
      ]
    },
    {
      "cell_type": "code",
      "execution_count": null,
      "metadata": {
        "id": "5FnpDS9JrVVV"
      },
      "outputs": [],
      "source": [
        "%load_ext rpy2.ipython\n"
      ]
    },
    {
      "cell_type": "markdown",
      "metadata": {
        "vscode": {
          "languageId": "raw"
        },
        "id": "Bs3AZni4rVVZ"
      },
      "source": [
        "# OLS: Ajuste, Propiedades y Test de Hipótesis\n",
        "\n",
        "En este notebook vamos a explorar:\n",
        "1. Cómo ajustar un modelo de regresión lineal simple\n",
        "2. Las propiedades del estimador OLS\n",
        "3. Tests de hipótesis sobre los coeficientes\n"
      ]
    },
    {
      "cell_type": "code",
      "execution_count": null,
      "metadata": {
        "vscode": {
          "languageId": "r"
        },
        "id": "vcKi3u03rVVZ"
      },
      "outputs": [],
      "source": [
        "%%R\n",
        "\n",
        "# Instalamos los paquetes necesarios si no están instalados\n",
        "if (!require(\"sf\")) install.packages(\"sf\")\n",
        "if (!require(\"dplyr\")) install.packages(\"dplyr\")\n",
        "if (!require(\"ggplot2\")) install.packages(\"ggplot2\")\n",
        "if (!require(\"car\")) install.packages(\"car\")  # Para diagnósticos de regresión\n",
        "if (!require(\"lmtest\")) install.packages(\"lmtest\")  # Para pruebas de hipótesis\n",
        "if (!require(\"sandwich\")) install.packages(\"sandwich\")  # Para errores estándar robustos\n"
      ]
    },
    {
      "cell_type": "code",
      "execution_count": null,
      "metadata": {
        "vscode": {
          "languageId": "r"
        },
        "id": "QnTxt2AGrVVZ"
      },
      "outputs": [],
      "source": [
        "%%R\n",
        "\n",
        "# Cargamos las librerías\n",
        "library(sf)\n",
        "library(dplyr)\n",
        "library(ggplot2)\n",
        "library(car)\n",
        "library(lmtest)\n",
        "library(sandwich)\n"
      ]
    },
    {
      "cell_type": "code",
      "execution_count": null,
      "metadata": {
        "vscode": {
          "languageId": "r"
        },
        "id": "WI0ZiaXfrVVZ"
      },
      "outputs": [],
      "source": [
        "%%R\n",
        "\n",
        "# Descargamos y cargamos los datos\n",
        "download.file(\"https://github.com/rpasquini/urban-econometrics/blob/master/data/departamentos2019amba.zip?raw=true\",\n",
        "              destfile = \"departamentos2019amba.zip\", mode = \"wb\")\n",
        "unzip(\"departamentos2019amba.zip\", exdir = \".\")\n",
        "departamentos <- st_read(\"departamentos2019amba.shp\")\n"
      ]
    },
    {
      "cell_type": "markdown",
      "metadata": {
        "vscode": {
          "languageId": "raw"
        },
        "id": "8Uym-fM0rVVW"
      },
      "source": [
        "# Estimación del modelo lineal\n"
      ]
    },
    {
      "cell_type": "markdown",
      "metadata": {
        "vscode": {
          "languageId": "raw"
        },
        "id": "8cAxeajUrVVW"
      },
      "source": [
        "Comenzaremos por replicar la estimación de los coeficientes del modelo:\n",
        "\n",
        "$price_i=\\beta_0+\\beta_1*bedrooms_i+\\epsilon_i$\n"
      ]
    },
    {
      "cell_type": "code",
      "execution_count": null,
      "metadata": {
        "vscode": {
          "languageId": "r"
        },
        "id": "trlY1_LFrVVX"
      },
      "outputs": [],
      "source": [
        "%%R\n",
        "\n",
        "# Ajustamos el modelo usando bedrooms como variable independiente\n",
        "modelo <- lm(price ~ bedrooms, data = departamentos)\n",
        "\n",
        "# Resumen del modelo\n",
        "summary(modelo)\n"
      ]
    },
    {
      "cell_type": "markdown",
      "metadata": {
        "vscode": {
          "languageId": "raw"
        },
        "id": "0SxuiHkZrVVX"
      },
      "source": [
        "# Predicción\n",
        "\n",
        "$\\hat{Y}=\\hat{\\beta_0}+\\hat{\\beta_1}*X$\n"
      ]
    },
    {
      "cell_type": "code",
      "execution_count": null,
      "metadata": {
        "vscode": {
          "languageId": "r"
        },
        "id": "CmXo2ZAirVVX"
      },
      "outputs": [],
      "source": [
        "%%R\n",
        "\n",
        "# Departamento de 2 dormitorios\n",
        "coef(modelo)[1] + coef(modelo)[2] * 2\n"
      ]
    },
    {
      "cell_type": "code",
      "execution_count": null,
      "metadata": {
        "vscode": {
          "languageId": "r"
        },
        "id": "E6mTCTHurVVX"
      },
      "outputs": [],
      "source": [
        "%%R\n",
        "\n",
        "# Predicciones para todas las observaciones en la data\n",
        "departamentos_in_regression <- departamentos[!is.na(departamentos$bedrooms) & !is.na(departamentos$price), ]\n",
        "predicciones <- predict(modelo)\n",
        "head(predicciones)\n"
      ]
    },
    {
      "cell_type": "code",
      "execution_count": null,
      "metadata": {
        "vscode": {
          "languageId": "r"
        },
        "id": "Yo1UVtq4rVVX"
      },
      "outputs": [],
      "source": [
        "%%R\n",
        "\n",
        "# Ploteamos predicción con ggplot2\n",
        "ggplot(departamentos_in_regression, aes(x = bedrooms, y = predicciones)) +\n",
        "  geom_point() +\n",
        "  labs(x = \"Dormitorios\", y = \"Precio predicho\",\n",
        "       title = \"Predicciones vs. Número de dormitorios\") +\n",
        "  theme_minimal()\n"
      ]
    },
    {
      "cell_type": "markdown",
      "metadata": {
        "vscode": {
          "languageId": "raw"
        },
        "id": "YJWDIddhrVVY"
      },
      "source": [
        "# Error Cuadrático Medio\n",
        "\n",
        "Recordemos que la definición del error cuadrático medio es:\n",
        "\n",
        "$MSE=\\sqrt{\\frac{\\sum^n_{i=1} e_i^2}{n-2}}$ donde\n",
        "\n",
        "$e=y-\\hat{y}$\n"
      ]
    },
    {
      "cell_type": "code",
      "execution_count": null,
      "metadata": {
        "vscode": {
          "languageId": "r"
        },
        "id": "vUV7JKaHrVVY"
      },
      "outputs": [],
      "source": [
        "%%R\n",
        "\n",
        "# Calculamos MSE\n",
        "mse <- sum(residuals(modelo)^2) / (length(residuals(modelo)) - 2)\n",
        "mse\n"
      ]
    },
    {
      "cell_type": "code",
      "execution_count": null,
      "metadata": {
        "vscode": {
          "languageId": "r"
        },
        "id": "EDESTH-zrVVY"
      },
      "outputs": [],
      "source": [
        "%%R\n",
        "\n",
        "# Raíz cuadrada del MSE\n",
        "sqrt(mse)\n"
      ]
    },
    {
      "cell_type": "markdown",
      "metadata": {
        "vscode": {
          "languageId": "raw"
        },
        "id": "BzJaOAebrVVY"
      },
      "source": [
        "# ¿Cómo son los residuos (errores estimados) del modelo estimado?\n",
        "\n",
        "## Primero analizo la normalidad de la distribución\n",
        "Inspecciono el histograma para tener una idea rápida de la distribución\n"
      ]
    },
    {
      "cell_type": "code",
      "execution_count": null,
      "metadata": {
        "vscode": {
          "languageId": "r"
        },
        "id": "FX_oS26prVVY"
      },
      "outputs": [],
      "source": [
        "%%R\n",
        "\n",
        "# Histograma de residuos\n",
        "ggplot(data.frame(residuos = residuals(modelo)), aes(x = residuos)) +\n",
        "  geom_histogram(bins = 50) +\n",
        "  labs(title = \"Distribución de los residuos\",\n",
        "       x = \"Residuos\",\n",
        "       y = \"Frecuencia\") +\n",
        "  theme_minimal()\n"
      ]
    },
    {
      "cell_type": "markdown",
      "metadata": {
        "vscode": {
          "languageId": "raw"
        },
        "id": "B8ZgNbO0rVVY"
      },
      "source": [
        "## Analizamos visualmente si la varianza del residuo es constante (homocedasticidad)\n"
      ]
    },
    {
      "cell_type": "code",
      "execution_count": null,
      "metadata": {
        "vscode": {
          "languageId": "r"
        },
        "id": "YY6TxvxcrVVY"
      },
      "outputs": [],
      "source": [
        "%%R\n",
        "\n",
        "# Agregamos los residuos al dataframe\n",
        "departamentos_in_regression$residuos <- residuals(modelo)\n",
        "\n",
        "# Gráfico de residuos vs. variable independiente\n",
        "ggplot(departamentos_in_regression, aes(x = bedrooms, y = residuos)) +\n",
        "  geom_point() +\n",
        "  geom_hline(yintercept = 0, linetype = \"dashed\", color = \"red\") +\n",
        "  labs(title = \"Residuos vs. Número de dormitorios\",\n",
        "       x = \"Dormitorios\",\n",
        "       y = \"Residuos\") +\n",
        "  theme_minimal()\n"
      ]
    },
    {
      "cell_type": "markdown",
      "metadata": {
        "vscode": {
          "languageId": "raw"
        },
        "id": "B-DOmShPrVVY"
      },
      "source": [
        "## Analizamos visualmente la distribución espacial en busca de correlación espacial\n",
        "(más adelante implementaremos medidas específicas)\n"
      ]
    },
    {
      "cell_type": "code",
      "execution_count": null,
      "metadata": {
        "vscode": {
          "languageId": "r"
        },
        "id": "iTUFY9eyrVVY"
      },
      "outputs": [],
      "source": [
        "%%R\n",
        "\n",
        "# Mapa de residuos\n",
        "ggplot() +\n",
        "  geom_sf(data = departamentos_in_regression, aes(color = residuos)) +\n",
        "  scale_color_gradient2(low = \"blue\", mid = \"white\", high = \"red\", midpoint = 0) +\n",
        "  labs(title = \"Distribución espacial de residuos\",\n",
        "       color = \"Residuos\") +\n",
        "  theme_minimal()\n"
      ]
    },
    {
      "cell_type": "markdown",
      "metadata": {
        "vscode": {
          "languageId": "raw"
        },
        "id": "S-kfHtGIrVVZ"
      },
      "source": [
        "### Agregando capa de referencia con mapas base\n",
        "Para agregar un mapa base en R, podemos usar el paquete `mapview` o `leaflet`. Sin embargo, como estamos usando Colab y rpy2, mantendremos el mapa simple por ahora.\n"
      ]
    },
    {
      "cell_type": "markdown",
      "metadata": {
        "vscode": {
          "languageId": "raw"
        },
        "id": "5F9EFqszrVVZ"
      },
      "source": [
        "# Exploración inicial de los datos\n",
        "\n",
        "Vamos a explorar la relación entre el precio de los departamentos y su superficie.\n"
      ]
    },
    {
      "cell_type": "code",
      "execution_count": null,
      "metadata": {
        "vscode": {
          "languageId": "r"
        },
        "id": "FTWzSE68rVVZ"
      },
      "outputs": [],
      "source": [
        "%%R\n",
        "\n",
        "# Gráfico de dispersión\n",
        "ggplot(departamentos, aes(x = surface_to, y = price)) +\n",
        "  geom_point(alpha = 0.5) +\n",
        "  geom_smooth(method = \"lm\", color = \"red\") +\n",
        "  labs(x = \"Superficie (m²)\", y = \"Precio\", title = \"Relación entre Precio y Superficie\") +\n",
        "  theme_minimal()\n"
      ]
    }
  ],
  "metadata": {
    "language_info": {
      "name": "python"
    },
    "colab": {
      "provenance": [],
      "include_colab_link": true
    }
  },
  "nbformat": 4,
  "nbformat_minor": 0
}