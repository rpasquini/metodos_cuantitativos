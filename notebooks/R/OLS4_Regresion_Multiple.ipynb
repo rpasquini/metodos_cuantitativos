{
  "cells": [
    {
      "cell_type": "markdown",
      "metadata": {
        "vscode": {
          "languageId": "raw"
        }
      },
      "source": [
        "<a href=\"https://colab.research.google.com/github/rpasquini/metodos_cuantitativos/blob/main/notebooks/R/OLS4_Regresion_Multiple.ipynb\" target=\"_parent\"><img src=\"https://colab.research.google.com/assets/colab-badge.svg\" alt=\"Open In Colab\"/></a>\n"
      ]
    },
    {
      "cell_type": "markdown",
      "metadata": {},
      "source": [
        "_author: Ricardo Pasquini (rpasquini@gmail.com)"
      ]
    },
    {
      "cell_type": "code",
      "execution_count": null,
      "metadata": {},
      "outputs": [],
      "source": [
        "%load_ext rpy2.ipython\n"
      ]
    },
    {
      "cell_type": "code",
      "execution_count": null,
      "metadata": {
        "vscode": {
          "languageId": "r"
        }
      },
      "outputs": [],
      "source": [
        "%%R\n",
        "\n",
        "# Instalamos y cargamos las librerías necesarias\n",
        "if (!require(\"sf\")) install.packages(\"sf\")\n",
        "if (!require(\"dplyr\")) install.packages(\"dplyr\")\n",
        "if (!require(\"ggplot2\")) install.packages(\"ggplot2\")\n",
        "if (!require(\"car\")) install.packages(\"car\")  # Para diagnósticos de regresión\n",
        "\n",
        "# Cargamos las librerías\n",
        "library(sf)\n",
        "library(dplyr)\n",
        "library(ggplot2)\n",
        "library(car)\n"
      ]
    },
    {
      "cell_type": "code",
      "execution_count": null,
      "metadata": {
        "vscode": {
          "languageId": "r"
        }
      },
      "outputs": [],
      "source": [
        "%%R\n",
        "\n",
        "# Descargamos y cargamos los datos\n",
        "download.file(\"https://github.com/rpasquini/urban-econometrics/blob/master/data/departamentos2019amba.zip?raw=true\",\n",
        "              destfile = \"departamentos2019amba.zip\", mode = \"wb\")\n",
        "unzip(\"departamentos2019amba.zip\", exdir = \".\")\n",
        "departamentos <- st_read(\"departamentos2019amba.shp\")\n"
      ]
    },
    {
      "cell_type": "code",
      "execution_count": null,
      "metadata": {
        "vscode": {
          "languageId": "r"
        }
      },
      "outputs": [],
      "source": [
        "%%R\n",
        "\n",
        "# Ver las columnas disponibles\n",
        "colnames(departamentos)\n"
      ]
    },
    {
      "cell_type": "code",
      "execution_count": null,
      "metadata": {
        "vscode": {
          "languageId": "r"
        }
      },
      "outputs": [],
      "source": [
        "%%R\n",
        "\n",
        "# Ajustamos el modelo simple\n",
        "modelo <- lm(price ~ bedrooms, data = departamentos)\n",
        "summary(modelo)\n"
      ]
    },
    {
      "cell_type": "markdown",
      "metadata": {
        "vscode": {
          "languageId": "raw"
        }
      },
      "source": [
        "# Estimacion del Modelo Multivariado\n",
        "\n",
        "Modelo propuesto:\n",
        "\n",
        "$price_i=\\beta_0+\\beta_1*bedrooms_i+\\beta_2*surface+\\epsilon_i$\n"
      ]
    },
    {
      "cell_type": "code",
      "execution_count": null,
      "metadata": {
        "vscode": {
          "languageId": "r"
        }
      },
      "outputs": [],
      "source": [
        "%%R\n",
        "\n",
        "# Ajustamos el modelo multivariado\n",
        "modelo_multi <- lm(price ~ bedrooms + surface_to, data = departamentos)\n",
        "summary(modelo_multi)\n"
      ]
    },
    {
      "cell_type": "code",
      "execution_count": null,
      "metadata": {
        "vscode": {
          "languageId": "r"
        }
      },
      "outputs": [],
      "source": [
        "%%R\n",
        "\n",
        "# Modelo con solo superficie\n",
        "modelo_surface <- lm(price ~ surface_to, data = departamentos)\n",
        "summary(modelo_surface)\n"
      ]
    },
    {
      "cell_type": "markdown",
      "metadata": {
        "vscode": {
          "languageId": "raw"
        }
      },
      "source": [
        "# Ejemplo OVB\n"
      ]
    },
    {
      "cell_type": "code",
      "execution_count": null,
      "metadata": {
        "vscode": {
          "languageId": "r"
        }
      },
      "outputs": [],
      "source": [
        "%%R\n",
        "\n",
        "# Cargamos los datos de educación\n",
        "datosedu <- read.csv('https://raw.githubusercontent.com/rpasquini/urban-econometrics/master/data/estadistica-educativa.csv')\n",
        "\n",
        "# Creamos las variables dummy para tipo_gestion\n",
        "datosedu$Privada <- as.factor(datosedu$tipo_gestion == \"Privada\")\n"
      ]
    },
    {
      "cell_type": "code",
      "execution_count": null,
      "metadata": {
        "vscode": {
          "languageId": "r"
        }
      },
      "outputs": [],
      "source": [
        "%%R\n",
        "\n",
        "# Modelo con variable Privada\n",
        "modelo_edu <- lm(iecep ~ Privada, data = datosedu)\n",
        "summary(modelo_edu)\n"
      ]
    },
    {
      "cell_type": "markdown",
      "metadata": {
        "vscode": {
          "languageId": "raw"
        }
      },
      "source": [
        "# Ejemplos Colinealidad\n"
      ]
    },
    {
      "cell_type": "code",
      "execution_count": null,
      "metadata": {
        "vscode": {
          "languageId": "r"
        }
      },
      "outputs": [],
      "source": [
        "%%R\n",
        "\n",
        "# Creamos la variable bedrooms al cuadrado\n",
        "departamentos$bedrooms2 <- departamentos$bedrooms^2\n",
        "\n",
        "# Ajustamos el modelo con el término cuadrático\n",
        "modelo_cuad <- lm(price ~ bedrooms + bedrooms2, data = departamentos)\n",
        "summary(modelo_cuad)\n"
      ]
    },
    {
      "cell_type": "code",
      "execution_count": null,
      "metadata": {
        "vscode": {
          "languageId": "r"
        }
      },
      "outputs": [],
      "source": [
        "%%R\n",
        "\n",
        "# Modelos con variables de rendimiento académico\n",
        "modelo_mat <- lm(tasa_repeticion_2012 ~ one_alto_mat, data = datosedu)\n",
        "summary(modelo_mat)\n"
      ]
    },
    {
      "cell_type": "code",
      "execution_count": null,
      "metadata": {
        "vscode": {
          "languageId": "r"
        }
      },
      "outputs": [],
      "source": [
        "%%R\n",
        "\n",
        "# Modelo con ciencias naturales\n",
        "modelo_cs_nat <- lm(tasa_repeticion_2012 ~ one_alto_cs_nat, data = datosedu)\n",
        "summary(modelo_cs_nat)\n"
      ]
    },
    {
      "cell_type": "code",
      "execution_count": null,
      "metadata": {
        "vscode": {
          "languageId": "r"
        }
      },
      "outputs": [],
      "source": [
        "%%R\n",
        "\n",
        "# Modelo con ciencias sociales\n",
        "modelo_cs_soc <- lm(tasa_repeticion_2012 ~ one_alto_cs_soc, data = datosedu)\n",
        "summary(modelo_cs_soc)\n"
      ]
    },
    {
      "cell_type": "code",
      "execution_count": null,
      "metadata": {
        "vscode": {
          "languageId": "r"
        }
      },
      "outputs": [],
      "source": [
        "%%R\n",
        "\n",
        "# Modelo con todas las variables de rendimiento\n",
        "modelo_completo <- lm(tasa_repeticion_2012 ~ one_alto_mat + one_alto_cs_nat + one_alto_cs_soc, \n",
        "                     data = datosedu)\n",
        "summary(modelo_completo)\n"
      ]
    },
    {
      "cell_type": "markdown",
      "metadata": {
        "vscode": {
          "languageId": "raw"
        }
      },
      "source": [
        "# Investigando el premio por formalidad\n",
        "### Extracto de Datos de Goytia, Heikkila, Pasquini (2020)\n",
        "https://www.sciencedirect.com/science/article/abs/pii/S0264837722005117\n"
      ]
    },
    {
      "cell_type": "markdown",
      "metadata": {
        "vscode": {
          "languageId": "raw"
        }
      },
      "source": [
        "## Descripción de variables\n",
        "* bformal es una dummy que señala con 1 a las areas \"formales\" y 0 a las areas \"informales\". Este es un criterio de delimitación espacial.  \"Informal\" se utiliza para el área que constituye un barrio popular  \n",
        "* dconurb1, dconurb2, dconurb3 son dummies que señalan a los agrupamientos de partidos del AMBA \"Conurbano 1\", \"Conurbano 2\" y \"Conurbano 3\" respectivamente, según la categorización del INDEC.  Vease https://www.indec.gob.ar/dbindec/folleto_gba.pdf\n",
        "* dprop_soloviv', 'dprop_ocupant', 'dinquilinos' son dummies que señalan a los que son propietarios solo de la vivienda, ocupantes e inquilinos respectivamente.\n",
        "* dedu_secincomp', 'dedu_seccomp', 'dedu_ter_o_mas' son dummies que señalan la educación del jefe de hogar\n",
        "* 'dconexionagua1', 'delectricidad_med', 'dconexiongas'  son dummies que señalan la presencia de conexión al agua de red, la presencia de un medidor de electricidad y la conexión al gas de red respectivamente.\n"
      ]
    },
    {
      "cell_type": "code",
      "execution_count": null,
      "metadata": {
        "vscode": {
          "languageId": "r"
        }
      },
      "outputs": [],
      "source": [
        "%%R\n",
        "\n",
        "# Cargamos los datos\n",
        "datosghp <- read.csv('https://raw.githubusercontent.com/rpasquini/urban-econometrics/master/data/formal%20premia%20data%20extract.csv')\n",
        "\n",
        "# Vemos las columnas disponibles\n",
        "colnames(datosghp)\n"
      ]
    },
    {
      "cell_type": "code",
      "execution_count": null,
      "metadata": {
        "vscode": {
          "languageId": "r"
        }
      },
      "outputs": [],
      "source": [
        "%%R\n",
        "\n",
        "# Modelo de premio por formalidad\n",
        "modelo_formal <- lm(alquiler2 ~ bformal + dconurb1 + dconurb2 + dconurb3 + \n",
        "                   dconexionagua1 + delectricidad_med + dconexiongas + hora_c, \n",
        "                   data = datosghp)\n",
        "summary(modelo_formal)\n"
      ]
    }
  ],
  "metadata": {
    "language_info": {
      "name": "python"
    }
  },
  "nbformat": 4,
  "nbformat_minor": 2
}
