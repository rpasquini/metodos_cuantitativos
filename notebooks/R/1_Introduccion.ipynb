{
 "cells": [
  {
   "cell_type": "raw",
   "metadata": {
    "vscode": {
     "languageId": "raw"
    }
   },
   "source": [
    "<a href=\"https://colab.research.google.com/github/rpasquini/metodos_cuantitativos/blob/main/1_Introduccion.ipynb\" target=\"_parent\"><img src=\"https://colab.research.google.com/assets/colab-badge.svg\" alt=\"Open In Colab\"/></a>\n"
   ]
  },
  {
   "cell_type": "raw",
   "metadata": {
    "vscode": {
     "languageId": "raw"
    }
   },
   "source": [
    "Autor: Ricardo Pasquini 2024\n",
    "rpasquini@utdt.edu\n"
   ]
  },
  {
   "cell_type": "raw",
   "metadata": {
    "vscode": {
     "languageId": "raw"
    }
   },
   "source": [
    "# Introducción\n",
    "En este notebook introduciremos algunas de las principales librerías con las que vamos a estar trabajando. Nuestro objetivo inicial es estimar un modelo de regresión simple utilizando datos de alquileres de 2019.\n"
   ]
  },
  {
   "cell_type": "raw",
   "metadata": {
    "vscode": {
     "languageId": "raw"
    }
   },
   "source": [
    "## Donde estamos\n",
    "\n",
    "Nuestro ambiente de trabajo ahora es un *notebook* que permite correr codigo, procesar datos, imprimir gráficos, etc. Estos notebooks en general se conocen como \"Jupyter notebooks\" y tienen como particularidad que el  entorno visual en el que trabajan vive en el navegador. En este momento además, el notebook con el que trabajan \"vive en la nube\" de Google Colaboratory. Utiliza recursos de la nube de Google para procesar los datos, etc. Para trabajar con nuestros propios datos tendremos que hacerlos accesibles a Google Colab (subiendo los datos al Colab o subiendo los datos a otro servidor al cual las librerias que usemos puedan acceder)\n",
    "\n",
    "Comentarios relacionados:\n",
    "\n",
    "- Como dijimos el notebook es solo un entorno visual. En este notebook vamos a trabajar con librerias de análisis cuantitativo construidas sobre el lenguaje Python. Los notebooks de Colab tambien pueden correr código de R.\n",
    "- Trabajar en la nube \"Colab\" es conveniente para una clase. También es posible (y a veces necesario) trabajar con un Jupyter Notebook instalado \"localmente\" en sus computadoras.\n",
    "\n",
    "- El ambiente virtual provisto por Google Colab va a borrar todo el contenido que se aloje en la memoria virtual después de un rato de inactividad. Lo unico que se mantiene es lo que está escrito en el notebook (el codigo y el texto explicativo). Esto implica que el notebook debe contener todo el codigo desde la carga de los datos hasta su resultado final para que pueda ser reproducido en cualquier momento.\n"
   ]
  },
  {
   "cell_type": "raw",
   "metadata": {
    "vscode": {
     "languageId": "raw"
    }
   },
   "source": [
    "# Librerías con las que vamos a trabajar\n",
    "\n",
    "Vamos a arrancar con estas:\n",
    "\n",
    "- sf: Para trabajar y manipular datos espaciales en R (equivalente a geopandas en Python).\n",
    "- dplyr: Para manipulación de datos tabulares (equivalente a pandas).\n",
    "- ggplot2: Para gráficos.\n",
    "\n",
    "Al respecto del uso de librerías, además debemos tener en cuenta:\n",
    "\n",
    "- En general para usar las librerías tienen que estar *instaladas* y además *cargadas* al ambiente de trabajo en el que estemos.\n",
    "- Los Notebooks de R pueden requerir instalar paquetes usando install.packages().\n",
    "- Para cargar un paquete se usa library().\n"
   ]
  },
  {
   "cell_type": "raw",
   "metadata": {
    "vscode": {
     "languageId": "raw"
    }
   },
   "source": [
    "## Instalamos e importamos sf, dplyr y ggplot2\n"
   ]
  },
  {
   "cell_type": "code",
   "execution_count": null,
   "metadata": {
    "vscode": {
     "languageId": "r"
    }
   },
   "outputs": [],
   "source": [
    "# Instalar paquetes si es necesario\n",
    "if (!require(sf)) install.packages('sf')\n",
    "if (!require(dplyr)) install.packages('dplyr')\n",
    "if (!require(ggplot2)) install.packages('ggplot2')\n",
    "\n",
    "library(sf)\n",
    "library(dplyr)\n",
    "library(ggplot2)\n"
   ]
  },
  {
   "cell_type": "raw",
   "metadata": {
    "vscode": {
     "languageId": "raw"
    }
   },
   "source": [
    "Ahora cargamos sf. Una vez cargada, la libreria en cuestion vive en el ambiente de trabajo. En R usamos library() para cargar paquetes.\n"
   ]
  },
  {
   "cell_type": "raw",
   "metadata": {
    "vscode": {
     "languageId": "raw"
    }
   },
   "source": [
    "La fuente de los datos es Properati [properati.com.ar/data/](https://properati.com.ar/data/).\n",
    "Fue descargada haciendo un pedido a su base de datos disponible en Google Big Query\n"
   ]
  },
  {
   "cell_type": "raw",
   "metadata": {
    "vscode": {
     "languageId": "raw"
    }
   },
   "source": [
    "El método st_read me permite levantar datos desde un archivo y convertirlos en un objeto **sf** (spatial features)\n"
   ]
  },
  {
   "cell_type": "code",
   "execution_count": null,
   "metadata": {
    "vscode": {
     "languageId": "r"
    }
   },
   "outputs": [],
   "source": [
    "departamentos <- st_read(\"https://github.com/rpasquini/urban-econometrics/blob/master/data/departamentos2019amba.zip?raw=true\")\n"
   ]
  },
  {
   "cell_type": "code",
   "execution_count": null,
   "metadata": {
    "vscode": {
     "languageId": "r"
    }
   },
   "outputs": [],
   "source": [
    "departamentos\n"
   ]
  },
  {
   "cell_type": "raw",
   "metadata": {
    "vscode": {
     "languageId": "raw"
    }
   },
   "source": [
    "# Si cargan desde un archivo local:\n",
    "# departamentos <- st_read(\"departamentos2019amba.zip\")\n"
   ]
  },
  {
   "cell_type": "code",
   "execution_count": null,
   "metadata": {
    "vscode": {
     "languageId": "r"
    }
   },
   "outputs": [],
   "source": [
    "head(departamentos)\n"
   ]
  },
  {
   "cell_type": "raw",
   "metadata": {
    "vscode": {
     "languageId": "raw"
    }
   },
   "source": [
    "## Descripcion rápida de los datos\n"
   ]
  },
  {
   "cell_type": "code",
   "execution_count": null,
   "metadata": {
    "vscode": {
     "languageId": "r"
    }
   },
   "outputs": [],
   "source": [
    "colnames(departamentos)\n"
   ]
  },
  {
   "cell_type": "code",
   "execution_count": null,
   "metadata": {
    "vscode": {
     "languageId": "r"
    }
   },
   "outputs": [],
   "source": [
    "dim(departamentos)\n"
   ]
  },
  {
   "cell_type": "raw",
   "metadata": {
    "vscode": {
     "languageId": "raw"
    }
   },
   "source": [
    "Puedo llamar a una columna en particular del dataframe si la escribo entre corchetes\n"
   ]
  },
  {
   "cell_type": "code",
   "execution_count": null,
   "metadata": {
    "vscode": {
     "languageId": "r"
    }
   },
   "outputs": [],
   "source": [
    "departamentos[['l2']]\n"
   ]
  },
  {
   "cell_type": "raw",
   "metadata": {
    "vscode": {
     "languageId": "raw"
    }
   },
   "source": [
    "En algunos casos funcionará que solo escriba $ y el nombre de la columna. (esto no sirve, por ejemplo si las columnas  tienen espacios en el nombre)\n"
   ]
  },
  {
   "cell_type": "code",
   "execution_count": null,
   "metadata": {
    "vscode": {
     "languageId": "r"
    }
   },
   "outputs": [],
   "source": [
    "departamentos$l2\n"
   ]
  },
  {
   "cell_type": "raw",
   "metadata": {
    "vscode": {
     "languageId": "raw"
    }
   },
   "source": [
    "Luego puedo ver cuales son los valores unicos que toma la variable:\n"
   ]
  },
  {
   "cell_type": "code",
   "execution_count": null,
   "metadata": {
    "vscode": {
     "languageId": "r"
    }
   },
   "outputs": [],
   "source": [
    "unique(departamentos$l2)\n"
   ]
  },
  {
   "cell_type": "code",
   "execution_count": null,
   "metadata": {
    "vscode": {
     "languageId": "r"
    }
   },
   "outputs": [],
   "source": [
    "sapply(departamentos, class)\n"
   ]
  },
  {
   "cell_type": "code",
   "execution_count": null,
   "metadata": {
    "vscode": {
     "languageId": "r"
    }
   },
   "outputs": [],
   "source": [
    "plot(st_geometry(departamentos))\n"
   ]
  },
  {
   "cell_type": "code",
   "execution_count": null,
   "metadata": {
    "vscode": {
     "languageId": "r"
    }
   },
   "outputs": [],
   "source": [
    "summary(departamentos$price)\n"
   ]
  },
  {
   "cell_type": "raw",
   "metadata": {
    "vscode": {
     "languageId": "raw"
    }
   },
   "source": [
    "## Estudiando un subconjunto de datos (filas del dataframe)\n",
    "\n",
    "Para \"filtrar\" el dataframe usamos dplyr::filter o base R con condiciones.\n",
    "\n",
    "Por ejemplo, si queremos departamentos mayores a $100000:\n",
    "departamentos_filtrados <- departamentos %>% filter(price > 100000)\n",
    "\n",
    "Para escribir una condicion recuerden que pueden utilizar los siguientes lógicos:\n",
    "\n",
    "```==    para chequear la  condicion \"equivale a\" o \"igual a\" va doble igual  ```\n",
    "\n",
    "```!= distinto a ```\n",
    "\n",
    "```> mayor a  ```\n",
    "\n",
    "```>= mayor o igual a ```\n",
    "\n",
    "```< menor a ```\n",
    "\n",
    "```<= menor o igual a ```\n",
    "\n",
    "En el caso de querer usar dos condiciones o más:\n",
    "\n",
    "```(esta condicion) & (esta condicion) ``` Se cumple esta condicion Y esta otra  \n",
    "\n",
    "```(esta condicion) | (esta condicion) ``` Se cumple esta condicion O esta otra\n",
    "   \n",
    "\n",
    "Recuerden que las condiciones tiene que ir  en parentesis!\n",
    "\n",
    "Vean los siguientes ejemplos:\n"
   ]
  },
  {
   "cell_type": "raw",
   "metadata": {
    "vscode": {
     "languageId": "raw"
    }
   },
   "source": [
    "Filtrar los departamentos que estan en Capital Federal\n"
   ]
  },
  {
   "cell_type": "code",
   "execution_count": null,
   "metadata": {
    "vscode": {
     "languageId": "r"
    }
   },
   "outputs": [],
   "source": [
    "departamentos %>% filter(l2 == \"Capital Federal\")\n"
   ]
  },
  {
   "cell_type": "raw",
   "metadata": {
    "vscode": {
     "languageId": "raw"
    }
   },
   "source": [
    "Filtrar los departamentos que valen más de $100000 Y que además estan en capital federal\n"
   ]
  },
  {
   "cell_type": "code",
   "execution_count": null,
   "metadata": {
    "vscode": {
     "languageId": "r"
    }
   },
   "outputs": [],
   "source": [
    "departamentos %>% filter(price > 100000 & l2 == \"Capital Federal\")\n"
   ]
  },
  {
   "cell_type": "raw",
   "metadata": {
    "vscode": {
     "languageId": "raw"
    }
   },
   "source": [
    "Es posible combinar los filtros con otros metodos para describir o graficar los datos en una sola linea de codigo. Para eso filtro primero y grafico o describo despues.\n"
   ]
  },
  {
   "cell_type": "code",
   "execution_count": null,
   "metadata": {
    "vscode": {
     "languageId": "r"
    }
   },
   "outputs": [],
   "source": [
    "departamentos %>% filter(l2 == \"Capital Federal\") %>% pull(price) %>% summary()\n"
   ]
  },
  {
   "cell_type": "code",
   "execution_count": null,
   "metadata": {
    "vscode": {
     "languageId": "r"
    }
   },
   "outputs": [],
   "source": [
    "hist(departamentos$price)\n"
   ]
  },
  {
   "cell_type": "code",
   "execution_count": null,
   "metadata": {
    "vscode": {
     "languageId": "r"
    }
   },
   "outputs": [],
   "source": [
    "departamentos %>% filter(price < 30000) %>% pull(price) %>% hist()\n"
   ]
  },
  {
   "cell_type": "raw",
   "metadata": {
    "vscode": {
     "languageId": "raw"
    }
   },
   "source": [
    "El método plot() en el objeto sf permite mapear los datos. Podrán reconocer el AMBA\n"
   ]
  },
  {
   "cell_type": "code",
   "execution_count": null,
   "metadata": {
    "vscode": {
     "languageId": "r"
    }
   },
   "outputs": [],
   "source": [
    "plot(st_geometry(departamentos))\n"
   ]
  },
  {
   "cell_type": "code",
   "execution_count": null,
   "metadata": {
    "vscode": {
     "languageId": "r"
    }
   },
   "outputs": [],
   "source": [
    "departamentos %>% filter(l2 == \"Capital Federal\") %>% st_geometry() %>% plot()\n"
   ]
  },
  {
   "cell_type": "code",
   "execution_count": null,
   "metadata": {
    "vscode": {
     "languageId": "r"
    }
   },
   "outputs": [],
   "source": [
    "departamentos %>% \n",
    "  filter(l2 == \"Capital Federal\" & price < 80000) %>% \n",
    "  ggplot() + \n",
    "  geom_sf(aes(fill = price)) +\n",
    "  scale_fill_viridis_c() +\n",
    "  theme_void()\n"
   ]
  },
  {
   "cell_type": "raw",
   "metadata": {
    "vscode": {
     "languageId": "raw"
    }
   },
   "source": [
    "# OLS\n"
   ]
  },
  {
   "cell_type": "raw",
   "metadata": {
    "vscode": {
     "languageId": "raw"
    }
   },
   "source": [
    "En R usamos la función lm() para estimar modelos de regresión lineal\n"
   ]
  },
  {
   "cell_type": "raw",
   "metadata": {
    "vscode": {
     "languageId": "raw"
    }
   },
   "source": [
    "Nuestro modelo a explorar es el siguiente:\n"
   ]
  },
  {
   "cell_type": "raw",
   "metadata": {
    "vscode": {
     "languageId": "raw"
    }
   },
   "source": [
    "$price_i=\\beta_0+ \\beta_1*bedrooms_i+\\epsilon_i$\n"
   ]
  },
  {
   "cell_type": "code",
   "execution_count": null,
   "metadata": {
    "vscode": {
     "languageId": "r"
    }
   },
   "outputs": [],
   "source": [
    "modelo <- lm(price ~ bedrooms, data = departamentos)\n"
   ]
  },
  {
   "cell_type": "code",
   "execution_count": null,
   "metadata": {
    "vscode": {
     "languageId": "r"
    }
   },
   "outputs": [],
   "source": [
    "summary(modelo)\n"
   ]
  },
  {
   "cell_type": "raw",
   "metadata": {
    "vscode": {
     "languageId": "raw"
    }
   },
   "source": [
    "Nuestro resultado es:\n",
    "precio= 11500+ 4253* bedrooms\n"
   ]
  },
  {
   "cell_type": "raw",
   "metadata": {
    "vscode": {
     "languageId": "raw"
    }
   },
   "source": [
    "## Graficando\n"
   ]
  },
  {
   "cell_type": "raw",
   "metadata": {
    "vscode": {
     "languageId": "raw"
    }
   },
   "source": [
    "El dataframe tiene algunos metodos que permiten graficar directamente usando ggplot2\n"
   ]
  },
  {
   "cell_type": "code",
   "execution_count": null,
   "metadata": {
    "vscode": {
     "languageId": "r"
    }
   },
   "outputs": [],
   "source": [
    "departamentos <- departamentos %>% filter(!is.na(bedrooms) & !is.na(price))\n"
   ]
  },
  {
   "cell_type": "code",
   "execution_count": null,
   "metadata": {
    "vscode": {
     "languageId": "r"
    }
   },
   "outputs": [],
   "source": [
    "ggplot(departamentos, aes(x = bedrooms, y = price)) + \n",
    "  geom_point() +\n",
    "  theme_minimal()\n"
   ]
  },
  {
   "cell_type": "raw",
   "metadata": {
    "vscode": {
     "languageId": "raw"
    }
   },
   "source": [
    "Scatter plot\n"
   ]
  },
  {
   "cell_type": "code",
   "execution_count": null,
   "metadata": {
    "vscode": {
     "languageId": "r"
    }
   },
   "outputs": [],
   "source": [
    "departamentos %>% \n",
    "  filter(bedrooms > 0) %>%\n",
    "  ggplot(aes(x = bedrooms, y = price)) + \n",
    "  geom_point() +\n",
    "  theme_minimal()\n"
   ]
  },
  {
   "cell_type": "raw",
   "metadata": {
    "vscode": {
     "languageId": "raw"
    }
   },
   "source": [
    "Para hacer otros graficos más complejos vamos a usar ggplot2 con líneas de predicción\n"
   ]
  },
  {
   "cell_type": "code",
   "execution_count": null,
   "metadata": {
    "vscode": {
     "languageId": "r"
    }
   },
   "outputs": [],
   "source": [
    "ypred <- predict(modelo, departamentos)\n",
    "\n",
    "ggplot(departamentos, aes(x = bedrooms, y = price)) +\n",
    "  geom_point(alpha = 0.5, color = \"blue\") +\n",
    "  geom_line(aes(y = ypred), color = \"red\", size = 1) +\n",
    "  labs(title = \"Datos vs Predicción OLS\", \n",
    "       x = \"Bedrooms\", y = \"Price\") +\n",
    "  theme_minimal()\n"
   ]
  },
  {
   "cell_type": "raw",
   "metadata": {
    "vscode": {
     "languageId": "raw"
    }
   },
   "source": [
    "# Ejemplo de ploteo con layers (capas)\n",
    "Vamos a utilizar la capa de límites de partidos y departamentos del IGN.\n",
    "Ver más aqui:\n",
    "https://datos.gob.ar/dataset/ign-unidades-territoriales\n"
   ]
  },
  {
   "cell_type": "code",
   "execution_count": null,
   "metadata": {
    "vscode": {
     "languageId": "r"
    }
   },
   "outputs": [],
   "source": [
    "limites <- st_read(\"https://github.com/rpasquini/urban-econometrics/blob/master/data/ign_departamento.zip?raw=true\")\n",
    "# En caso de tener el zip en el espacio local: limites <- st_read(\"ign_departamento.zip\")\n"
   ]
  },
  {
   "cell_type": "code",
   "execution_count": null,
   "metadata": {
    "vscode": {
     "languageId": "r"
    }
   },
   "outputs": [],
   "source": [
    "ggplot() +\n",
    "  geom_sf(data = st_transform(limites, 4326), fill = \"lightblue\", alpha = 0.5) +\n",
    "  geom_sf(data = st_transform(departamentos, 4326), color = \"orange\", size = 0.1) +\n",
    "  coord_sf(xlim = c(-59, -58), ylim = c(-35, -34.1)) +\n",
    "  theme_void()\n"
   ]
  },
  {
   "cell_type": "code",
   "execution_count": null,
   "metadata": {
    "vscode": {
     "languageId": "r"
    }
   },
   "outputs": [],
   "source": [
    "ggplot() +\n",
    "  geom_sf(data = st_transform(limites, 4326), fill = \"lightgray\", alpha = 0.5) +\n",
    "  geom_sf(data = departamentos %>% \n",
    "            filter(price < 80000) %>% \n",
    "            st_transform(4326), \n",
    "          aes(fill = price), size = 0.1) +\n",
    "  scale_fill_viridis_c() +\n",
    "  coord_sf(xlim = c(-59, -58), ylim = c(-35, -34.1)) +\n",
    "  theme_void() +\n",
    "  labs(title = \"Precios de departamentos menores a $80,000\")\n"
   ]
  }
 ],
 "metadata": {
  "language_info": {
   "name": "python"
  }
 },
 "nbformat": 4,
 "nbformat_minor": 2
}
