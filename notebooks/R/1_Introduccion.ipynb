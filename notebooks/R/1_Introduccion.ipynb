{
  "nbformat": 4,
  "nbformat_minor": 0,
  "cells": [
    {
      "colab": {
        "name": "OLS Departamentos AMBA.ipynb",
        "provenance": [],
        "toc_visible": true,
        "authorship_tag": "ABX9TyPH3flZB6YRgXNeWhLiXTAb",
        "include_colab_link": true
      },
    },
    {
      "cell_type": "raw",
      "metadata": {
        "vscode": {
          "languageId": "raw"
        },
        "id": "ilMiJqJ_BHMP"
      },
      "source": [
        "<a href=\"https://colab.research.google.com/github/rpasquini/metodos_cuantitativos/blob/main/1_Introduccion.ipynb\" target=\"_parent\"><img src=\"https://colab.research.google.com/assets/colab-badge.svg\" alt=\"Open In Colab\"/></a>\n"
      ]
    },
    {
      "cell_type": "raw",
      "metadata": {
        "vscode": {
          "languageId": "raw"
        },
        "id": "tSnC3GgrBHMQ"
      },
      "source": [
        "Autor: Ricardo Pasquini 2025\n",
        "rpasquini@utdt.edu\n"
      ]
    },
    {
      "cell_type": "raw",
      "metadata": {
        "vscode": {
          "languageId": "raw"
        },
        "id": "qOl2Gx3oBHMR"
      },
      "source": [
        "# Introducción\n",
        "En este notebook introduciremos algunas de las principales librerías con las que vamos a estar trabajando. Nuestro objetivo inicial es estimar un modelo de regresión simple utilizando datos de alquileres de 2019.\n"
      ]
    },
    {
      "cell_type": "raw",
      "metadata": {
        "vscode": {
          "languageId": "raw"
        },
        "id": "M4z3I_0UBHMR"
      },
      "source": [
        "## Donde estamos\n",
        "\n",
        "Nuestro ambiente de trabajo ahora es un *notebook* que permite correr codigo, procesar datos, imprimir gráficos, etc. Estos notebooks en general se conocen como \"Jupyter notebooks\" y tienen como particularidad que el  entorno visual en el que trabajan vive en el navegador. En este momento además, el notebook con el que trabajan \"vive en la nube\" de Google Colaboratory. Utiliza recursos de la nube de Google para procesar los datos, etc. Para trabajar con nuestros propios datos tendremos que hacerlos accesibles a Google Colab (subiendo los datos al Colab o subiendo los datos a otro servidor al cual las librerias que usemos puedan acceder)\n",
        "\n",
        "Comentarios relacionados:\n",
        "\n",
        "- Como dijimos el notebook es solo un entorno visual. En este notebook vamos a trabajar con librerias de análisis cuantitativo construidas sobre el lenguaje Python. Los notebooks de Colab tambien pueden correr código de R.\n",
        "- Trabajar en la nube \"Colab\" es conveniente para una clase. También es posible (y a veces necesario) trabajar con un Jupyter Notebook instalado \"localmente\" en sus computadoras.\n",
        "\n",
        "- El ambiente virtual provisto por Google Colab va a borrar todo el contenido que se aloje en la memoria virtual después de un rato de inactividad. Lo unico que se mantiene es lo que está escrito en el notebook (el codigo y el texto explicativo). Esto implica que el notebook debe contener todo el codigo desde la carga de los datos hasta su resultado final para que pueda ser reproducido en cualquier momento.\n"
      ]
    },
    {
      "cell_type": "raw",
      "metadata": {
        "vscode": {
          "languageId": "raw"
        },
        "id": "jnqSpqESBHMR"
      },
      "source": [
        "# Librerías con las que vamos a trabajar\n",
        "\n",
        "Vamos a arrancar con estas:\n",
        "\n",
        "- sf: Para trabajar y manipular datos espaciales en R (equivalente a geopandas en Python).\n",
        "- dplyr: Para manipulación de datos tabulares (equivalente a pandas).\n",
        "- ggplot2: Para gráficos.\n",
        "\n",
        "Al respecto del uso de librerías, además debemos tener en cuenta:\n",
        "\n",
        "- En general para usar las librerías tienen que estar *instaladas* y además *cargadas* al ambiente de trabajo en el que estemos.\n",
        "- Los Notebooks de R pueden requerir instalar paquetes usando install.packages().\n",
        "- Para cargar un paquete se usa library().\n"
      ]
    },
    {
      "cell_type": "raw",
      "metadata": {
        "vscode": {
          "languageId": "raw"
        },
        "id": "esbd19e5BHMS"
      },
      "source": [
        "## Instalamos e importamos sf, dplyr y ggplot2\n"
      ]
    },
    {
      "cell_type": "code",
      "source": [
        "# download the R environment file, where you could change the environment file you build in the previous steps\n",
        "# Use the direct download link for Google Drive\n",
        "R_environment_file <- \"https://github.com/rpasquini/metodos_cuantitativos/blob/main/notebooks/R/library.tar.gz\"\n",
        "download.file(R_environment_file,\n",
        "      destfile=\"./library.tar.gz\")"
      ],
      "metadata": {
        "id": "2kF1E1gAxM9A"
      },
      "execution_count": 1,
      "outputs": []
    },
    {
      "cell_type": "code",
      "source": [
        "# unzip the compressed R library file: 'library.tar.gz' into the R library folder\n",
        "untar(\"library.tar.gz\", \"library\")"
      ],
      "metadata": {
        "colab": {
          "base_uri": "https://localhost:8080/"
        },
        "id": "-fpa58hPsBnT",
        "outputId": "20a12267-33eb-4a8d-8470-b751e9bc147c"
      },
      "execution_count": 2,
      "outputs": [
        {
          "output_type": "stream",
          "name": "stderr",
          "text": [
            "Warning message in untar(\"library.tar.gz\", \"library\"):\n",
            "“‘/bin/tar -xf 'library.tar.gz' 'library'’ returned error code 2”\n"
          ]
        }
      ]
    },
    {
      "cell_type": "code",
      "source": [],
      "metadata": {
        "id": "S_DfEwhJuYuY"
      },
      "execution_count": null,
      "outputs": []
    },
    {
      "cell_type": "code",
      "source": [
        "# change the R library directory into './library'\n",
        ".libPaths(\"library\")"
      ],
      "metadata": {
        "id": "HOWA92_3sgd9"
      },
      "execution_count": 3,
      "outputs": []
    },
    {
      "cell_type": "code",
      "source": [
        "library(sf)\n",
        "library(dplyr)\n",
        "library(ggplot2)"
      ],
      "metadata": {
        "colab": {
          "base_uri": "https://localhost:8080/"
        },
        "id": "os-q_FcGuZWa",
        "outputId": "6c4197c5-2ba1-4328-91ec-0127fbc54085"
      },
      "execution_count": 4,
      "outputs": [
        {
          "output_type": "stream",
          "name": "stderr",
          "text": [
            "Linking to GEOS 3.12.1, GDAL 3.8.4, PROJ 9.3.1; sf_use_s2() is TRUE\n",
            "\n",
            "\n",
            "Attaching package: ‘dplyr’\n",
            "\n",
            "\n",
            "The following objects are masked from ‘package:stats’:\n",
            "\n",
            "    filter, lag\n",
            "\n",
            "\n",
            "The following objects are masked from ‘package:base’:\n",
            "\n",
            "    intersect, setdiff, setequal, union\n",
            "\n",
            "\n"
          ]
        }
      ]
    },
    {
      "cell_type": "raw",
      "metadata": {
        "vscode": {
          "languageId": "raw"
        },
        "id": "zfaSt5v4BHMT"
      },
      "source": [
        "Ahora cargamos sf. Una vez cargada, la libreria en cuestion vive en el ambiente de trabajo. En R usamos library() para cargar paquetes.\n"
      ]
    },
    {
      "cell_type": "raw",
      "metadata": {
        "vscode": {
          "languageId": "raw"
        },
        "id": "nhhkdzQNBHMT"
      },
      "source": [
        "La fuente de los datos es Properati [properati.com.ar/data/](https://properati.com.ar/data/).\n",
        "Fue descargada haciendo un pedido a su base de datos disponible en Google Big Query\n"
      ]
    },
    {
      "cell_type": "raw",
      "metadata": {
        "vscode": {
          "languageId": "raw"
        },
        "id": "FfPNDAm2BHMT"
      },
      "source": [
        "El método st_read me permite levantar datos desde un archivo y convertirlos en un objeto **sf** (spatial features)\n"
      ]
    },
    {
      "cell_type": "code",
      "source": [
        "# download the zip file locally\n",
        "download.file(\"https://github.com/rpasquini/urban-econometrics/blob/master/data/departamentos2019amba.zip?raw=true\",\n",
        "              destfile = \"departamentos2019amba.zip\", mode = \"wb\") # Use mode = \"wb\" for binary files\n",
        "# Unzip the downloaded file\n",
        "unzip(\"departamentos2019amba.zip\", exdir = \".\") # Extract to the current directory\n",
        "\n",
        "# Read the shapefile from the unzipped contents\n",
        "# Assuming the main shapefile is named 'departamentos2019amba.shp'\n",
        "departamentos <- st_read(\"departamentos2019amba.shp\")\n"
      ],
      "metadata": {
        "colab": {
          "base_uri": "https://localhost:8080/"
        },
        "id": "5nK6qSx5t6BZ",
        "outputId": "b201ace3-7adc-44e8-dd97-6728998429e3"
      },
      "execution_count": 5,
      "outputs": [
        {
          "output_type": "stream",
          "name": "stdout",
          "text": [
            "Reading layer `departamentos2019amba' from data source \n",
            "  `/content/departamentos2019amba.shp' using driver `ESRI Shapefile'\n",
            "Simple feature collection with 50653 features and 28 fields\n",
            "Geometry type: POINT\n",
            "Dimension:     XY\n",
            "Bounding box:  xmin: 50978.57 ymin: 62684.22 xmax: 142256.9 ymax: 151715.8\n",
            "Projected CRS: Transverse_Mercator\n"
          ]
        }
      ]
    },
    {
      "cell_type": "code",
      "execution_count": 6,
      "metadata": {
        "vscode": {
          "languageId": "r"
        },
        "colab": {
          "base_uri": "https://localhost:8080/",
          "height": 1000
        },
        "id": "eivCfZIdBHMU",
        "outputId": "38bcdf9b-15b6-46cd-f5d2-955acd52ba7b"
      },
      "outputs": [
        {
          "output_type": "stream",
          "name": "stderr",
          "text": [
            "ERROR while rich displaying an object: Error in loadNamespace(x): there is no package called ‘geojsonio’\n",
            "\n",
            "Traceback:\n",
            "1. sapply(x, f, simplify = simplify)\n",
            "2. lapply(X = X, FUN = FUN, ...)\n",
            "3. FUN(X[[i]], ...)\n",
            "4. tryCatch(withCallingHandlers({\n",
            " .     if (!mime %in% names(repr::mime2repr)) \n",
            " .         stop(\"No repr_* for mimetype \", mime, \" in repr::mime2repr\")\n",
            " .     rpr <- repr::mime2repr[[mime]](obj)\n",
            " .     if (is.null(rpr)) \n",
            " .         return(NULL)\n",
            " .     prepare_content(is.raw(rpr), rpr)\n",
            " . }, error = error_handler), error = outer_handler)\n",
            "5. tryCatchList(expr, classes, parentenv, handlers)\n",
            "6. tryCatchOne(expr, names, parentenv, handlers[[1L]])\n",
            "7. doTryCatch(return(expr), name, parentenv, handler)\n",
            "8. withCallingHandlers({\n",
            " .     if (!mime %in% names(repr::mime2repr)) \n",
            " .         stop(\"No repr_* for mimetype \", mime, \" in repr::mime2repr\")\n",
            " .     rpr <- repr::mime2repr[[mime]](obj)\n",
            " .     if (is.null(rpr)) \n",
            " .         return(NULL)\n",
            " .     prepare_content(is.raw(rpr), rpr)\n",
            " . }, error = error_handler)\n",
            "9. repr::mime2repr[[mime]](obj)\n",
            "10. repr_geojson.sf(obj)\n",
            "11. repr_geojson(geojsonio::geojson_list(obj), ...)\n",
            "12. loadNamespace(x)\n",
            "13. withRestarts(stop(cond), retry_loadNamespace = function() NULL)\n",
            "14. withOneRestart(expr, restarts[[1L]])\n",
            "15. doWithOneRestart(return(expr), restart)\n"
          ]
        },
        {
          "output_type": "display_data",
          "data": {
            "text/html": [
              "<table class=\"dataframe\">\n",
              "<caption>A sf: 6 × 29</caption>\n",
              "<thead>\n",
              "\t<tr><th></th><th scope=col>bathrooms</th><th scope=col>bedrooms</th><th scope=col>country</th><th scope=col>created_on</th><th scope=col>currency</th><th scope=col>descriptio</th><th scope=col>developmen</th><th scope=col>end_date</th><th scope=col>index</th><th scope=col>l1</th><th scope=col>geometry</th><th scope=col>⋯</th><th scope=col>price</th><th scope=col>price_peri</th><th scope=col>rooms</th><th scope=col>start_date</th><th scope=col>surface_co</th><th scope=col>surface_to</th><th scope=col>title</th><th scope=col>type</th><th scope=col>type_i18n</th><th scope=col>geometry</th></tr>\n",
              "\t<tr><th></th><th scope=col>&lt;dbl&gt;</th><th scope=col>&lt;dbl&gt;</th><th scope=col>&lt;chr&gt;</th><th scope=col>&lt;chr&gt;</th><th scope=col>&lt;chr&gt;</th><th scope=col>&lt;chr&gt;</th><th scope=col>&lt;chr&gt;</th><th scope=col>&lt;chr&gt;</th><th scope=col>&lt;dbl&gt;</th><th scope=col>&lt;chr&gt;</th><th scope=col>⋯</th><th scope=col>&lt;dbl&gt;</th><th scope=col>&lt;chr&gt;</th><th scope=col>&lt;dbl&gt;</th><th scope=col>&lt;chr&gt;</th><th scope=col>&lt;dbl&gt;</th><th scope=col>&lt;dbl&gt;</th><th scope=col>&lt;chr&gt;</th><th scope=col>&lt;chr&gt;</th><th scope=col>&lt;chr&gt;</th><th scope=col>&lt;POINT [m]&gt;</th></tr>\n",
              "</thead>\n",
              "<tbody>\n",
              "\t<tr><th scope=row>1</th><td> 1</td><td> 1</td><td>Argentina</td><td>2019-09-26</td><td>ARS</td><td>CODIGO: 1819-CRI180 ubicado en: Av. Callao 1800 -  Publicado por: TIXE NEGOCIOS INMOBILIARIOS. El precio es de ARS 18000 null. Impresionante ubicación. Recoleta. A. Callao y Av. Alvear. Espectacular ubicación junto al Paseo de la Recoleta, Av. Libertador</td><td>NA</td><td>2019-10-10</td><td>0</td><td>Argentina</td><td>POINT (106827.3 104558.6)</td><td>⋯</td><td>18000</td><td>Mensual</td><td>NA</td><td>2019-09-26</td><td> 52</td><td> 58</td><td>Recoleta. Av. Callao y Av. Alvear. Piso alto. 2 Amb. Balcón. Vistas                          </td><td>Departamento</td><td>Departamento</td><td>POINT (106827.3 104558.6)</td></tr>\n",
              "\t<tr><th scope=row>2</th><td> 3</td><td>NA</td><td>Argentina</td><td>2019-09-26</td><td>ARS</td><td><span style=white-space:pre-wrap>Residencia de estudiantes y viajeros. Son dos propiedades dentro de edificio.&lt;br&gt;&lt;br&gt;La propiedad cuenta con 10  habitaciones, algunas para compartir debido a su amplitud en superficie, y otras para uso individual. una de ellas cuentan con baño propio. t</span></td><td>NA</td><td>2019-11-04</td><td>1</td><td>Argentina</td><td>POINT (106347.9 102524.7)</td><td>⋯</td><td>45000</td><td>Mensual</td><td>NA</td><td>2019-09-26</td><td>219</td><td>219</td><td><span style=white-space:pre-wrap>Departamento - Balvanera                                                                     </span></td><td>Departamento</td><td>Departamento</td><td>POINT (106347.9 102524.7)</td></tr>\n",
              "\t<tr><th scope=row>3</th><td> 1</td><td> 2</td><td>Argentina</td><td>2019-09-26</td><td>ARS</td><td>CODIGO: 1348-AF021227 ubicado en: Tacuari 263 -  Publicado por: BARRERA Y ASOCIADOS. El precio es de ARS 18500 null. 3 ambientes planta baja con patio, bajas expensas. Cocina y termotanque eléctricos, nuevos, se colocan antes del comienzo del contrato. N</td><td>NA</td><td>2019-09-28</td><td>2</td><td>Argentina</td><td>POINT (107658.3 102034.1)</td><td>⋯</td><td>18500</td><td>Mensual</td><td>NA</td><td>2019-09-26</td><td> 61</td><td> 67</td><td>3 ambientes con patio 61 m2 propios bajas expensas                                           </td><td>Departamento</td><td>Departamento</td><td>POINT (107658.3 102034.1)</td></tr>\n",
              "\t<tr><th scope=row>4</th><td>NA</td><td>NA</td><td>Argentina</td><td>2019-09-26</td><td>ARS</td><td>Departamento de dos ambientes a 200 metros de Av. Peron y Ruta 3.&lt;br&gt;La unidad se encuentra en segundo piso contrafrente por escalera y cuenta con todos los servicios, muebles de bajo mesada y alacena, cocina y estractor, baño completo con bañera y dormi</td><td>NA</td><td>2020-02-12</td><td>4</td><td>Argentina</td><td>POINT (91709.24 94331.75)</td><td>⋯</td><td>11000</td><td>Mensual</td><td>NA</td><td>2019-09-26</td><td> 38</td><td> 38</td><td><span style=white-space:pre-wrap>Departamento - San Justo                                                                     </span></td><td>Departamento</td><td>Departamento</td><td>POINT (91709.24 94331.75)</td></tr>\n",
              "\t<tr><th scope=row>5</th><td> 1</td><td> 1</td><td>Argentina</td><td>2019-09-26</td><td>ARS</td><td>CODIGO: 733-1600MARIANOA ubicado en: MARIANO ACHA 1600 -  Publicado por: ALICIA ROJAS NEGOCIOS INMOBILIARIOS. El precio es de ARS 18500 null. EXCELENTE DTO PLANTA BAJA CFTE DE 2 AMBIENTES 49 MTS TOTALES - AMPLIO, COMODO Y BUENA DISTRIBUCIÓN - DORMITORIO </td><td>NA</td><td>2019-11-10</td><td>5</td><td>Argentina</td><td>POINT (99129.69 105739.1)</td><td>⋯</td><td>18500</td><td>Mensual</td><td>NA</td><td>2019-09-26</td><td> 39</td><td> 49</td><td>EXCELENTE DEPARTAMENTO 2 AMB CON PATIO 49 MTS - A 3 C/ SUBTE - MARIANO ACHA 1600 - V. URQUIZA</td><td>Departamento</td><td>Departamento</td><td>POINT (99129.69 105739.1)</td></tr>\n",
              "\t<tr><th scope=row>6</th><td>NA</td><td>NA</td><td>Argentina</td><td>2019-09-26</td><td>ARS</td><td><span style=white-space:pre-wrap>MONOAMBIENTE EN ALMAGRO&lt;br&gt;AMPLIO Y LUMINOSO&lt;br&gt;AMBIENTE CON PLACAR&lt;br&gt;COCINA INDEPENDIENTE&lt;br&gt;BAÑO CON VENTILACIÓN NATURAL                                                                                                                                   </span></td><td>NA</td><td>2019-10-02</td><td>6</td><td>Argentina</td><td>POINT (103825.4 102026.2)</td><td>⋯</td><td> 9000</td><td>Mensual</td><td> 1</td><td>2019-09-26</td><td> 30</td><td> 30</td><td><span style=white-space:pre-wrap>Departamento - Almagro                                                                       </span></td><td>Departamento</td><td>Departamento</td><td>POINT (103825.4 102026.2)</td></tr>\n",
              "</tbody>\n",
              "</table>\n"
            ],
            "text/markdown": "\nA sf: 6 × 29\n\n| <!--/--> | bathrooms &lt;dbl&gt; | bedrooms &lt;dbl&gt; | country &lt;chr&gt; | created_on &lt;chr&gt; | currency &lt;chr&gt; | descriptio &lt;chr&gt; | developmen &lt;chr&gt; | end_date &lt;chr&gt; | index &lt;dbl&gt; | l1 &lt;chr&gt; | geometry ⋯ | ⋯ &lt;dbl&gt; | price &lt;chr&gt; | price_peri &lt;dbl&gt; | rooms &lt;chr&gt; | start_date &lt;dbl&gt; | surface_co &lt;dbl&gt; | surface_to &lt;chr&gt; | title &lt;chr&gt; | type &lt;chr&gt; | type_i18n &lt;POINT [m]&gt; | geometry &lt;dbl&gt; |\n|---|---|---|---|---|---|---|---|---|---|---|---|---|---|---|---|---|---|---|---|---|---|\n| 1 |  1 |  1 | Argentina | 2019-09-26 | ARS | CODIGO: 1819-CRI180 ubicado en: Av. Callao 1800 -  Publicado por: TIXE NEGOCIOS INMOBILIARIOS. El precio es de ARS 18000 null. Impresionante ubicación. Recoleta. A. Callao y Av. Alvear. Espectacular ubicación junto al Paseo de la Recoleta, Av. Libertador | NA | 2019-10-10 | 0 | Argentina | POINT (106827.3 104558.6) | ⋯ | 18000 | Mensual | NA | 2019-09-26 |  52 |  58 | Recoleta. Av. Callao y Av. Alvear. Piso alto. 2 Amb. Balcón. Vistas                           | Departamento | Departamento | POINT (106827.3 104558.6) |\n| 2 |  3 | NA | Argentina | 2019-09-26 | ARS | Residencia de estudiantes y viajeros. Son dos propiedades dentro de edificio.&lt;br&gt;&lt;br&gt;La propiedad cuenta con 10  habitaciones, algunas para compartir debido a su amplitud en superficie, y otras para uso individual. una de ellas cuentan con baño propio. t | NA | 2019-11-04 | 1 | Argentina | POINT (106347.9 102524.7) | ⋯ | 45000 | Mensual | NA | 2019-09-26 | 219 | 219 | Departamento - Balvanera                                                                      | Departamento | Departamento | POINT (106347.9 102524.7) |\n| 3 |  1 |  2 | Argentina | 2019-09-26 | ARS | CODIGO: 1348-AF021227 ubicado en: Tacuari 263 -  Publicado por: BARRERA Y ASOCIADOS. El precio es de ARS 18500 null. 3 ambientes planta baja con patio, bajas expensas. Cocina y termotanque eléctricos, nuevos, se colocan antes del comienzo del contrato. N | NA | 2019-09-28 | 2 | Argentina | POINT (107658.3 102034.1) | ⋯ | 18500 | Mensual | NA | 2019-09-26 |  61 |  67 | 3 ambientes con patio 61 m2 propios bajas expensas                                            | Departamento | Departamento | POINT (107658.3 102034.1) |\n| 4 | NA | NA | Argentina | 2019-09-26 | ARS | Departamento de dos ambientes a 200 metros de Av. Peron y Ruta 3.&lt;br&gt;La unidad se encuentra en segundo piso contrafrente por escalera y cuenta con todos los servicios, muebles de bajo mesada y alacena, cocina y estractor, baño completo con bañera y dormi | NA | 2020-02-12 | 4 | Argentina | POINT (91709.24 94331.75) | ⋯ | 11000 | Mensual | NA | 2019-09-26 |  38 |  38 | Departamento - San Justo                                                                      | Departamento | Departamento | POINT (91709.24 94331.75) |\n| 5 |  1 |  1 | Argentina | 2019-09-26 | ARS | CODIGO: 733-1600MARIANOA ubicado en: MARIANO ACHA 1600 -  Publicado por: ALICIA ROJAS NEGOCIOS INMOBILIARIOS. El precio es de ARS 18500 null. EXCELENTE DTO PLANTA BAJA CFTE DE 2 AMBIENTES 49 MTS TOTALES - AMPLIO, COMODO Y BUENA DISTRIBUCIÓN - DORMITORIO  | NA | 2019-11-10 | 5 | Argentina | POINT (99129.69 105739.1) | ⋯ | 18500 | Mensual | NA | 2019-09-26 |  39 |  49 | EXCELENTE DEPARTAMENTO 2 AMB CON PATIO 49 MTS - A 3 C/ SUBTE - MARIANO ACHA 1600 - V. URQUIZA | Departamento | Departamento | POINT (99129.69 105739.1) |\n| 6 | NA | NA | Argentina | 2019-09-26 | ARS | MONOAMBIENTE EN ALMAGRO&lt;br&gt;AMPLIO Y LUMINOSO&lt;br&gt;AMBIENTE CON PLACAR&lt;br&gt;COCINA INDEPENDIENTE&lt;br&gt;BAÑO CON VENTILACIÓN NATURAL                                                                                                                                    | NA | 2019-10-02 | 6 | Argentina | POINT (103825.4 102026.2) | ⋯ |  9000 | Mensual |  1 | 2019-09-26 |  30 |  30 | Departamento - Almagro                                                                        | Departamento | Departamento | POINT (103825.4 102026.2) |\n\n",
            "text/latex": "A sf: 6 × 29\n\\begin{tabular}{r|lllllllllllllllllllll}\n  & bathrooms & bedrooms & country & created\\_on & currency & descriptio & developmen & end\\_date & index & l1 & geometry & ⋯ & price & price\\_peri & rooms & start\\_date & surface\\_co & surface\\_to & title & type & type\\_i18n & geometry\\\\\n  & <dbl> & <dbl> & <chr> & <chr> & <chr> & <chr> & <chr> & <chr> & <dbl> & <chr> & ⋯ & <dbl> & <chr> & <dbl> & <chr> & <dbl> & <dbl> & <chr> & <chr> & <chr> & <POINT {[}m{]}>\\\\\n\\hline\n\t1 &  1 &  1 & Argentina & 2019-09-26 & ARS & CODIGO: 1819-CRI180 ubicado en: Av. Callao 1800 -  Publicado por: TIXE NEGOCIOS INMOBILIARIOS. El precio es de ARS 18000 null. Impresionante ubicación. Recoleta. A. Callao y Av. Alvear. Espectacular ubicación junto al Paseo de la Recoleta, Av. Libertador & NA & 2019-10-10 & 0 & Argentina & POINT (106827.3 104558.6) & ⋯ & 18000 & Mensual & NA & 2019-09-26 &  52 &  58 & Recoleta. Av. Callao y Av. Alvear. Piso alto. 2 Amb. Balcón. Vistas                           & Departamento & Departamento & POINT (106827.3 104558.6)\\\\\n\t2 &  3 & NA & Argentina & 2019-09-26 & ARS & Residencia de estudiantes y viajeros. Son dos propiedades dentro de edificio.<br><br>La propiedad cuenta con 10  habitaciones, algunas para compartir debido a su amplitud en superficie, y otras para uso individual. una de ellas cuentan con baño propio. t & NA & 2019-11-04 & 1 & Argentina & POINT (106347.9 102524.7) & ⋯ & 45000 & Mensual & NA & 2019-09-26 & 219 & 219 & Departamento - Balvanera                                                                      & Departamento & Departamento & POINT (106347.9 102524.7)\\\\\n\t3 &  1 &  2 & Argentina & 2019-09-26 & ARS & CODIGO: 1348-AF021227 ubicado en: Tacuari 263 -  Publicado por: BARRERA Y ASOCIADOS. El precio es de ARS 18500 null. 3 ambientes planta baja con patio, bajas expensas. Cocina y termotanque eléctricos, nuevos, se colocan antes del comienzo del contrato. N & NA & 2019-09-28 & 2 & Argentina & POINT (107658.3 102034.1) & ⋯ & 18500 & Mensual & NA & 2019-09-26 &  61 &  67 & 3 ambientes con patio 61 m2 propios bajas expensas                                            & Departamento & Departamento & POINT (107658.3 102034.1)\\\\\n\t4 & NA & NA & Argentina & 2019-09-26 & ARS & Departamento de dos ambientes a 200 metros de Av. Peron y Ruta 3.<br>La unidad se encuentra en segundo piso contrafrente por escalera y cuenta con todos los servicios, muebles de bajo mesada y alacena, cocina y estractor, baño completo con bañera y dormi & NA & 2020-02-12 & 4 & Argentina & POINT (91709.24 94331.75) & ⋯ & 11000 & Mensual & NA & 2019-09-26 &  38 &  38 & Departamento - San Justo                                                                      & Departamento & Departamento & POINT (91709.24 94331.75)\\\\\n\t5 &  1 &  1 & Argentina & 2019-09-26 & ARS & CODIGO: 733-1600MARIANOA ubicado en: MARIANO ACHA 1600 -  Publicado por: ALICIA ROJAS NEGOCIOS INMOBILIARIOS. El precio es de ARS 18500 null. EXCELENTE DTO PLANTA BAJA CFTE DE 2 AMBIENTES 49 MTS TOTALES - AMPLIO, COMODO Y BUENA DISTRIBUCIÓN - DORMITORIO  & NA & 2019-11-10 & 5 & Argentina & POINT (99129.69 105739.1) & ⋯ & 18500 & Mensual & NA & 2019-09-26 &  39 &  49 & EXCELENTE DEPARTAMENTO 2 AMB CON PATIO 49 MTS - A 3 C/ SUBTE - MARIANO ACHA 1600 - V. URQUIZA & Departamento & Departamento & POINT (99129.69 105739.1)\\\\\n\t6 & NA & NA & Argentina & 2019-09-26 & ARS & MONOAMBIENTE EN ALMAGRO<br>AMPLIO Y LUMINOSO<br>AMBIENTE CON PLACAR<br>COCINA INDEPENDIENTE<br>BAÑO CON VENTILACIÓN NATURAL                                                                                                                                    & NA & 2019-10-02 & 6 & Argentina & POINT (103825.4 102026.2) & ⋯ &  9000 & Mensual &  1 & 2019-09-26 &  30 &  30 & Departamento - Almagro                                                                        & Departamento & Departamento & POINT (103825.4 102026.2)\\\\\n\\end{tabular}\n",
            "text/plain": [
              "  bathrooms bedrooms country   created_on currency\n",
              "1  1         1       Argentina 2019-09-26 ARS     \n",
              "2  3        NA       Argentina 2019-09-26 ARS     \n",
              "3  1         2       Argentina 2019-09-26 ARS     \n",
              "4 NA        NA       Argentina 2019-09-26 ARS     \n",
              "5  1         1       Argentina 2019-09-26 ARS     \n",
              "6 NA        NA       Argentina 2019-09-26 ARS     \n",
              "  descriptio                                                                                                                                                                                                                                                    \n",
              "1 CODIGO: 1819-CRI180 ubicado en: Av. Callao 1800 -  Publicado por: TIXE NEGOCIOS INMOBILIARIOS. El precio es de ARS 18000 null. Impresionante ubicación. Recoleta. A. Callao y Av. Alvear. Espectacular ubicación junto al Paseo de la Recoleta, Av. Libertador\n",
              "2 Residencia de estudiantes y viajeros. Son dos propiedades dentro de edificio.<br><br>La propiedad cuenta con 10  habitaciones, algunas para compartir debido a su amplitud en superficie, y otras para uso individual. una de ellas cuentan con baño propio. t\n",
              "3 CODIGO: 1348-AF021227 ubicado en: Tacuari 263 -  Publicado por: BARRERA Y ASOCIADOS. El precio es de ARS 18500 null. 3 ambientes planta baja con patio, bajas expensas. Cocina y termotanque eléctricos, nuevos, se colocan antes del comienzo del contrato. N\n",
              "4 Departamento de dos ambientes a 200 metros de Av. Peron y Ruta 3.<br>La unidad se encuentra en segundo piso contrafrente por escalera y cuenta con todos los servicios, muebles de bajo mesada y alacena, cocina y estractor, baño completo con bañera y dormi\n",
              "5 CODIGO: 733-1600MARIANOA ubicado en: MARIANO ACHA 1600 -  Publicado por: ALICIA ROJAS NEGOCIOS INMOBILIARIOS. El precio es de ARS 18500 null. EXCELENTE DTO PLANTA BAJA CFTE DE 2 AMBIENTES 49 MTS TOTALES - AMPLIO, COMODO Y BUENA DISTRIBUCIÓN - DORMITORIO \n",
              "6 MONOAMBIENTE EN ALMAGRO<br>AMPLIO Y LUMINOSO<br>AMBIENTE CON PLACAR<br>COCINA INDEPENDIENTE<br>BAÑO CON VENTILACIÓN NATURAL                                                                                                                                   \n",
              "  developmen end_date   index l1        geometry                  ⋯ price\n",
              "1 NA         2019-10-10 0     Argentina POINT (106827.3 104558.6) ⋯ 18000\n",
              "2 NA         2019-11-04 1     Argentina POINT (106347.9 102524.7) ⋯ 45000\n",
              "3 NA         2019-09-28 2     Argentina POINT (107658.3 102034.1) ⋯ 18500\n",
              "4 NA         2020-02-12 4     Argentina POINT (91709.24 94331.75) ⋯ 11000\n",
              "5 NA         2019-11-10 5     Argentina POINT (99129.69 105739.1) ⋯ 18500\n",
              "6 NA         2019-10-02 6     Argentina POINT (103825.4 102026.2) ⋯  9000\n",
              "  price_peri rooms start_date surface_co surface_to\n",
              "1 Mensual    NA    2019-09-26  52         58       \n",
              "2 Mensual    NA    2019-09-26 219        219       \n",
              "3 Mensual    NA    2019-09-26  61         67       \n",
              "4 Mensual    NA    2019-09-26  38         38       \n",
              "5 Mensual    NA    2019-09-26  39         49       \n",
              "6 Mensual     1    2019-09-26  30         30       \n",
              "  title                                                                                        \n",
              "1 Recoleta. Av. Callao y Av. Alvear. Piso alto. 2 Amb. Balcón. Vistas                          \n",
              "2 Departamento - Balvanera                                                                     \n",
              "3 3 ambientes con patio 61 m2 propios bajas expensas                                           \n",
              "4 Departamento - San Justo                                                                     \n",
              "5 EXCELENTE DEPARTAMENTO 2 AMB CON PATIO 49 MTS - A 3 C/ SUBTE - MARIANO ACHA 1600 - V. URQUIZA\n",
              "6 Departamento - Almagro                                                                       \n",
              "  type         type_i18n    geometry                 \n",
              "1 Departamento Departamento POINT (106827.3 104558.6)\n",
              "2 Departamento Departamento POINT (106347.9 102524.7)\n",
              "3 Departamento Departamento POINT (107658.3 102034.1)\n",
              "4 Departamento Departamento POINT (91709.24 94331.75)\n",
              "5 Departamento Departamento POINT (99129.69 105739.1)\n",
              "6 Departamento Departamento POINT (103825.4 102026.2)"
            ]
          },
          "metadata": {}
        }
      ],
      "source": [
        "head(departamentos)\n"
      ]
    },
    {
      "cell_type": "raw",
      "metadata": {
        "vscode": {
          "languageId": "raw"
        },
        "id": "n9_yzsV0BHMU"
      },
      "source": [
        "## Descripcion rápida de los datos\n"
      ]
    },
    {
      "cell_type": "code",
      "execution_count": 7,
      "metadata": {
        "vscode": {
          "languageId": "r"
        },
        "colab": {
          "base_uri": "https://localhost:8080/",
          "height": 52
        },
        "id": "cxzSHRwQBHMU",
        "outputId": "c5ceea1c-2243-419d-a529-3463f2e79164"
      },
      "outputs": [
        {
          "output_type": "display_data",
          "data": {
            "text/html": [
              "<style>\n",
              ".list-inline {list-style: none; margin:0; padding: 0}\n",
              ".list-inline>li {display: inline-block}\n",
              ".list-inline>li:not(:last-child)::after {content: \"\\00b7\"; padding: 0 .5ex}\n",
              "</style>\n",
              "<ol class=list-inline><li>'bathrooms'</li><li>'bedrooms'</li><li>'country'</li><li>'created_on'</li><li>'currency'</li><li>'descriptio'</li><li>'developmen'</li><li>'end_date'</li><li>'index'</li><li>'l1'</li><li>'l2'</li><li>'l3'</li><li>'l4'</li><li>'l5'</li><li>'l6'</li><li>'lat'</li><li>'lon'</li><li>'operation'</li><li>'operation_'</li><li>'price'</li><li>'price_peri'</li><li>'rooms'</li><li>'start_date'</li><li>'surface_co'</li><li>'surface_to'</li><li>'title'</li><li>'type'</li><li>'type_i18n'</li><li>'geometry'</li></ol>\n"
            ],
            "text/markdown": "1. 'bathrooms'\n2. 'bedrooms'\n3. 'country'\n4. 'created_on'\n5. 'currency'\n6. 'descriptio'\n7. 'developmen'\n8. 'end_date'\n9. 'index'\n10. 'l1'\n11. 'l2'\n12. 'l3'\n13. 'l4'\n14. 'l5'\n15. 'l6'\n16. 'lat'\n17. 'lon'\n18. 'operation'\n19. 'operation_'\n20. 'price'\n21. 'price_peri'\n22. 'rooms'\n23. 'start_date'\n24. 'surface_co'\n25. 'surface_to'\n26. 'title'\n27. 'type'\n28. 'type_i18n'\n29. 'geometry'\n\n\n",
            "text/latex": "\\begin{enumerate*}\n\\item 'bathrooms'\n\\item 'bedrooms'\n\\item 'country'\n\\item 'created\\_on'\n\\item 'currency'\n\\item 'descriptio'\n\\item 'developmen'\n\\item 'end\\_date'\n\\item 'index'\n\\item 'l1'\n\\item 'l2'\n\\item 'l3'\n\\item 'l4'\n\\item 'l5'\n\\item 'l6'\n\\item 'lat'\n\\item 'lon'\n\\item 'operation'\n\\item 'operation\\_'\n\\item 'price'\n\\item 'price\\_peri'\n\\item 'rooms'\n\\item 'start\\_date'\n\\item 'surface\\_co'\n\\item 'surface\\_to'\n\\item 'title'\n\\item 'type'\n\\item 'type\\_i18n'\n\\item 'geometry'\n\\end{enumerate*}\n",
            "text/plain": [
              " [1] \"bathrooms\"  \"bedrooms\"   \"country\"    \"created_on\" \"currency\"  \n",
              " [6] \"descriptio\" \"developmen\" \"end_date\"   \"index\"      \"l1\"        \n",
              "[11] \"l2\"         \"l3\"         \"l4\"         \"l5\"         \"l6\"        \n",
              "[16] \"lat\"        \"lon\"        \"operation\"  \"operation_\" \"price\"     \n",
              "[21] \"price_peri\" \"rooms\"      \"start_date\" \"surface_co\" \"surface_to\"\n",
              "[26] \"title\"      \"type\"       \"type_i18n\"  \"geometry\"  "
            ]
          },
          "metadata": {}
        }
      ],
      "source": [
        "colnames(departamentos)\n"
      ]
    },
    {
      "cell_type": "code",
      "execution_count": 8,
      "metadata": {
        "vscode": {
          "languageId": "r"
        },
        "colab": {
          "base_uri": "https://localhost:8080/",
          "height": 34
        },
        "id": "kagHnNUOBHMU",
        "outputId": "e3777dcf-3e11-4b22-d83c-c4425b81b000"
      },
      "outputs": [
        {
          "output_type": "display_data",
          "data": {
            "text/html": [
              "<style>\n",
              ".list-inline {list-style: none; margin:0; padding: 0}\n",
              ".list-inline>li {display: inline-block}\n",
              ".list-inline>li:not(:last-child)::after {content: \"\\00b7\"; padding: 0 .5ex}\n",
              "</style>\n",
              "<ol class=list-inline><li>50653</li><li>29</li></ol>\n"
            ],
            "text/markdown": "1. 50653\n2. 29\n\n\n",
            "text/latex": "\\begin{enumerate*}\n\\item 50653\n\\item 29\n\\end{enumerate*}\n",
            "text/plain": [
              "[1] 50653    29"
            ]
          },
          "metadata": {}
        }
      ],
      "source": [
        "dim(departamentos)\n"
      ]
    },
    {
      "cell_type": "raw",
      "metadata": {
        "vscode": {
          "languageId": "raw"
        },
        "id": "mDtYSzCrBHMV"
      },
      "source": [
        "Puedo llamar a una columna en particular del dataframe si la escribo entre corchetes\n"
      ]
    },
    {
      "cell_type": "code",
      "execution_count": null,
      "metadata": {
        "vscode": {
          "languageId": "r"
        },
        "id": "tHv34bTxBHMV"
      },
      "outputs": [],
      "source": [
        "departamentos[['l2']]\n"
      ]
    },
    {
      "cell_type": "raw",
      "metadata": {
        "vscode": {
          "languageId": "raw"
        },
        "id": "LP_9smB6BHMV"
      },
      "source": [
        "En algunos casos funcionará que solo escriba $ y el nombre de la columna. (esto no sirve, por ejemplo si las columnas  tienen espacios en el nombre)\n"
      ]
    },
    {
      "cell_type": "code",
      "execution_count": null,
      "metadata": {
        "vscode": {
          "languageId": "r"
        },
        "id": "NbLeNLK9BHMV"
      },
      "outputs": [],
      "source": [
        "departamentos$l2\n"
      ]
    },
    {
      "cell_type": "raw",
      "metadata": {
        "vscode": {
          "languageId": "raw"
        },
        "id": "foOhEIFQBHMV"
      },
      "source": [
        "Luego puedo ver cuales son los valores unicos que toma la variable:\n"
      ]
    },
    {
      "cell_type": "code",
      "execution_count": null,
      "metadata": {
        "vscode": {
          "languageId": "r"
        },
        "id": "B4kYSZA3BHMV"
      },
      "outputs": [],
      "source": [
        "unique(departamentos$l2)\n"
      ]
    },
    {
      "cell_type": "code",
      "execution_count": null,
      "metadata": {
        "vscode": {
          "languageId": "r"
        },
        "id": "23WmFEgtBHMV"
      },
      "outputs": [],
      "source": [
        "sapply(departamentos, class)\n"
      ]
    },
    {
      "cell_type": "code",
      "execution_count": 9,
      "metadata": {
        "vscode": {
          "languageId": "r"
        },
        "colab": {
          "base_uri": "https://localhost:8080/",
          "height": 437
        },
        "id": "DWCMD-J1BHMV",
        "outputId": "87319521-88dd-48bf-aaf2-e9b1e91d41b5"
      },
      "outputs": [
        {
          "output_type": "display_data",
          "data": {
            "text/plain": [
              "plot without title"
            ],
            "image/png": "iVBORw0KGgoAAAANSUhEUgAAA0gAAANICAMAAADKOT/pAAADAFBMVEUAAAAAAAAAAAAAAAAA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\nAKTfb7N7RjOWPrGWAAAAAElFTkSuQmCC"
          },
          "metadata": {
            "image/png": {
              "width": 420,
              "height": 420
            }
          }
        }
      ],
      "source": [
        "plot(st_geometry(departamentos))\n"
      ]
    },
    {
      "cell_type": "code",
      "execution_count": null,
      "metadata": {
        "vscode": {
          "languageId": "r"
        },
        "id": "mGIkyn1qBHMW"
      },
      "outputs": [],
      "source": [
        "summary(departamentos$price)\n"
      ]
    },
    {
      "cell_type": "raw",
      "metadata": {
        "vscode": {
          "languageId": "raw"
        },
        "id": "r77QEIBnBHMW"
      },
      "source": [
        "## Estudiando un subconjunto de datos (filas del dataframe)\n",
        "\n",
        "Para \"filtrar\" el dataframe usamos dplyr::filter o base R con condiciones.\n",
        "\n",
        "Por ejemplo, si queremos departamentos mayores a $100000:\n",
        "departamentos_filtrados <- departamentos %>% filter(price > 100000)\n",
        "\n",
        "Para escribir una condicion recuerden que pueden utilizar los siguientes lógicos:\n",
        "\n",
        "```==    para chequear la  condicion \"equivale a\" o \"igual a\" va doble igual  ```\n",
        "\n",
        "```!= distinto a ```\n",
        "\n",
        "```> mayor a  ```\n",
        "\n",
        "```>= mayor o igual a ```\n",
        "\n",
        "```< menor a ```\n",
        "\n",
        "```<= menor o igual a ```\n",
        "\n",
        "En el caso de querer usar dos condiciones o más:\n",
        "\n",
        "```(esta condicion) & (esta condicion) ``` Se cumple esta condicion Y esta otra\n",
        "\n",
        "```(esta condicion) | (esta condicion) ``` Se cumple esta condicion O esta otra\n",
        "\n",
        "\n",
        "Recuerden que las condiciones tiene que ir  en parentesis!\n",
        "\n",
        "Vean los siguientes ejemplos:\n"
      ]
    },
    {
      "cell_type": "raw",
      "metadata": {
        "vscode": {
          "languageId": "raw"
        },
        "id": "WFPjjz0FBHMW"
      },
      "source": [
        "Filtrar los departamentos que estan en Capital Federal\n"
      ]
    },
    {
      "cell_type": "code",
      "execution_count": null,
      "metadata": {
        "vscode": {
          "languageId": "r"
        },
        "id": "mjN0BEiPBHMW"
      },
      "outputs": [],
      "source": [
        "departamentos %>% filter(l2 == \"Capital Federal\")\n"
      ]
    },
    {
      "cell_type": "raw",
      "metadata": {
        "vscode": {
          "languageId": "raw"
        },
        "id": "LvPVt3qBBHMW"
      },
      "source": [
        "Filtrar los departamentos que valen más de $100000 Y que además estan en capital federal\n"
      ]
    },
    {
      "cell_type": "code",
      "execution_count": null,
      "metadata": {
        "vscode": {
          "languageId": "r"
        },
        "id": "ZGJVWbYQBHMW"
      },
      "outputs": [],
      "source": [
        "departamentos %>% filter(price > 100000 & l2 == \"Capital Federal\")\n"
      ]
    },
    {
      "cell_type": "raw",
      "metadata": {
        "vscode": {
          "languageId": "raw"
        },
        "id": "ZER7_2p2BHMW"
      },
      "source": [
        "Es posible combinar los filtros con otros metodos para describir o graficar los datos en una sola linea de codigo. Para eso filtro primero y grafico o describo despues.\n"
      ]
    },
    {
      "cell_type": "code",
      "execution_count": null,
      "metadata": {
        "vscode": {
          "languageId": "r"
        },
        "id": "JHZYsFOwBHMX"
      },
      "outputs": [],
      "source": [
        "departamentos %>% filter(l2 == \"Capital Federal\") %>% pull(price) %>% summary()\n"
      ]
    },
    {
      "cell_type": "code",
      "execution_count": null,
      "metadata": {
        "vscode": {
          "languageId": "r"
        },
        "id": "_snLgoeJBHMX"
      },
      "outputs": [],
      "source": [
        "hist(departamentos$price)\n"
      ]
    },
    {
      "cell_type": "code",
      "execution_count": null,
      "metadata": {
        "vscode": {
          "languageId": "r"
        },
        "id": "YKby8FYQBHMX"
      },
      "outputs": [],
      "source": [
        "departamentos %>% filter(price < 30000) %>% pull(price) %>% hist()\n"
      ]
    },
    {
      "cell_type": "raw",
      "metadata": {
        "vscode": {
          "languageId": "raw"
        },
        "id": "eP5FN_0jBHMX"
      },
      "source": [
        "El método plot() en el objeto sf permite mapear los datos. Podrán reconocer el AMBA\n"
      ]
    },
    {
      "cell_type": "code",
      "execution_count": null,
      "metadata": {
        "vscode": {
          "languageId": "r"
        },
        "id": "VnVQVwSGBHMX"
      },
      "outputs": [],
      "source": [
        "plot(st_geometry(departamentos))\n"
      ]
    },
    {
      "cell_type": "code",
      "execution_count": null,
      "metadata": {
        "vscode": {
          "languageId": "r"
        },
        "id": "JhSe1yWSBHMX"
      },
      "outputs": [],
      "source": [
        "departamentos %>% filter(l2 == \"Capital Federal\") %>% st_geometry() %>% plot()\n"
      ]
    },
    {
      "cell_type": "code",
      "execution_count": null,
      "metadata": {
        "vscode": {
          "languageId": "r"
        },
        "id": "ERV1r3xIBHMX"
      },
      "outputs": [],
      "source": [
        "departamentos %>%\n",
        "  filter(l2 == \"Capital Federal\" & price < 80000) %>%\n",
        "  ggplot() +\n",
        "  geom_sf(aes(fill = price)) +\n",
        "  scale_fill_viridis_c() +\n",
        "  theme_void()\n"
      ]
    },
    {
      "cell_type": "raw",
      "metadata": {
        "vscode": {
          "languageId": "raw"
        },
        "id": "f9GEaIEDBHMa"
      },
      "source": [
        "# OLS\n"
      ]
    },
    {
      "cell_type": "raw",
      "metadata": {
        "vscode": {
          "languageId": "raw"
        },
        "id": "JjPas_I6BHMb"
      },
      "source": [
        "En R usamos la función lm() para estimar modelos de regresión lineal\n"
      ]
    },
    {
      "cell_type": "raw",
      "metadata": {
        "vscode": {
          "languageId": "raw"
        },
        "id": "X0rdvY5jBHMb"
      },
      "source": [
        "Nuestro modelo a explorar es el siguiente:\n"
      ]
    },
    {
      "cell_type": "raw",
      "metadata": {
        "vscode": {
          "languageId": "raw"
        },
        "id": "V43TzmW0BHMb"
      },
      "source": [
        "$price_i=\\beta_0+ \\beta_1*bedrooms_i+\\epsilon_i$\n"
      ]
    },
    {
      "cell_type": "code",
      "execution_count": null,
      "metadata": {
        "vscode": {
          "languageId": "r"
        },
        "id": "WIZTFhDcBHMb"
      },
      "outputs": [],
      "source": [
        "modelo <- lm(price ~ bedrooms, data = departamentos)\n"
      ]
    },
    {
      "cell_type": "code",
      "execution_count": null,
      "metadata": {
        "vscode": {
          "languageId": "r"
        },
        "id": "IqLFSIW3BHMb"
      },
      "outputs": [],
      "source": [
        "summary(modelo)\n"
      ]
    },
    {
      "cell_type": "raw",
      "metadata": {
        "vscode": {
          "languageId": "raw"
        },
        "id": "uAnpAtD_BHMb"
      },
      "source": [
        "Nuestro resultado es:\n",
        "precio= 11500+ 4253* bedrooms\n"
      ]
    },
    {
      "cell_type": "raw",
      "metadata": {
        "vscode": {
          "languageId": "raw"
        },
        "id": "OZ4ZKSBABHMb"
      },
      "source": [
        "## Graficando\n"
      ]
    },
    {
      "cell_type": "raw",
      "metadata": {
        "vscode": {
          "languageId": "raw"
        },
        "id": "ci3BrAhzBHMb"
      },
      "source": [
        "El dataframe tiene algunos metodos que permiten graficar directamente usando ggplot2\n"
      ]
    },
    {
      "cell_type": "code",
      "execution_count": null,
      "metadata": {
        "vscode": {
          "languageId": "r"
        },
        "id": "r7i41jB6BHMb"
      },
      "outputs": [],
      "source": [
        "departamentos <- departamentos %>% filter(!is.na(bedrooms) & !is.na(price))\n"
      ]
    },
    {
      "cell_type": "code",
      "execution_count": null,
      "metadata": {
        "vscode": {
          "languageId": "r"
        },
        "id": "0I3qQ68OBHMb"
      },
      "outputs": [],
      "source": [
        "ggplot(departamentos, aes(x = bedrooms, y = price)) +\n",
        "  geom_point() +\n",
        "  theme_minimal()\n"
      ]
    },
    {
      "cell_type": "raw",
      "metadata": {
        "vscode": {
          "languageId": "raw"
        },
        "id": "_ZRNPb5XBHMc"
      },
      "source": [
        "Scatter plot\n"
      ]
    },
    {
      "cell_type": "code",
      "execution_count": null,
      "metadata": {
        "vscode": {
          "languageId": "r"
        },
        "id": "FTHmnRjXBHMc"
      },
      "outputs": [],
      "source": [
        "departamentos %>%\n",
        "  filter(bedrooms > 0) %>%\n",
        "  ggplot(aes(x = bedrooms, y = price)) +\n",
        "  geom_point() +\n",
        "  theme_minimal()\n"
      ]
    },
    {
      "cell_type": "raw",
      "metadata": {
        "vscode": {
          "languageId": "raw"
        },
        "id": "9WXPtskOBHMc"
      },
      "source": [
        "Para hacer otros graficos más complejos vamos a usar ggplot2 con líneas de predicción\n"
      ]
    },
    {
      "cell_type": "code",
      "execution_count": null,
      "metadata": {
        "vscode": {
          "languageId": "r"
        },
        "id": "GUbh6ceVBHMc"
      },
      "outputs": [],
      "source": [
        "ypred <- predict(modelo, departamentos)\n",
        "\n",
        "ggplot(departamentos, aes(x = bedrooms, y = price)) +\n",
        "  geom_point(alpha = 0.5, color = \"blue\") +\n",
        "  geom_line(aes(y = ypred), color = \"red\", size = 1) +\n",
        "  labs(title = \"Datos vs Predicción OLS\",\n",
        "       x = \"Bedrooms\", y = \"Price\") +\n",
        "  theme_minimal()\n"
      ]
    },
    {
      "cell_type": "raw",
      "metadata": {
        "vscode": {
          "languageId": "raw"
        },
        "id": "ajfPBl30BHMc"
      },
      "source": [
        "# Ejemplo de ploteo con layers (capas)\n",
        "Vamos a utilizar la capa de límites de partidos y departamentos del IGN.\n",
        "Ver más aqui:\n",
        "https://datos.gob.ar/dataset/ign-unidades-territoriales\n"
      ]
    },
    {
      "cell_type": "code",
      "execution_count": null,
      "metadata": {
        "vscode": {
          "languageId": "r"
        },
        "id": "b2unpcixBHMc"
      },
      "outputs": [],
      "source": [
        "limites <- st_read(\"https://github.com/rpasquini/urban-econometrics/blob/master/data/ign_departamento.zip?raw=true\")\n",
        "# En caso de tener el zip en el espacio local: limites <- st_read(\"ign_departamento.zip\")\n"
      ]
    },
    {
      "cell_type": "code",
      "execution_count": null,
      "metadata": {
        "vscode": {
          "languageId": "r"
        },
        "id": "AiznnjDFBHMc"
      },
      "outputs": [],
      "source": [
        "ggplot() +\n",
        "  geom_sf(data = st_transform(limites, 4326), fill = \"lightblue\", alpha = 0.5) +\n",
        "  geom_sf(data = st_transform(departamentos, 4326), color = \"orange\", size = 0.1) +\n",
        "  coord_sf(xlim = c(-59, -58), ylim = c(-35, -34.1)) +\n",
        "  theme_void()\n"
      ]
    },
    {
      "cell_type": "code",
      "execution_count": null,
      "metadata": {
        "vscode": {
          "languageId": "r"
        },
        "id": "RtRdU9gHBHMc"
      },
      "outputs": [],
      "source": [
        "ggplot() +\n",
        "  geom_sf(data = st_transform(limites, 4326), fill = \"lightgray\", alpha = 0.5) +\n",
        "  geom_sf(data = departamentos %>%\n",
        "            filter(price < 80000) %>%\n",
        "            st_transform(4326),\n",
        "          aes(fill = price), size = 0.1) +\n",
        "  scale_fill_viridis_c() +\n",
        "  coord_sf(xlim = c(-59, -58), ylim = c(-35, -34.1)) +\n",
        "  theme_void() +\n",
        "  labs(title = \"Precios de departamentos menores a $80,000\")\n"
      ]
    }
  ],
  "metadata": {
    "language_info": {
      "name": "R"
    },
    "colab": {
      "provenance": []
    },
    "kernelspec": {
      "name": "ir",
      "display_name": "R"
    }
  },
  "nbformat": 4,
  "nbformat_minor": 0
}