{
  "cells": [
    {
      "cell_type": "markdown",
      "metadata": {
        "id": "ilMiJqJ_BHMP",
        "vscode": {
          "languageId": "raw"
        }
      },
      "source": [
        "<a href=\"https://colab.research.google.com/github/rpasquini/metodos_cuantitativos/blob/main/notebooks/R/1_Introduccion.ipynb\" target=\"_parent\"><img src=\"https://colab.research.google.com/assets/colab-badge.svg\" alt=\"Open In Colab\"/></a>\n"
      ]
    },
    {
      "cell_type": "markdown",
      "metadata": {
        "id": "tSnC3GgrBHMQ",
        "vscode": {
          "languageId": "raw"
        }
      },
      "source": [
        "Autor: Ricardo Pasquini 2025\n",
        "rpasquini@utdt.edu\n"
      ]
    },
    {
      "cell_type": "markdown",
      "metadata": {
        "id": "qOl2Gx3oBHMR",
        "vscode": {
          "languageId": "raw"
        }
      },
      "source": [
        "# Introducción\n",
        "En este notebook introduciremos algunas de las principales librerías con las que vamos a estar trabajando. Nuestro objetivo inicial es estimar un modelo de regresión simple utilizando datos de alquileres de 2019.\n"
      ]
    },
    {
      "cell_type": "markdown",
      "metadata": {
        "id": "M4z3I_0UBHMR",
        "vscode": {
          "languageId": "raw"
        }
      },
      "source": [
        "## Donde estamos\n",
        "\n",
        "Nuestro ambiente de trabajo ahora es un *notebook* que permite correr codigo, procesar datos, imprimir gráficos, etc. Estos notebooks en general se conocen como \"Jupyter notebooks\" y tienen como particularidad que el  entorno visual en el que trabajan vive en el navegador. En este momento además, el notebook con el que trabajan \"vive en la nube\" de Google Colaboratory. Utiliza recursos de la nube de Google para procesar los datos, etc. Para trabajar con nuestros propios datos tendremos que hacerlos accesibles a Google Colab (subiendo los datos al Colab o subiendo los datos a otro servidor al cual las librerias que usemos puedan acceder)\n",
        "\n",
        "Comentarios relacionados:\n",
        "\n",
        "- Como dijimos el notebook es solo un entorno visual. En este notebook vamos a trabajar con librerias de análisis cuantitativo construidas sobre el lenguaje Python. Los notebooks de Colab tambien pueden correr código de R.\n",
        "- Trabajar en la nube \"Colab\" es conveniente para una clase. También es posible (y a veces necesario) trabajar con un Jupyter Notebook instalado \"localmente\" en sus computadoras.\n",
        "\n",
        "- El ambiente virtual provisto por Google Colab va a borrar todo el contenido que se aloje en la memoria virtual después de un rato de inactividad. Lo unico que se mantiene es lo que está escrito en el notebook (el codigo y el texto explicativo). Esto implica que el notebook debe contener todo el codigo desde la carga de los datos hasta su resultado final para que pueda ser reproducido en cualquier momento.\n"
      ]
    },
    {
      "cell_type": "markdown",
      "metadata": {
        "id": "jnqSpqESBHMR",
        "vscode": {
          "languageId": "raw"
        }
      },
      "source": [
        "# Librerías con las que vamos a trabajar\n",
        "\n",
        "Vamos a arrancar con estas:\n",
        "\n",
        "- sf: Para trabajar y manipular datos espaciales en R (equivalente a geopandas en Python).\n",
        "- dplyr: Para manipulación de datos tabulares (equivalente a pandas).\n",
        "- ggplot2: Para gráficos.\n",
        "\n",
        "Al respecto del uso de librerías, además debemos tener en cuenta:\n",
        "\n",
        "- En general para usar las librerías tienen que estar *instaladas* y además *cargadas* al ambiente de trabajo en el que estemos.\n",
        "- Los Notebooks de R pueden requerir instalar paquetes usando install.packages().\n",
        "- Para cargar un paquete se usa library().\n"
      ]
    },
    {
      "cell_type": "markdown",
      "metadata": {
        "id": "esbd19e5BHMS",
        "vscode": {
          "languageId": "raw"
        }
      },
      "source": [
        "## Instalamos e importamos sf, dplyr y ggplot2\n"
      ]
    },
    {
      "cell_type": "code",
      "execution_count": null,
      "metadata": {
        "id": "S_DfEwhJuYuY",
        "vscode": {
          "languageId": "r"
        }
      },
      "outputs": [],
      "source": [
        "# Cuidado tarda mucho en instalar esta libreria (15 minutos)\n",
        "install.packages('sf')"
      ]
    },
    {
      "cell_type": "code",
      "execution_count": 4,
      "metadata": {
        "colab": {
          "base_uri": "https://localhost:8080/"
        },
        "id": "os-q_FcGuZWa",
        "outputId": "6c4197c5-2ba1-4328-91ec-0127fbc54085",
        "vscode": {
          "languageId": "r"
        }
      },
      "outputs": [
        {
          "name": "stderr",
          "output_type": "stream",
          "text": [
            "Linking to GEOS 3.12.1, GDAL 3.8.4, PROJ 9.3.1; sf_use_s2() is TRUE\n",
            "\n",
            "\n",
            "Attaching package: ‘dplyr’\n",
            "\n",
            "\n",
            "The following objects are masked from ‘package:stats’:\n",
            "\n",
            "    filter, lag\n",
            "\n",
            "\n",
            "The following objects are masked from ‘package:base’:\n",
            "\n",
            "    intersect, setdiff, setequal, union\n",
            "\n",
            "\n"
          ]
        }
      ],
      "source": [
        "library(sf)\n",
        "library(dplyr)\n",
        "library(ggplot2)"
      ]
    },
    {
      "cell_type": "markdown",
      "metadata": {
        "id": "zfaSt5v4BHMT",
        "vscode": {
          "languageId": "raw"
        }
      },
      "source": [
        "Ahora cargamos sf. Una vez cargada, la libreria en cuestion vive en el ambiente de trabajo. En R usamos library() para cargar paquetes.\n"
      ]
    },
    {
      "cell_type": "markdown",
      "metadata": {
        "id": "nhhkdzQNBHMT",
        "vscode": {
          "languageId": "raw"
        }
      },
      "source": [
        "La fuente de los datos es Properati [properati.com.ar/data/](https://properati.com.ar/data/).\n",
        "Fue descargada haciendo un pedido a su base de datos disponible en Google Big Query\n"
      ]
    },
    {
      "cell_type": "markdown",
      "metadata": {
        "id": "FfPNDAm2BHMT",
        "vscode": {
          "languageId": "raw"
        }
      },
      "source": [
        "El método st_read me permite levantar datos desde un archivo y convertirlos en un objeto **sf** (spatial features)\n"
      ]
    },
    {
      "cell_type": "code",
      "execution_count": 5,
      "metadata": {
        "colab": {
          "base_uri": "https://localhost:8080/"
        },
        "id": "5nK6qSx5t6BZ",
        "outputId": "b201ace3-7adc-44e8-dd97-6728998429e3",
        "vscode": {
          "languageId": "r"
        }
      },
      "outputs": [
        {
          "name": "stdout",
          "output_type": "stream",
          "text": [
            "Reading layer `departamentos2019amba' from data source \n",
            "  `/content/departamentos2019amba.shp' using driver `ESRI Shapefile'\n",
            "Simple feature collection with 50653 features and 28 fields\n",
            "Geometry type: POINT\n",
            "Dimension:     XY\n",
            "Bounding box:  xmin: 50978.57 ymin: 62684.22 xmax: 142256.9 ymax: 151715.8\n",
            "Projected CRS: Transverse_Mercator\n"
          ]
        }
      ],
      "source": [
        "# download the zip file locally\n",
        "download.file(\"https://github.com/rpasquini/urban-econometrics/blob/master/data/departamentos2019amba.zip?raw=true\",\n",
        "              destfile = \"departamentos2019amba.zip\", mode = \"wb\") # Use mode = \"wb\" for binary files\n",
        "# Unzip the downloaded file\n",
        "unzip(\"departamentos2019amba.zip\", exdir = \".\") # Extract to the current directory\n",
        "\n",
        "# Read the shapefile from the unzipped contents\n",
        "# Assuming the main shapefile is named 'departamentos2019amba.shp'\n",
        "departamentos <- st_read(\"departamentos2019amba.shp\")\n"
      ]
    },
    {
      "cell_type": "code",
      "execution_count": 6,
      "metadata": {
        "colab": {
          "base_uri": "https://localhost:8080/",
          "height": 1000
        },
        "id": "eivCfZIdBHMU",
        "outputId": "38bcdf9b-15b6-46cd-f5d2-955acd52ba7b",
        "vscode": {
          "languageId": "r"
        }
      },
      "outputs": [
        {
          "name": "stderr",
          "output_type": "stream",
          "text": [
            "ERROR while rich displaying an object: Error in loadNamespace(x): there is no package called ‘geojsonio’\n",
            "\n",
            "Traceback:\n",
            "1. sapply(x, f, simplify = simplify)\n",
            "2. lapply(X = X, FUN = FUN, ...)\n",
            "3. FUN(X[[i]], ...)\n",
            "4. tryCatch(withCallingHandlers({\n",
            " .     if (!mime %in% names(repr::mime2repr)) \n",
            " .         stop(\"No repr_* for mimetype \", mime, \" in repr::mime2repr\")\n",
            " .     rpr <- repr::mime2repr[[mime]](obj)\n",
            " .     if (is.null(rpr)) \n",
            " .         return(NULL)\n",
            " .     prepare_content(is.raw(rpr), rpr)\n",
            " . }, error = error_handler), error = outer_handler)\n",
            "5. tryCatchList(expr, classes, parentenv, handlers)\n",
            "6. tryCatchOne(expr, names, parentenv, handlers[[1L]])\n",
            "7. doTryCatch(return(expr), name, parentenv, handler)\n",
            "8. withCallingHandlers({\n",
            " .     if (!mime %in% names(repr::mime2repr)) \n",
            " .         stop(\"No repr_* for mimetype \", mime, \" in repr::mime2repr\")\n",
            " .     rpr <- repr::mime2repr[[mime]](obj)\n",
            " .     if (is.null(rpr)) \n",
            " .         return(NULL)\n",
            " .     prepare_content(is.raw(rpr), rpr)\n",
            " . }, error = error_handler)\n",
            "9. repr::mime2repr[[mime]](obj)\n",
            "10. repr_geojson.sf(obj)\n",
            "11. repr_geojson(geojsonio::geojson_list(obj), ...)\n",
            "12. loadNamespace(x)\n",
            "13. withRestarts(stop(cond), retry_loadNamespace = function() NULL)\n",
            "14. withOneRestart(expr, restarts[[1L]])\n",
            "15. doWithOneRestart(return(expr), restart)\n"
          ]
        },
        {
          "data": {
            "text/html": [
              "<table class=\"dataframe\">\n",
              "<caption>A sf: 6 × 29</caption>\n",
              "<thead>\n",
              "\t<tr><th></th><th scope=col>bathrooms</th><th scope=col>bedrooms</th><th scope=col>country</th><th scope=col>created_on</th><th scope=col>currency</th><th scope=col>descriptio</th><th scope=col>developmen</th><th scope=col>end_date</th><th scope=col>index</th><th scope=col>l1</th><th scope=col>geometry</th><th scope=col>⋯</th><th scope=col>price</th><th scope=col>price_peri</th><th scope=col>rooms</th><th scope=col>start_date</th><th scope=col>surface_co</th><th scope=col>surface_to</th><th scope=col>title</th><th scope=col>type</th><th scope=col>type_i18n</th><th scope=col>geometry</th></tr>\n",
              "\t<tr><th></th><th scope=col>&lt;dbl&gt;</th><th scope=col>&lt;dbl&gt;</th><th scope=col>&lt;chr&gt;</th><th scope=col>&lt;chr&gt;</th><th scope=col>&lt;chr&gt;</th><th scope=col>&lt;chr&gt;</th><th scope=col>&lt;chr&gt;</th><th scope=col>&lt;chr&gt;</th><th scope=col>&lt;dbl&gt;</th><th scope=col>&lt;chr&gt;</th><th scope=col>⋯</th><th scope=col>&lt;dbl&gt;</th><th scope=col>&lt;chr&gt;</th><th scope=col>&lt;dbl&gt;</th><th scope=col>&lt;chr&gt;</th><th scope=col>&lt;dbl&gt;</th><th scope=col>&lt;dbl&gt;</th><th scope=col>&lt;chr&gt;</th><th scope=col>&lt;chr&gt;</th><th scope=col>&lt;chr&gt;</th><th scope=col>&lt;POINT [m]&gt;</th></tr>\n",
              "</thead>\n",
              "<tbody>\n",
              "\t<tr><th scope=row>1</th><td> 1</td><td> 1</td><td>Argentina</td><td>2019-09-26</td><td>ARS</td><td>CODIGO: 1819-CRI180 ubicado en: Av. Callao 1800 -  Publicado por: TIXE NEGOCIOS INMOBILIARIOS. El precio es de ARS 18000 null. Impresionante ubicación. Recoleta. A. Callao y Av. Alvear. Espectacular ubicación junto al Paseo de la Recoleta, Av. Libertador</td><td>NA</td><td>2019-10-10</td><td>0</td><td>Argentina</td><td>POINT (106827.3 104558.6)</td><td>⋯</td><td>18000</td><td>Mensual</td><td>NA</td><td>2019-09-26</td><td> 52</td><td> 58</td><td>Recoleta. Av. Callao y Av. Alvear. Piso alto. 2 Amb. Balcón. Vistas                          </td><td>Departamento</td><td>Departamento</td><td>POINT (106827.3 104558.6)</td></tr>\n",
              "\t<tr><th scope=row>2</th><td> 3</td><td>NA</td><td>Argentina</td><td>2019-09-26</td><td>ARS</td><td><span style=white-space:pre-wrap>Residencia de estudiantes y viajeros. Son dos propiedades dentro de edificio.&lt;br&gt;&lt;br&gt;La propiedad cuenta con 10  habitaciones, algunas para compartir debido a su amplitud en superficie, y otras para uso individual. una de ellas cuentan con baño propio. t</span></td><td>NA</td><td>2019-11-04</td><td>1</td><td>Argentina</td><td>POINT (106347.9 102524.7)</td><td>⋯</td><td>45000</td><td>Mensual</td><td>NA</td><td>2019-09-26</td><td>219</td><td>219</td><td><span style=white-space:pre-wrap>Departamento - Balvanera                                                                     </span></td><td>Departamento</td><td>Departamento</td><td>POINT (106347.9 102524.7)</td></tr>\n",
              "\t<tr><th scope=row>3</th><td> 1</td><td> 2</td><td>Argentina</td><td>2019-09-26</td><td>ARS</td><td>CODIGO: 1348-AF021227 ubicado en: Tacuari 263 -  Publicado por: BARRERA Y ASOCIADOS. El precio es de ARS 18500 null. 3 ambientes planta baja con patio, bajas expensas. Cocina y termotanque eléctricos, nuevos, se colocan antes del comienzo del contrato. N</td><td>NA</td><td>2019-09-28</td><td>2</td><td>Argentina</td><td>POINT (107658.3 102034.1)</td><td>⋯</td><td>18500</td><td>Mensual</td><td>NA</td><td>2019-09-26</td><td> 61</td><td> 67</td><td>3 ambientes con patio 61 m2 propios bajas expensas                                           </td><td>Departamento</td><td>Departamento</td><td>POINT (107658.3 102034.1)</td></tr>\n",
              "\t<tr><th scope=row>4</th><td>NA</td><td>NA</td><td>Argentina</td><td>2019-09-26</td><td>ARS</td><td>Departamento de dos ambientes a 200 metros de Av. Peron y Ruta 3.&lt;br&gt;La unidad se encuentra en segundo piso contrafrente por escalera y cuenta con todos los servicios, muebles de bajo mesada y alacena, cocina y estractor, baño completo con bañera y dormi</td><td>NA</td><td>2020-02-12</td><td>4</td><td>Argentina</td><td>POINT (91709.24 94331.75)</td><td>⋯</td><td>11000</td><td>Mensual</td><td>NA</td><td>2019-09-26</td><td> 38</td><td> 38</td><td><span style=white-space:pre-wrap>Departamento - San Justo                                                                     </span></td><td>Departamento</td><td>Departamento</td><td>POINT (91709.24 94331.75)</td></tr>\n",
              "\t<tr><th scope=row>5</th><td> 1</td><td> 1</td><td>Argentina</td><td>2019-09-26</td><td>ARS</td><td>CODIGO: 733-1600MARIANOA ubicado en: MARIANO ACHA 1600 -  Publicado por: ALICIA ROJAS NEGOCIOS INMOBILIARIOS. El precio es de ARS 18500 null. EXCELENTE DTO PLANTA BAJA CFTE DE 2 AMBIENTES 49 MTS TOTALES - AMPLIO, COMODO Y BUENA DISTRIBUCIÓN - DORMITORIO </td><td>NA</td><td>2019-11-10</td><td>5</td><td>Argentina</td><td>POINT (99129.69 105739.1)</td><td>⋯</td><td>18500</td><td>Mensual</td><td>NA</td><td>2019-09-26</td><td> 39</td><td> 49</td><td>EXCELENTE DEPARTAMENTO 2 AMB CON PATIO 49 MTS - A 3 C/ SUBTE - MARIANO ACHA 1600 - V. URQUIZA</td><td>Departamento</td><td>Departamento</td><td>POINT (99129.69 105739.1)</td></tr>\n",
              "\t<tr><th scope=row>6</th><td>NA</td><td>NA</td><td>Argentina</td><td>2019-09-26</td><td>ARS</td><td><span style=white-space:pre-wrap>MONOAMBIENTE EN ALMAGRO&lt;br&gt;AMPLIO Y LUMINOSO&lt;br&gt;AMBIENTE CON PLACAR&lt;br&gt;COCINA INDEPENDIENTE&lt;br&gt;BAÑO CON VENTILACIÓN NATURAL                                                                                                                                   </span></td><td>NA</td><td>2019-10-02</td><td>6</td><td>Argentina</td><td>POINT (103825.4 102026.2)</td><td>⋯</td><td> 9000</td><td>Mensual</td><td> 1</td><td>2019-09-26</td><td> 30</td><td> 30</td><td><span style=white-space:pre-wrap>Departamento - Almagro                                                                       </span></td><td>Departamento</td><td>Departamento</td><td>POINT (103825.4 102026.2)</td></tr>\n",
              "</tbody>\n",
              "</table>\n"
            ],
            "text/latex": [
              "A sf: 6 × 29\n",
              "\\begin{tabular}{r|lllllllllllllllllllll}\n",
              "  & bathrooms & bedrooms & country & created\\_on & currency & descriptio & developmen & end\\_date & index & l1 & geometry & ⋯ & price & price\\_peri & rooms & start\\_date & surface\\_co & surface\\_to & title & type & type\\_i18n & geometry\\\\\n",
              "  & <dbl> & <dbl> & <chr> & <chr> & <chr> & <chr> & <chr> & <chr> & <dbl> & <chr> & ⋯ & <dbl> & <chr> & <dbl> & <chr> & <dbl> & <dbl> & <chr> & <chr> & <chr> & <POINT {[}m{]}>\\\\\n",
              "\\hline\n",
              "\t1 &  1 &  1 & Argentina & 2019-09-26 & ARS & CODIGO: 1819-CRI180 ubicado en: Av. Callao 1800 -  Publicado por: TIXE NEGOCIOS INMOBILIARIOS. El precio es de ARS 18000 null. Impresionante ubicación. Recoleta. A. Callao y Av. Alvear. Espectacular ubicación junto al Paseo de la Recoleta, Av. Libertador & NA & 2019-10-10 & 0 & Argentina & POINT (106827.3 104558.6) & ⋯ & 18000 & Mensual & NA & 2019-09-26 &  52 &  58 & Recoleta. Av. Callao y Av. Alvear. Piso alto. 2 Amb. Balcón. Vistas                           & Departamento & Departamento & POINT (106827.3 104558.6)\\\\\n",
              "\t2 &  3 & NA & Argentina & 2019-09-26 & ARS & Residencia de estudiantes y viajeros. Son dos propiedades dentro de edificio.<br><br>La propiedad cuenta con 10  habitaciones, algunas para compartir debido a su amplitud en superficie, y otras para uso individual. una de ellas cuentan con baño propio. t & NA & 2019-11-04 & 1 & Argentina & POINT (106347.9 102524.7) & ⋯ & 45000 & Mensual & NA & 2019-09-26 & 219 & 219 & Departamento - Balvanera                                                                      & Departamento & Departamento & POINT (106347.9 102524.7)\\\\\n",
              "\t3 &  1 &  2 & Argentina & 2019-09-26 & ARS & CODIGO: 1348-AF021227 ubicado en: Tacuari 263 -  Publicado por: BARRERA Y ASOCIADOS. El precio es de ARS 18500 null. 3 ambientes planta baja con patio, bajas expensas. Cocina y termotanque eléctricos, nuevos, se colocan antes del comienzo del contrato. N & NA & 2019-09-28 & 2 & Argentina & POINT (107658.3 102034.1) & ⋯ & 18500 & Mensual & NA & 2019-09-26 &  61 &  67 & 3 ambientes con patio 61 m2 propios bajas expensas                                            & Departamento & Departamento & POINT (107658.3 102034.1)\\\\\n",
              "\t4 & NA & NA & Argentina & 2019-09-26 & ARS & Departamento de dos ambientes a 200 metros de Av. Peron y Ruta 3.<br>La unidad se encuentra en segundo piso contrafrente por escalera y cuenta con todos los servicios, muebles de bajo mesada y alacena, cocina y estractor, baño completo con bañera y dormi & NA & 2020-02-12 & 4 & Argentina & POINT (91709.24 94331.75) & ⋯ & 11000 & Mensual & NA & 2019-09-26 &  38 &  38 & Departamento - San Justo                                                                      & Departamento & Departamento & POINT (91709.24 94331.75)\\\\\n",
              "\t5 &  1 &  1 & Argentina & 2019-09-26 & ARS & CODIGO: 733-1600MARIANOA ubicado en: MARIANO ACHA 1600 -  Publicado por: ALICIA ROJAS NEGOCIOS INMOBILIARIOS. El precio es de ARS 18500 null. EXCELENTE DTO PLANTA BAJA CFTE DE 2 AMBIENTES 49 MTS TOTALES - AMPLIO, COMODO Y BUENA DISTRIBUCIÓN - DORMITORIO  & NA & 2019-11-10 & 5 & Argentina & POINT (99129.69 105739.1) & ⋯ & 18500 & Mensual & NA & 2019-09-26 &  39 &  49 & EXCELENTE DEPARTAMENTO 2 AMB CON PATIO 49 MTS - A 3 C/ SUBTE - MARIANO ACHA 1600 - V. URQUIZA & Departamento & Departamento & POINT (99129.69 105739.1)\\\\\n",
              "\t6 & NA & NA & Argentina & 2019-09-26 & ARS & MONOAMBIENTE EN ALMAGRO<br>AMPLIO Y LUMINOSO<br>AMBIENTE CON PLACAR<br>COCINA INDEPENDIENTE<br>BAÑO CON VENTILACIÓN NATURAL                                                                                                                                    & NA & 2019-10-02 & 6 & Argentina & POINT (103825.4 102026.2) & ⋯ &  9000 & Mensual &  1 & 2019-09-26 &  30 &  30 & Departamento - Almagro                                                                        & Departamento & Departamento & POINT (103825.4 102026.2)\\\\\n",
              "\\end{tabular}\n"
            ],
            "text/markdown": [
              "\n",
              "A sf: 6 × 29\n",
              "\n",
              "| <!--/--> | bathrooms &lt;dbl&gt; | bedrooms &lt;dbl&gt; | country &lt;chr&gt; | created_on &lt;chr&gt; | currency &lt;chr&gt; | descriptio &lt;chr&gt; | developmen &lt;chr&gt; | end_date &lt;chr&gt; | index &lt;dbl&gt; | l1 &lt;chr&gt; | geometry ⋯ | ⋯ &lt;dbl&gt; | price &lt;chr&gt; | price_peri &lt;dbl&gt; | rooms &lt;chr&gt; | start_date &lt;dbl&gt; | surface_co &lt;dbl&gt; | surface_to &lt;chr&gt; | title &lt;chr&gt; | type &lt;chr&gt; | type_i18n &lt;POINT [m]&gt; | geometry &lt;dbl&gt; |\n",
              "|---|---|---|---|---|---|---|---|---|---|---|---|---|---|---|---|---|---|---|---|---|---|\n",
              "| 1 |  1 |  1 | Argentina | 2019-09-26 | ARS | CODIGO: 1819-CRI180 ubicado en: Av. Callao 1800 -  Publicado por: TIXE NEGOCIOS INMOBILIARIOS. El precio es de ARS 18000 null. Impresionante ubicación. Recoleta. A. Callao y Av. Alvear. Espectacular ubicación junto al Paseo de la Recoleta, Av. Libertador | NA | 2019-10-10 | 0 | Argentina | POINT (106827.3 104558.6) | ⋯ | 18000 | Mensual | NA | 2019-09-26 |  52 |  58 | Recoleta. Av. Callao y Av. Alvear. Piso alto. 2 Amb. Balcón. Vistas                           | Departamento | Departamento | POINT (106827.3 104558.6) |\n",
              "| 2 |  3 | NA | Argentina | 2019-09-26 | ARS | Residencia de estudiantes y viajeros. Son dos propiedades dentro de edificio.&lt;br&gt;&lt;br&gt;La propiedad cuenta con 10  habitaciones, algunas para compartir debido a su amplitud en superficie, y otras para uso individual. una de ellas cuentan con baño propio. t | NA | 2019-11-04 | 1 | Argentina | POINT (106347.9 102524.7) | ⋯ | 45000 | Mensual | NA | 2019-09-26 | 219 | 219 | Departamento - Balvanera                                                                      | Departamento | Departamento | POINT (106347.9 102524.7) |\n",
              "| 3 |  1 |  2 | Argentina | 2019-09-26 | ARS | CODIGO: 1348-AF021227 ubicado en: Tacuari 263 -  Publicado por: BARRERA Y ASOCIADOS. El precio es de ARS 18500 null. 3 ambientes planta baja con patio, bajas expensas. Cocina y termotanque eléctricos, nuevos, se colocan antes del comienzo del contrato. N | NA | 2019-09-28 | 2 | Argentina | POINT (107658.3 102034.1) | ⋯ | 18500 | Mensual | NA | 2019-09-26 |  61 |  67 | 3 ambientes con patio 61 m2 propios bajas expensas                                            | Departamento | Departamento | POINT (107658.3 102034.1) |\n",
              "| 4 | NA | NA | Argentina | 2019-09-26 | ARS | Departamento de dos ambientes a 200 metros de Av. Peron y Ruta 3.&lt;br&gt;La unidad se encuentra en segundo piso contrafrente por escalera y cuenta con todos los servicios, muebles de bajo mesada y alacena, cocina y estractor, baño completo con bañera y dormi | NA | 2020-02-12 | 4 | Argentina | POINT (91709.24 94331.75) | ⋯ | 11000 | Mensual | NA | 2019-09-26 |  38 |  38 | Departamento - San Justo                                                                      | Departamento | Departamento | POINT (91709.24 94331.75) |\n",
              "| 5 |  1 |  1 | Argentina | 2019-09-26 | ARS | CODIGO: 733-1600MARIANOA ubicado en: MARIANO ACHA 1600 -  Publicado por: ALICIA ROJAS NEGOCIOS INMOBILIARIOS. El precio es de ARS 18500 null. EXCELENTE DTO PLANTA BAJA CFTE DE 2 AMBIENTES 49 MTS TOTALES - AMPLIO, COMODO Y BUENA DISTRIBUCIÓN - DORMITORIO  | NA | 2019-11-10 | 5 | Argentina | POINT (99129.69 105739.1) | ⋯ | 18500 | Mensual | NA | 2019-09-26 |  39 |  49 | EXCELENTE DEPARTAMENTO 2 AMB CON PATIO 49 MTS - A 3 C/ SUBTE - MARIANO ACHA 1600 - V. URQUIZA | Departamento | Departamento | POINT (99129.69 105739.1) |\n",
              "| 6 | NA | NA | Argentina | 2019-09-26 | ARS | MONOAMBIENTE EN ALMAGRO&lt;br&gt;AMPLIO Y LUMINOSO&lt;br&gt;AMBIENTE CON PLACAR&lt;br&gt;COCINA INDEPENDIENTE&lt;br&gt;BAÑO CON VENTILACIÓN NATURAL                                                                                                                                    | NA | 2019-10-02 | 6 | Argentina | POINT (103825.4 102026.2) | ⋯ |  9000 | Mensual |  1 | 2019-09-26 |  30 |  30 | Departamento - Almagro                                                                        | Departamento | Departamento | POINT (103825.4 102026.2) |\n",
              "\n"
            ],
            "text/plain": [
              "  bathrooms bedrooms country   created_on currency\n",
              "1  1         1       Argentina 2019-09-26 ARS     \n",
              "2  3        NA       Argentina 2019-09-26 ARS     \n",
              "3  1         2       Argentina 2019-09-26 ARS     \n",
              "4 NA        NA       Argentina 2019-09-26 ARS     \n",
              "5  1         1       Argentina 2019-09-26 ARS     \n",
              "6 NA        NA       Argentina 2019-09-26 ARS     \n",
              "  descriptio                                                                                                                                                                                                                                                    \n",
              "1 CODIGO: 1819-CRI180 ubicado en: Av. Callao 1800 -  Publicado por: TIXE NEGOCIOS INMOBILIARIOS. El precio es de ARS 18000 null. Impresionante ubicación. Recoleta. A. Callao y Av. Alvear. Espectacular ubicación junto al Paseo de la Recoleta, Av. Libertador\n",
              "2 Residencia de estudiantes y viajeros. Son dos propiedades dentro de edificio.<br><br>La propiedad cuenta con 10  habitaciones, algunas para compartir debido a su amplitud en superficie, y otras para uso individual. una de ellas cuentan con baño propio. t\n",
              "3 CODIGO: 1348-AF021227 ubicado en: Tacuari 263 -  Publicado por: BARRERA Y ASOCIADOS. El precio es de ARS 18500 null. 3 ambientes planta baja con patio, bajas expensas. Cocina y termotanque eléctricos, nuevos, se colocan antes del comienzo del contrato. N\n",
              "4 Departamento de dos ambientes a 200 metros de Av. Peron y Ruta 3.<br>La unidad se encuentra en segundo piso contrafrente por escalera y cuenta con todos los servicios, muebles de bajo mesada y alacena, cocina y estractor, baño completo con bañera y dormi\n",
              "5 CODIGO: 733-1600MARIANOA ubicado en: MARIANO ACHA 1600 -  Publicado por: ALICIA ROJAS NEGOCIOS INMOBILIARIOS. El precio es de ARS 18500 null. EXCELENTE DTO PLANTA BAJA CFTE DE 2 AMBIENTES 49 MTS TOTALES - AMPLIO, COMODO Y BUENA DISTRIBUCIÓN - DORMITORIO \n",
              "6 MONOAMBIENTE EN ALMAGRO<br>AMPLIO Y LUMINOSO<br>AMBIENTE CON PLACAR<br>COCINA INDEPENDIENTE<br>BAÑO CON VENTILACIÓN NATURAL                                                                                                                                   \n",
              "  developmen end_date   index l1        geometry                  ⋯ price\n",
              "1 NA         2019-10-10 0     Argentina POINT (106827.3 104558.6) ⋯ 18000\n",
              "2 NA         2019-11-04 1     Argentina POINT (106347.9 102524.7) ⋯ 45000\n",
              "3 NA         2019-09-28 2     Argentina POINT (107658.3 102034.1) ⋯ 18500\n",
              "4 NA         2020-02-12 4     Argentina POINT (91709.24 94331.75) ⋯ 11000\n",
              "5 NA         2019-11-10 5     Argentina POINT (99129.69 105739.1) ⋯ 18500\n",
              "6 NA         2019-10-02 6     Argentina POINT (103825.4 102026.2) ⋯  9000\n",
              "  price_peri rooms start_date surface_co surface_to\n",
              "1 Mensual    NA    2019-09-26  52         58       \n",
              "2 Mensual    NA    2019-09-26 219        219       \n",
              "3 Mensual    NA    2019-09-26  61         67       \n",
              "4 Mensual    NA    2019-09-26  38         38       \n",
              "5 Mensual    NA    2019-09-26  39         49       \n",
              "6 Mensual     1    2019-09-26  30         30       \n",
              "  title                                                                                        \n",
              "1 Recoleta. Av. Callao y Av. Alvear. Piso alto. 2 Amb. Balcón. Vistas                          \n",
              "2 Departamento - Balvanera                                                                     \n",
              "3 3 ambientes con patio 61 m2 propios bajas expensas                                           \n",
              "4 Departamento - San Justo                                                                     \n",
              "5 EXCELENTE DEPARTAMENTO 2 AMB CON PATIO 49 MTS - A 3 C/ SUBTE - MARIANO ACHA 1600 - V. URQUIZA\n",
              "6 Departamento - Almagro                                                                       \n",
              "  type         type_i18n    geometry                 \n",
              "1 Departamento Departamento POINT (106827.3 104558.6)\n",
              "2 Departamento Departamento POINT (106347.9 102524.7)\n",
              "3 Departamento Departamento POINT (107658.3 102034.1)\n",
              "4 Departamento Departamento POINT (91709.24 94331.75)\n",
              "5 Departamento Departamento POINT (99129.69 105739.1)\n",
              "6 Departamento Departamento POINT (103825.4 102026.2)"
            ]
          },
          "metadata": {},
          "output_type": "display_data"
        }
      ],
      "source": [
        "head(departamentos)\n"
      ]
    },
    {
      "cell_type": "markdown",
      "metadata": {
        "id": "n9_yzsV0BHMU",
        "vscode": {
          "languageId": "raw"
        }
      },
      "source": [
        "## Descripcion rápida de los datos\n"
      ]
    },
    {
      "cell_type": "code",
      "execution_count": 7,
      "metadata": {
        "colab": {
          "base_uri": "https://localhost:8080/",
          "height": 52
        },
        "id": "cxzSHRwQBHMU",
        "outputId": "c5ceea1c-2243-419d-a529-3463f2e79164",
        "vscode": {
          "languageId": "r"
        }
      },
      "outputs": [
        {
          "data": {
            "text/html": [
              "<style>\n",
              ".list-inline {list-style: none; margin:0; padding: 0}\n",
              ".list-inline>li {display: inline-block}\n",
              ".list-inline>li:not(:last-child)::after {content: \"\\00b7\"; padding: 0 .5ex}\n",
              "</style>\n",
              "<ol class=list-inline><li>'bathrooms'</li><li>'bedrooms'</li><li>'country'</li><li>'created_on'</li><li>'currency'</li><li>'descriptio'</li><li>'developmen'</li><li>'end_date'</li><li>'index'</li><li>'l1'</li><li>'l2'</li><li>'l3'</li><li>'l4'</li><li>'l5'</li><li>'l6'</li><li>'lat'</li><li>'lon'</li><li>'operation'</li><li>'operation_'</li><li>'price'</li><li>'price_peri'</li><li>'rooms'</li><li>'start_date'</li><li>'surface_co'</li><li>'surface_to'</li><li>'title'</li><li>'type'</li><li>'type_i18n'</li><li>'geometry'</li></ol>\n"
            ],
            "text/latex": [
              "\\begin{enumerate*}\n",
              "\\item 'bathrooms'\n",
              "\\item 'bedrooms'\n",
              "\\item 'country'\n",
              "\\item 'created\\_on'\n",
              "\\item 'currency'\n",
              "\\item 'descriptio'\n",
              "\\item 'developmen'\n",
              "\\item 'end\\_date'\n",
              "\\item 'index'\n",
              "\\item 'l1'\n",
              "\\item 'l2'\n",
              "\\item 'l3'\n",
              "\\item 'l4'\n",
              "\\item 'l5'\n",
              "\\item 'l6'\n",
              "\\item 'lat'\n",
              "\\item 'lon'\n",
              "\\item 'operation'\n",
              "\\item 'operation\\_'\n",
              "\\item 'price'\n",
              "\\item 'price\\_peri'\n",
              "\\item 'rooms'\n",
              "\\item 'start\\_date'\n",
              "\\item 'surface\\_co'\n",
              "\\item 'surface\\_to'\n",
              "\\item 'title'\n",
              "\\item 'type'\n",
              "\\item 'type\\_i18n'\n",
              "\\item 'geometry'\n",
              "\\end{enumerate*}\n"
            ],
            "text/markdown": [
              "1. 'bathrooms'\n",
              "2. 'bedrooms'\n",
              "3. 'country'\n",
              "4. 'created_on'\n",
              "5. 'currency'\n",
              "6. 'descriptio'\n",
              "7. 'developmen'\n",
              "8. 'end_date'\n",
              "9. 'index'\n",
              "10. 'l1'\n",
              "11. 'l2'\n",
              "12. 'l3'\n",
              "13. 'l4'\n",
              "14. 'l5'\n",
              "15. 'l6'\n",
              "16. 'lat'\n",
              "17. 'lon'\n",
              "18. 'operation'\n",
              "19. 'operation_'\n",
              "20. 'price'\n",
              "21. 'price_peri'\n",
              "22. 'rooms'\n",
              "23. 'start_date'\n",
              "24. 'surface_co'\n",
              "25. 'surface_to'\n",
              "26. 'title'\n",
              "27. 'type'\n",
              "28. 'type_i18n'\n",
              "29. 'geometry'\n",
              "\n",
              "\n"
            ],
            "text/plain": [
              " [1] \"bathrooms\"  \"bedrooms\"   \"country\"    \"created_on\" \"currency\"  \n",
              " [6] \"descriptio\" \"developmen\" \"end_date\"   \"index\"      \"l1\"        \n",
              "[11] \"l2\"         \"l3\"         \"l4\"         \"l5\"         \"l6\"        \n",
              "[16] \"lat\"        \"lon\"        \"operation\"  \"operation_\" \"price\"     \n",
              "[21] \"price_peri\" \"rooms\"      \"start_date\" \"surface_co\" \"surface_to\"\n",
              "[26] \"title\"      \"type\"       \"type_i18n\"  \"geometry\"  "
            ]
          },
          "metadata": {},
          "output_type": "display_data"
        }
      ],
      "source": [
        "colnames(departamentos)\n"
      ]
    },
    {
      "cell_type": "code",
      "execution_count": 8,
      "metadata": {
        "colab": {
          "base_uri": "https://localhost:8080/",
          "height": 34
        },
        "id": "kagHnNUOBHMU",
        "outputId": "e3777dcf-3e11-4b22-d83c-c4425b81b000",
        "vscode": {
          "languageId": "r"
        }
      },
      "outputs": [
        {
          "data": {
            "text/html": [
              "<style>\n",
              ".list-inline {list-style: none; margin:0; padding: 0}\n",
              ".list-inline>li {display: inline-block}\n",
              ".list-inline>li:not(:last-child)::after {content: \"\\00b7\"; padding: 0 .5ex}\n",
              "</style>\n",
              "<ol class=list-inline><li>50653</li><li>29</li></ol>\n"
            ],
            "text/latex": [
              "\\begin{enumerate*}\n",
              "\\item 50653\n",
              "\\item 29\n",
              "\\end{enumerate*}\n"
            ],
            "text/markdown": [
              "1. 50653\n",
              "2. 29\n",
              "\n",
              "\n"
            ],
            "text/plain": [
              "[1] 50653    29"
            ]
          },
          "metadata": {},
          "output_type": "display_data"
        }
      ],
      "source": [
        "dim(departamentos)\n"
      ]
    },
    {
      "cell_type": "markdown",
      "metadata": {
        "id": "mDtYSzCrBHMV",
        "vscode": {
          "languageId": "raw"
        }
      },
      "source": [
        "Puedo llamar a una columna en particular del dataframe si la escribo entre corchetes\n"
      ]
    },
    {
      "cell_type": "code",
      "execution_count": null,
      "metadata": {
        "id": "tHv34bTxBHMV",
        "vscode": {
          "languageId": "r"
        }
      },
      "outputs": [],
      "source": [
        "departamentos[['l2']]\n"
      ]
    },
    {
      "cell_type": "markdown",
      "metadata": {
        "id": "LP_9smB6BHMV",
        "vscode": {
          "languageId": "raw"
        }
      },
      "source": [
        "En algunos casos funcionará que solo escriba $ y el nombre de la columna. (esto no sirve, por ejemplo si las columnas  tienen espacios en el nombre)\n"
      ]
    },
    {
      "cell_type": "code",
      "execution_count": null,
      "metadata": {
        "id": "NbLeNLK9BHMV",
        "vscode": {
          "languageId": "r"
        }
      },
      "outputs": [],
      "source": [
        "departamentos$l2\n"
      ]
    },
    {
      "cell_type": "markdown",
      "metadata": {
        "id": "foOhEIFQBHMV",
        "vscode": {
          "languageId": "raw"
        }
      },
      "source": [
        "Luego puedo ver cuales son los valores unicos que toma la variable:\n"
      ]
    },
    {
      "cell_type": "code",
      "execution_count": null,
      "metadata": {
        "id": "B4kYSZA3BHMV",
        "vscode": {
          "languageId": "r"
        }
      },
      "outputs": [],
      "source": [
        "unique(departamentos$l2)\n"
      ]
    },
    {
      "cell_type": "code",
      "execution_count": null,
      "metadata": {
        "id": "23WmFEgtBHMV",
        "vscode": {
          "languageId": "r"
        }
      },
      "outputs": [],
      "source": [
        "sapply(departamentos, class)\n"
      ]
    },
    {
      "cell_type": "code",
      "execution_count": 9,
      "metadata": {
        "colab": {
          "base_uri": "https://localhost:8080/",
          "height": 437
        },
        "id": "DWCMD-J1BHMV",
        "outputId": "87319521-88dd-48bf-aaf2-e9b1e91d41b5",
        "vscode": {
          "languageId": "r"
        }
      },
      "outputs": [
        {
          "data": {
            "image/png": "[encoded data removed]",
            "text/plain": [
              "plot without title"
            ]
          },
          "metadata": {
            "image/png": {
              "height": 420,
              "width": 420
            }
          },
          "output_type": "display_data"
        }
      ],
      "source": [
        "plot(st_geometry(departamentos))\n"
      ]
    },
    {
      "cell_type": "code",
      "execution_count": null,
      "metadata": {
        "id": "mGIkyn1qBHMW",
        "vscode": {
          "languageId": "r"
        }
      },
      "outputs": [],
      "source": [
        "summary(departamentos$price)\n"
      ]
    },
    {
      "cell_type": "markdown",
      "metadata": {
        "id": "r77QEIBnBHMW",
        "vscode": {
          "languageId": "raw"
        }
      },
      "source": [
        "## Estudiando un subconjunto de datos (filas del dataframe)\n",
        "\n",
        "Para \"filtrar\" el dataframe usamos dplyr::filter o base R con condiciones.\n",
        "\n",
        "Por ejemplo, si queremos departamentos mayores a $100000:\n",
        "departamentos_filtrados <- departamentos %>% filter(price > 100000)\n",
        "\n",
        "Para escribir una condicion recuerden que pueden utilizar los siguientes lógicos:\n",
        "\n",
        "```==    para chequear la  condicion \"equivale a\" o \"igual a\" va doble igual  ```\n",
        "\n",
        "```!= distinto a ```\n",
        "\n",
        "```> mayor a  ```\n",
        "\n",
        "```>= mayor o igual a ```\n",
        "\n",
        "```< menor a ```\n",
        "\n",
        "```<= menor o igual a ```\n",
        "\n",
        "En el caso de querer usar dos condiciones o más:\n",
        "\n",
        "```(esta condicion) & (esta condicion) ``` Se cumple esta condicion Y esta otra\n",
        "\n",
        "```(esta condicion) | (esta condicion) ``` Se cumple esta condicion O esta otra\n",
        "\n",
        "\n",
        "Recuerden que las condiciones tiene que ir  en parentesis!\n",
        "\n",
        "Vean los siguientes ejemplos:\n"
      ]
    },
    {
      "cell_type": "markdown",
      "metadata": {
        "id": "WFPjjz0FBHMW",
        "vscode": {
          "languageId": "raw"
        }
      },
      "source": [
        "Filtrar los departamentos que estan en Capital Federal\n"
      ]
    },
    {
      "cell_type": "code",
      "execution_count": null,
      "metadata": {
        "id": "mjN0BEiPBHMW",
        "vscode": {
          "languageId": "r"
        }
      },
      "outputs": [],
      "source": [
        "departamentos %>% filter(l2 == \"Capital Federal\")\n"
      ]
    },
    {
      "cell_type": "markdown",
      "metadata": {
        "id": "LvPVt3qBBHMW",
        "vscode": {
          "languageId": "raw"
        }
      },
      "source": [
        "Filtrar los departamentos que valen más de $100000 Y que además estan en capital federal\n"
      ]
    },
    {
      "cell_type": "code",
      "execution_count": null,
      "metadata": {
        "id": "ZGJVWbYQBHMW",
        "vscode": {
          "languageId": "r"
        }
      },
      "outputs": [],
      "source": [
        "departamentos %>% filter(price > 100000 & l2 == \"Capital Federal\")\n"
      ]
    },
    {
      "cell_type": "markdown",
      "metadata": {
        "id": "ZER7_2p2BHMW",
        "vscode": {
          "languageId": "raw"
        }
      },
      "source": [
        "Es posible combinar los filtros con otros metodos para describir o graficar los datos en una sola linea de codigo. Para eso filtro primero y grafico o describo despues.\n"
      ]
    },
    {
      "cell_type": "code",
      "execution_count": null,
      "metadata": {
        "id": "JHZYsFOwBHMX",
        "vscode": {
          "languageId": "r"
        }
      },
      "outputs": [],
      "source": [
        "departamentos %>% filter(l2 == \"Capital Federal\") %>% pull(price) %>% summary()\n"
      ]
    },
    {
      "cell_type": "code",
      "execution_count": null,
      "metadata": {
        "id": "_snLgoeJBHMX",
        "vscode": {
          "languageId": "r"
        }
      },
      "outputs": [],
      "source": [
        "hist(departamentos$price)\n"
      ]
    },
    {
      "cell_type": "code",
      "execution_count": null,
      "metadata": {
        "id": "YKby8FYQBHMX",
        "vscode": {
          "languageId": "r"
        }
      },
      "outputs": [],
      "source": [
        "departamentos %>% filter(price < 30000) %>% pull(price) %>% hist()\n"
      ]
    },
    {
      "cell_type": "markdown",
      "metadata": {
        "id": "eP5FN_0jBHMX",
        "vscode": {
          "languageId": "raw"
        }
      },
      "source": [
        "El método plot() en el objeto sf permite mapear los datos. Podrán reconocer el AMBA\n"
      ]
    },
    {
      "cell_type": "code",
      "execution_count": null,
      "metadata": {
        "id": "VnVQVwSGBHMX",
        "vscode": {
          "languageId": "r"
        }
      },
      "outputs": [],
      "source": [
        "plot(st_geometry(departamentos))\n"
      ]
    },
    {
      "cell_type": "code",
      "execution_count": null,
      "metadata": {
        "id": "JhSe1yWSBHMX",
        "vscode": {
          "languageId": "r"
        }
      },
      "outputs": [],
      "source": [
        "departamentos %>% filter(l2 == \"Capital Federal\") %>% st_geometry() %>% plot()\n"
      ]
    },
    {
      "cell_type": "code",
      "execution_count": null,
      "metadata": {
        "id": "ERV1r3xIBHMX",
        "vscode": {
          "languageId": "r"
        }
      },
      "outputs": [],
      "source": [
        "departamentos %>%\n",
        "  filter(l2 == \"Capital Federal\" & price < 80000) %>%\n",
        "  ggplot() +\n",
        "  geom_sf(aes(fill = price)) +\n",
        "  scale_fill_viridis_c() +\n",
        "  theme_void()\n"
      ]
    },
    {
      "cell_type": "markdown",
      "metadata": {
        "id": "f9GEaIEDBHMa",
        "vscode": {
          "languageId": "raw"
        }
      },
      "source": [
        "# OLS\n"
      ]
    },
    {
      "cell_type": "markdown",
      "metadata": {
        "id": "JjPas_I6BHMb",
        "vscode": {
          "languageId": "raw"
        }
      },
      "source": [
        "En R usamos la función lm() para estimar modelos de regresión lineal\n"
      ]
    },
    {
      "cell_type": "markdown",
      "metadata": {
        "id": "X0rdvY5jBHMb",
        "vscode": {
          "languageId": "raw"
        }
      },
      "source": [
        "Nuestro modelo a explorar es el siguiente:\n"
      ]
    },
    {
      "cell_type": "markdown",
      "metadata": {
        "id": "V43TzmW0BHMb",
        "vscode": {
          "languageId": "raw"
        }
      },
      "source": [
        "$price_i=\\beta_0+ \\beta_1*bedrooms_i+\\epsilon_i$\n"
      ]
    },
    {
      "cell_type": "code",
      "execution_count": null,
      "metadata": {
        "id": "WIZTFhDcBHMb",
        "vscode": {
          "languageId": "r"
        }
      },
      "outputs": [],
      "source": [
        "modelo <- lm(price ~ bedrooms, data = departamentos)\n"
      ]
    },
    {
      "cell_type": "code",
      "execution_count": null,
      "metadata": {
        "id": "IqLFSIW3BHMb",
        "vscode": {
          "languageId": "r"
        }
      },
      "outputs": [],
      "source": [
        "summary(modelo)\n"
      ]
    },
    {
      "cell_type": "markdown",
      "metadata": {
        "id": "uAnpAtD_BHMb",
        "vscode": {
          "languageId": "raw"
        }
      },
      "source": [
        "Nuestro resultado es:\n",
        "precio= 11500+ 4253* bedrooms\n"
      ]
    },
    {
      "cell_type": "markdown",
      "metadata": {
        "id": "OZ4ZKSBABHMb",
        "vscode": {
          "languageId": "raw"
        }
      },
      "source": [
        "## Graficando\n"
      ]
    },
    {
      "cell_type": "markdown",
      "metadata": {
        "id": "ci3BrAhzBHMb",
        "vscode": {
          "languageId": "raw"
        }
      },
      "source": [
        "El dataframe tiene algunos metodos que permiten graficar directamente usando ggplot2\n"
      ]
    },
    {
      "cell_type": "code",
      "execution_count": null,
      "metadata": {
        "id": "r7i41jB6BHMb",
        "vscode": {
          "languageId": "r"
        }
      },
      "outputs": [],
      "source": [
        "departamentos <- departamentos %>% filter(!is.na(bedrooms) & !is.na(price))\n"
      ]
    },
    {
      "cell_type": "code",
      "execution_count": null,
      "metadata": {
        "id": "0I3qQ68OBHMb",
        "vscode": {
          "languageId": "r"
        }
      },
      "outputs": [],
      "source": [
        "ggplot(departamentos, aes(x = bedrooms, y = price)) +\n",
        "  geom_point() +\n",
        "  theme_minimal()\n"
      ]
    },
    {
      "cell_type": "markdown",
      "metadata": {
        "id": "_ZRNPb5XBHMc",
        "vscode": {
          "languageId": "raw"
        }
      },
      "source": [
        "Scatter plot\n"
      ]
    },
    {
      "cell_type": "code",
      "execution_count": null,
      "metadata": {
        "id": "FTHmnRjXBHMc",
        "vscode": {
          "languageId": "r"
        }
      },
      "outputs": [],
      "source": [
        "departamentos %>%\n",
        "  filter(bedrooms > 0) %>%\n",
        "  ggplot(aes(x = bedrooms, y = price)) +\n",
        "  geom_point() +\n",
        "  theme_minimal()\n"
      ]
    },
    {
      "cell_type": "markdown",
      "metadata": {
        "id": "9WXPtskOBHMc",
        "vscode": {
          "languageId": "raw"
        }
      },
      "source": [
        "Para hacer otros graficos más complejos vamos a usar ggplot2 con líneas de predicción\n"
      ]
    },
    {
      "cell_type": "code",
      "execution_count": null,
      "metadata": {
        "id": "GUbh6ceVBHMc",
        "vscode": {
          "languageId": "r"
        }
      },
      "outputs": [],
      "source": [
        "ypred <- predict(modelo, departamentos)\n",
        "\n",
        "ggplot(departamentos, aes(x = bedrooms, y = price)) +\n",
        "  geom_point(alpha = 0.5, color = \"blue\") +\n",
        "  geom_line(aes(y = ypred), color = \"red\", size = 1) +\n",
        "  labs(title = \"Datos vs Predicción OLS\",\n",
        "       x = \"Bedrooms\", y = \"Price\") +\n",
        "  theme_minimal()\n"
      ]
    },
    {
      "cell_type": "markdown",
      "metadata": {
        "id": "ajfPBl30BHMc",
        "vscode": {
          "languageId": "raw"
        }
      },
      "source": [
        "# Ejemplo de ploteo con layers (capas)\n",
        "Vamos a utilizar la capa de límites de partidos y departamentos del IGN.\n",
        "Ver más aqui:\n",
        "https://datos.gob.ar/dataset/ign-unidades-territoriales\n"
      ]
    },
    {
      "cell_type": "code",
      "execution_count": null,
      "metadata": {
        "id": "b2unpcixBHMc",
        "vscode": {
          "languageId": "r"
        }
      },
      "outputs": [],
      "source": [
        "limites <- st_read(\"https://github.com/rpasquini/urban-econometrics/blob/master/data/ign_departamento.zip?raw=true\")\n",
        "# En caso de tener el zip en el espacio local: limites <- st_read(\"ign_departamento.zip\")\n"
      ]
    },
    {
      "cell_type": "code",
      "execution_count": null,
      "metadata": {
        "id": "AiznnjDFBHMc",
        "vscode": {
          "languageId": "r"
        }
      },
      "outputs": [],
      "source": [
        "ggplot() +\n",
        "  geom_sf(data = st_transform(limites, 4326), fill = \"lightblue\", alpha = 0.5) +\n",
        "  geom_sf(data = st_transform(departamentos, 4326), color = \"orange\", size = 0.1) +\n",
        "  coord_sf(xlim = c(-59, -58), ylim = c(-35, -34.1)) +\n",
        "  theme_void()\n"
      ]
    },
    {
      "cell_type": "code",
      "execution_count": null,
      "metadata": {
        "id": "RtRdU9gHBHMc",
        "vscode": {
          "languageId": "r"
        }
      },
      "outputs": [],
      "source": [
        "ggplot() +\n",
        "  geom_sf(data = st_transform(limites, 4326), fill = \"lightgray\", alpha = 0.5) +\n",
        "  geom_sf(data = departamentos %>%\n",
        "            filter(price < 80000) %>%\n",
        "            st_transform(4326),\n",
        "          aes(fill = price), size = 0.1) +\n",
        "  scale_fill_viridis_c() +\n",
        "  coord_sf(xlim = c(-59, -58), ylim = c(-35, -34.1)) +\n",
        "  theme_void() +\n",
        "  labs(title = \"Precios de departamentos menores a $80,000\")\n"
      ]
    }
  ],
  "metadata": {
    "colab": {
      "provenance": []
    },
    "kernelspec": {
      "display_name": "R",
      "name": "ir"
    },
    "language_info": {
      "name": "R"
    }
  },
  "nbformat": 4,
  "nbformat_minor": 0
}
