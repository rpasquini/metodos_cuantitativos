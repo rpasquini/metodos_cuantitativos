{
  "cells": [
    {
      "cell_type": "markdown",
      "metadata": {
        "vscode": {
          "languageId": "raw"
        },
        "id": "BTCai-SxOW7n"
      },
      "source": [
        "<a href=\"https://colab.research.google.com/github/rpasquini/metodos_cuantitativos/blob/main/notebooks/R/5_Modelos_de_Clasificacion.ipynb\" target=\"_parent\"><img src=\"https://colab.research.google.com/assets/colab-badge.svg\" alt=\"Open In Colab\"/></a>\n"
      ]
    },
    {
      "cell_type": "code",
      "execution_count": 1,
      "metadata": {
        "id": "PELgMvmLOW7o"
      },
      "outputs": [],
      "source": [
        "%load_ext rpy2.ipython\n"
      ]
    },
    {
      "cell_type": "code",
      "execution_count": 2,
      "metadata": {
        "vscode": {
          "languageId": "r"
        },
        "colab": {
          "base_uri": "https://localhost:8080/",
          "height": 496
        },
        "id": "LwXRCxTcOW7o",
        "outputId": "b164a47f-c067-4f45-f4c2-647964dfbd2c"
      },
      "outputs": [
        {
          "output_type": "display_data",
          "data": {
            "text/plain": [
              "Loading required package: nnet\n",
              "Loading required package: dplyr\n",
              "\n",
              "Attaching package: ‘dplyr’\n",
              "\n",
              "The following objects are masked from ‘package:stats’:\n",
              "\n",
              "    filter, lag\n",
              "\n",
              "The following objects are masked from ‘package:base’:\n",
              "\n",
              "    intersect, setdiff, setequal, union\n",
              "\n",
              "Loading required package: ggplot2\n",
              "Loading required package: margins\n",
              "Installing package into ‘/usr/local/lib/R/site-library’\n",
              "(as ‘lib’ is unspecified)\n",
              "also installing the dependency ‘prediction’\n",
              "\n",
              "trying URL 'https://cran.rstudio.com/src/contrib/prediction_0.3.18.tar.gz'\n",
              "trying URL 'https://cran.rstudio.com/src/contrib/margins_0.3.28.tar.gz'\n",
              "\n",
              "The downloaded source packages are in\n",
              "\t‘/tmp/RtmpKk4pJT/downloaded_packages’\n",
              "In addition: Warning message:\n",
              "In library(package, lib.loc = lib.loc, character.only = TRUE, logical.return = TRUE,  :\n",
              "  there is no package called ‘margins’\n"
            ]
          },
          "metadata": {}
        }
      ],
      "source": [
        "%%R\n",
        "# Install required packages if not already installed\n",
        "if (!require(\"nnet\")) install.packages(\"nnet\")  # For multinomial logistic regression\n",
        "#if (!require(\"sf\")) install.packages(\"sf\")      # For spatial data\n",
        "if (!require(\"dplyr\")) install.packages(\"dplyr\") # For data manipulation\n",
        "if (!require(\"ggplot2\")) install.packages(\"ggplot2\") # For plotting\n",
        "if (!require(\"margins\")) install.packages(\"margins\") # For marginal effects\n",
        "\n",
        "# Load the packages\n",
        "library(nnet)\n",
        "#library(sf)\n",
        "library(dplyr)\n",
        "library(ggplot2)\n",
        "library(margins)\n"
      ]
    },
    {
      "cell_type": "markdown",
      "metadata": {
        "vscode": {
          "languageId": "raw"
        },
        "id": "ITkYk-VcOW7p"
      },
      "source": [
        "## Estimación de un Modelo de Elección de \"Ubicación Residencial\" adaptado a una situación de vivir en la formalidad vs. la informalidad.\n",
        "\n",
        "A modo de ejemplo, vamos a intentar explicar predecir la localización de los hogares en las áreas de la \"ciudad formal\" o en los \"asentamientos informales\". Vamos a utilizar un extracto de los datos de la investigación de Goytia, Heikkila, Pasquini (2020).\n"
      ]
    },
    {
      "cell_type": "markdown",
      "metadata": {
        "vscode": {
          "languageId": "raw"
        },
        "id": "WbdTyMgkOW7p"
      },
      "source": [
        "## Descripción de variables\n",
        "* bformal es una dummy que señala con 1 a las areas \"formales\" y 0 a las areas \"informales\". Este es un criterio de delimitación espacial.  \"Informal\" se utiliza para el área que constituye un barrio popular  \n",
        "* dconurb1, dconurb2, dconurb3 son dummies que señalan a los agrupamientos de partidos del AMBA \"Conurbano 1\", \"Conurbano 2\" y \"Conurbano 3\" respectivamente, según la categorización del INDEC.  Vease https://www.indec.gob.ar/dbindec/folleto_gba.pdf\n",
        "* dprop_soloviv', 'dprop_ocupant', 'dinquilinos' son dummies que señalan a los que son propietarios solo de la vivienda, ocupantes e inquilinos respectivamente.\n",
        "* dedu_secincomp', 'dedu_seccomp', 'dedu_ter_o_mas' son dummies que señalan la educación del jefe de hogar\n",
        "* 'dconexionagua1', 'delectricidad_med', 'dconexiongas'  son dummies que señalan la presencia de conexión al agua de red, la presencia de un medidor de electricidad y la conexión al gas de red respectivamente.\n"
      ]
    },
    {
      "cell_type": "markdown",
      "metadata": {
        "vscode": {
          "languageId": "raw"
        },
        "id": "Tq-N8XZsOW7q"
      },
      "source": [
        "El modelo que propondremos consistirá en explicar la condición de vivir en el \"área formal\" a partir de un conjunto de atributos del hogar, incluyendo el ingreso, el tamaño, y un conjunto de variabes indicadores del nivel educativo del jefe de hogar.\n",
        "\n",
        "Proponemos un Modelo Logit. Recordemos que este modelo puede pensar como el modelo de regresión lineal que es transformado mediante la función logística:\n",
        "\n",
        "$$P(F=1)_i=\\frac{1}{1+e^{-Z_i}} $$\n",
        "\n",
        "donde\n",
        "\n",
        "$$Z_i=\\beta_0+\\beta_1IngresoHogar_i+\\beta_2TamañoHogar_i+\\beta_3DSecundarioCompleto_i+\\beta_4DTerciarioCompleto_i+\\epsilon_i$$\n",
        "\n",
        "\n",
        "**Observación:** Una propiedad de este modelo que puede ser útil más adelante es notar que este modelo cumple que el *ratio de las chances* de vivir en el sector formal (definido en este caso como la probabilidad de F=1 sobre la probabilidad de F=0) tomado en logaritmo se asume de forma lineal:\n",
        "\n",
        "\n",
        "$$\\log(\\frac{P(F=1)}{P(F=0)})=\\beta_0+\\beta_1IngresoHogar_i+\\beta_2TamañoHogar_i+\\beta_3DSecundarioCompleto_i+\\beta_4DTerciarioCompleto_i+\\epsilon_i$$\n",
        "\n",
        "Esta última expresión es útil pues, al aparecer P(F=0) explicita que la probabilidad de pertenecer a una categoria se define siempre en relación a otra categoría. Esto será útil para la interpretación del modelo multi-categoría.\n"
      ]
    },
    {
      "cell_type": "code",
      "execution_count": 3,
      "metadata": {
        "vscode": {
          "languageId": "r"
        },
        "colab": {
          "base_uri": "https://localhost:8080/"
        },
        "id": "zwzWcTJVOW7q",
        "outputId": "101046d9-d8a2-4552-8e70-66354b5fd341"
      },
      "outputs": [
        {
          "output_type": "stream",
          "name": "stdout",
          "text": [
            "  hora_c hora_f bformal dconurb1 dconurb2 dconurb3 dmore2000 dprop_soloviv\n",
            "1  14.30  14.55       0        0        0        0         1             1\n",
            "2  13.30  13.55       0        0        0        0         1             0\n",
            "3  14.25  14.50       0        0        0        0         1             1\n",
            "4  11.05  11.30       0        0        0        0         1             1\n",
            "5   9.35  10.00       0        0        0        0         1             1\n",
            "6  10.40  11.05       0        0        0        0         1             1\n",
            "  dprop_ocupant dinquilinos npersonashogar dedu_secincomp dedu_seccomp\n",
            "1             0           0              4              0            0\n",
            "2             0           1              4              1            0\n",
            "3             0           0              4              1            0\n",
            "4             0           0              4              0            1\n",
            "5             0           0              8              0            0\n",
            "6             0           0              3              0            0\n",
            "  dedu_ter_o_mas ddondevivia2 ddondevivia3 ddondevivia4 ddondevivia5\n",
            "1              0            0            0            0            0\n",
            "2              0            0            0            0            0\n",
            "3              0            0            0            0            0\n",
            "4              0            0            0            0            0\n",
            "5              0            1            0            0            0\n",
            "6              0            0            0            0            0\n",
            "  ddondevivia6 ddondevivia7 dmigrantefuerabarrio antigenvivienda nambientes m2\n",
            "1            0            1                    1               4          2  2\n",
            "2            0            1                    1              12          3  2\n",
            "3            0            1                    1               6          4  2\n",
            "4            0            1                    1              10          3  2\n",
            "5            0            0                    0              32          3  1\n",
            "6            0            1                    1               4          1  1\n",
            "  dconexionagua1 dconexionagua2 dconexionagua3 dpagaelagua dcloaca\n",
            "1              0              0              1           0       1\n",
            "2              0              0              1           0       1\n",
            "3              0              0              1           0       0\n",
            "4              0              0              1          NA       0\n",
            "5              0              0              1           0       0\n",
            "6              0              0              1           0       0\n",
            "  delectricidad_med dconexiongas alquiler2 ingresohogar2\n",
            "1                 1            0     12000         16500\n",
            "2                 1            0      2000         12000\n",
            "3                 0            0      3000         15000\n",
            "4                 0            0      6000          8000\n",
            "5                 0            0        NA          6800\n",
            "6                 0            0      1500         17000\n"
          ]
        }
      ],
      "source": [
        "%%R\n",
        "# Levantamos los datos\n",
        "datosghp <- read.csv(\"https://raw.githubusercontent.com/rpasquini/urban-econometrics/master/data/formal%20premia%20data%20extract.csv\")\n",
        "\n",
        "# Mostramos los primeros registros\n",
        "head(datosghp)\n"
      ]
    },
    {
      "cell_type": "code",
      "execution_count": 20,
      "metadata": {
        "vscode": {
          "languageId": "r"
        },
        "colab": {
          "base_uri": "https://localhost:8080/"
        },
        "id": "jVTkPa_MOW7r",
        "outputId": "ad4789ba-7d9a-49b6-cfdb-8bd4b339c757"
      },
      "outputs": [
        {
          "output_type": "stream",
          "name": "stdout",
          "text": [
            "\n",
            "Call:\n",
            "glm(formula = bformal ~ ingresohogar2 + npersonashogar + dedu_seccomp + \n",
            "    dedu_ter_o_mas, family = binomial(link = \"logit\"), data = datosghp)\n",
            "\n",
            "Coefficients:\n",
            "                 Estimate Std. Error z value Pr(>|z|)   \n",
            "(Intercept)    -8.477e-01  2.669e-01  -3.176  0.00150 **\n",
            "ingresohogar2   3.727e-05  1.374e-05   2.713  0.00667 **\n",
            "npersonashogar -1.407e-02  4.709e-02  -0.299  0.76504   \n",
            "dedu_seccomp    6.655e-01  2.107e-01   3.158  0.00159 **\n",
            "dedu_ter_o_mas  6.764e-01  3.712e-01   1.822  0.06843 . \n",
            "---\n",
            "Signif. codes:  0 ‘***’ 0.001 ‘**’ 0.01 ‘*’ 0.05 ‘.’ 0.1 ‘ ’ 1\n",
            "\n",
            "(Dispersion parameter for binomial family taken to be 1)\n",
            "\n",
            "    Null deviance: 690.49  on 500  degrees of freedom\n",
            "Residual deviance: 666.66  on 496  degrees of freedom\n",
            "  (49 observations deleted due to missingness)\n",
            "AIC: 676.66\n",
            "\n",
            "Number of Fisher Scoring iterations: 4\n",
            "\n"
          ]
        }
      ],
      "source": [
        "%%R\n",
        "logit_model <- glm(bformal ~ ingresohogar2 + npersonashogar + dedu_seccomp + dedu_ter_o_mas,\n",
        "                   data = datosghp,\n",
        "                   family = binomial(link = \"logit\"))\n",
        "summary(logit_model)"
      ]
    },
    {
      "cell_type": "markdown",
      "source": [
        "## Calculamos los efectos marginales.\n",
        "Vamos a usar un paquete especifico para esto, el paquete **margins**\n",
        "Por default, margins va a calcular el **efecto marginal promedio**, es decir, primero computará el efecto marginal para cada observación de la muestra, y luego reportará el promedio de todas las observaciones."
      ],
      "metadata": {
        "id": "h7vJhREpRaBf"
      }
    },
    {
      "cell_type": "code",
      "source": [
        "%%R\n",
        "# Calculamos los efectos marginales promedio\n",
        "\n",
        "margins_modelo <- margins(logit_model)\n",
        "summary(margins_modelo)\n"
      ],
      "metadata": {
        "colab": {
          "base_uri": "https://localhost:8080/"
        },
        "id": "28iOGtOwOq9j",
        "outputId": "725b864d-6959-4aa0-a2ef-04bf1a64b2d8"
      },
      "execution_count": 14,
      "outputs": [
        {
          "output_type": "stream",
          "name": "stdout",
          "text": [
            "         factor     AME     SE       z      p   lower  upper\n",
            "   dedu_seccomp  0.1573 0.0478  3.2887 0.0010  0.0635 0.2510\n",
            " dedu_ter_o_mas  0.1599 0.0866  1.8462 0.0649 -0.0099 0.3296\n",
            "  ingresohogar2  0.0000 0.0000  2.7923 0.0052  0.0000 0.0000\n",
            " npersonashogar -0.0033 0.0111 -0.2990 0.7650 -0.0251 0.0185\n"
          ]
        }
      ]
    },
    {
      "cell_type": "markdown",
      "source": [
        "Si quisieramos calcular el efecto marginal en el valor promedio de las variables, tenemos que pasar explícitamente en qué valores vamos calcular el efecto marginal, lo hacemos pasando una lista de valores"
      ],
      "metadata": {
        "id": "MBZI7yHWSWTW"
      }
    },
    {
      "cell_type": "code",
      "source": [
        "%%R\n",
        "# Pasamos una lista list() que incluye los valores promedio de las variables que me interesan\n",
        "# Notar que el valor promedio de las dummies no tiene mucho sentido, por lo que podrían cambiar esos valores por 0 o 1 de acuerdo a cual sea el punto de interes.\n",
        "mfx_at_mean <- margins(logit_model, at = list(\n",
        "  ingresohogar2 = mean(datosghp$ingresohogar2, na.rm = TRUE),\n",
        "  npersonashogar = mean(datosghp$npersonashogar, na.rm = TRUE),\n",
        "  dedu_seccomp = mean(datosghp$dedu_seccomp, na.rm = TRUE),\n",
        "  dedu_ter_o_mas = mean(datosghp$dedu_ter_o_mas, na.rm = TRUE)\n",
        "))\n",
        "summary(mfx_at_mean)"
      ],
      "metadata": {
        "id": "EKLLO-gVSP0l",
        "outputId": "471ef1f2-92ab-487e-cf62-7536c996d6f3",
        "colab": {
          "base_uri": "https://localhost:8080/"
        }
      },
      "execution_count": 28,
      "outputs": [
        {
          "output_type": "stream",
          "name": "stdout",
          "text": [
            "         factor ingresohogar2 npersonashogar dedu_seccomp dedu_ter_o_mas\n",
            "   dedu_seccomp    13339.5210         4.1727       0.2709         0.0745\n",
            " dedu_ter_o_mas    13339.5210         4.1727       0.2709         0.0745\n",
            "  ingresohogar2    13339.5210         4.1727       0.2709         0.0745\n",
            " npersonashogar    13339.5210         4.1727       0.2709         0.0745\n",
            "     AME     SE       z      p   lower  upper\n",
            "  0.1651 0.0523  3.1569 0.0016  0.0626 0.2675\n",
            "  0.1678 0.0921  1.8215 0.0685 -0.0127 0.3483\n",
            "  0.0000 0.0000  2.7126 0.0067  0.0000 0.0000\n",
            " -0.0035 0.0117 -0.2989 0.7650 -0.0264 0.0194\n"
          ]
        }
      ]
    },
    {
      "cell_type": "markdown",
      "source": [
        "Tambien podemos calcular en valores especificos. Por ejemplo lo calculamos para una familia con cuatro integrantes, ingreso del hogar de $14000, y jefe con secundario incompleto"
      ],
      "metadata": {
        "id": "CARRI2opTPS4"
      }
    },
    {
      "cell_type": "code",
      "source": [
        "%%R\n",
        "# Marginal effects at specific values\n",
        "mfx_specific <- margins(logit_model, at = list(\n",
        "  ingresohogar2 = 1400,\n",
        "  npersonashogar = 4,\n",
        "  dedu_seccomp = 0,\n",
        "  dedu_ter_o_mas = 0\n",
        "))\n",
        "summary(mfx_specific)"
      ],
      "metadata": {
        "id": "nB4-vg3jQ_Rf",
        "outputId": "471945c2-c5f5-4544-b626-0972739c6d11",
        "colab": {
          "base_uri": "https://localhost:8080/"
        }
      },
      "execution_count": 26,
      "outputs": [
        {
          "output_type": "stream",
          "name": "stdout",
          "text": [
            "         factor ingresohogar2 npersonashogar dedu_seccomp dedu_ter_o_mas\n",
            "   dedu_seccomp     1400.0000         4.0000       0.0000         0.0000\n",
            " dedu_ter_o_mas     1400.0000         4.0000       0.0000         0.0000\n",
            "  ingresohogar2     1400.0000         4.0000       0.0000         0.0000\n",
            " npersonashogar     1400.0000         4.0000       0.0000         0.0000\n",
            "     AME     SE       z      p   lower  upper\n",
            "  0.1395 0.0428  3.2609 0.0011  0.0557 0.2233\n",
            "  0.1418 0.0783  1.8102 0.0703 -0.0117 0.2953\n",
            "  0.0000 0.0000  3.2184 0.0013  0.0000 0.0000\n",
            " -0.0030 0.0099 -0.2993 0.7647 -0.0223 0.0164\n"
          ]
        }
      ]
    },
    {
      "cell_type": "markdown",
      "source": [
        "## Predicción"
      ],
      "metadata": {
        "id": "HGPcqpmnTn0e"
      }
    },
    {
      "cell_type": "markdown",
      "metadata": {
        "vscode": {
          "languageId": "raw"
        },
        "id": "qzEjwV_LOW7r"
      },
      "source": [
        "¿Cuál es la probabilidad de que una familia de que una familia con cuatro integrantes, ingreso del hogar de $14000, y jefe con secundario incompleto viva en la formalidad?\n"
      ]
    },
    {
      "cell_type": "code",
      "execution_count": null,
      "metadata": {
        "vscode": {
          "languageId": "r"
        },
        "id": "qmnuc0oPOW7s"
      },
      "outputs": [],
      "source": [
        "%%R\n",
        "# Creamos un nuevo dataframe con los valores para predecir\n",
        "nuevos_datos <- data.frame(\n",
        "  ingresohogar2 = 14000,\n",
        "  npersonashogar = 4,\n",
        "  dedu_seccomp = 0,\n",
        "  dedu_ter_o_mas = 0\n",
        ")\n",
        "\n",
        "\n",
        "# Luego usamos el comando predict, y tenemos que pasarle el modelo ajustado, los nuevos datos, y especificar el tipo de respuesta 'response'\n",
        "# es importante no olvidar 'response', ya que la respuesta default de predict es solo la parte lineal del modelo, y faltaría aplicar la función logística para llegar a la predicción\n",
        "\n",
        "prob <- predict(logit_model, newdata = nuevos_datos, type = \"response\")\n",
        "print(paste(\"Probabilidad de vivir en la formalidad:\", round(prob, 4)))\n"
      ]
    },
    {
      "cell_type": "markdown",
      "metadata": {
        "vscode": {
          "languageId": "raw"
        },
        "id": "5lNyNpnbOW7s"
      },
      "source": [
        "# Versión Probit\n",
        "El modelo Probit representa una alternativa al modelo Logit. La función que realiza la transformación en este caso es la [función acumulativa](https://en.wikipedia.org/wiki/Cumulative_distribution_function) de la [Distribución Normal Estandar](https://en.wikipedia.org/wiki/Normal_distribution), que es típicamente denotada $\\Phi$. Es decir:\n",
        "\n",
        "$$P(F=1)=\\Phi(\\beta_0+\\beta_1IngresoHogar_i+\\beta_2TamañoHogar_i+\\beta_3DSecundarioCompleto_i+\\beta_4DTerciarioCompleto_i+\\epsilon_i)$$\n"
      ]
    },
    {
      "cell_type": "code",
      "execution_count": null,
      "metadata": {
        "vscode": {
          "languageId": "r"
        },
        "id": "OaC_8aAoOW7s"
      },
      "outputs": [],
      "source": [
        "%%R\n",
        "probit <- function(formula, data) {\n",
        "  # Función que realiza la regresión Probit\n",
        "  # formula: fórmula del modelo en formato R (ej: y ~ x1 + x2)\n",
        "  # data: dataframe con los datos\n",
        "\n",
        "  # Eliminamos filas con NA\n",
        "  data <- na.omit(data)\n",
        "\n",
        "  # Ajustamos el modelo\n",
        "  modelo <- glm(formula, data = data, family = binomial(link = \"probit\"))\n",
        "\n",
        "  # Mostramos el resumen\n",
        "  print(summary(modelo))\n",
        "\n",
        "  return(modelo)\n",
        "}\n",
        "\n",
        "# Ajustamos el modelo probit\n",
        "modelo_probit <- probit(bformal ~ ingresohogar2 + npersonashogar + dedu_seccomp + dedu_ter_o_mas,\n",
        "                       data = datosghp)\n",
        "\n",
        "# Calculamos los efectos marginales promedio\n",
        "margins_probit <- margins(modelo_probit)\n",
        "summary(margins_probit)\n"
      ]
    },
    {
      "cell_type": "markdown",
      "metadata": {
        "vscode": {
          "languageId": "raw"
        },
        "id": "JsxrqWgCOW7s"
      },
      "source": [
        "# Estimando un Modelo de Localización Residencial en la Ciudad. Aplicación del modelo de múltiples categorías.\n",
        "\n",
        "El modelo a estimar será un Multinomial Logit. Este modelo se puede pensar como una generalización del modelo Logit para una cantidad de K categorías. Podemos pensar a este modelo como la modelización de K-1 ecuaciones tomando como base a una categoría de referencia (la K-esima).  \n",
        "\n",
        "Al igual que el Logit, este modelo tiene la propiedad de que el logaritmo del ratio de las chances entre las categorías se modela de manera lineal. En este caso, el logaritmo del ratio de las chances de una categroria k-esima en relación a la categoría K (la última), se puede escribir como:\n",
        "\n",
        "$$ \\ln(\\frac{\\Pr(Y=k)}{\\Pr(Y=K)})=\\beta_{0,k}+\\beta_{1,k}X_i+\\epsilon_i$$\n",
        "\n",
        "El modelo tiene similares implicancias al Logit de dos categorías: Los efectos del modelo en las probabilidades serán no-lineales (i.e., dependerán de los valores de las variables explicativas) y será necesario estimar los *efectos marginales*.\n"
      ]
    },
    {
      "cell_type": "code",
      "execution_count": null,
      "metadata": {
        "vscode": {
          "languageId": "r"
        },
        "id": "vZHgyJQZOW7t"
      },
      "outputs": [],
      "source": [
        "%%R\n",
        "# Descargamos y leemos el shapefile de comunas\n",
        "temp <- tempfile()\n",
        "download.file(\"https://github.com/rpasquini/econometrics_and_causality/blob/master/comunas.zip?raw=true\",\n",
        "              temp)\n",
        "unzip(temp)\n",
        "comunas <- st_read(\"comunas.shp\")\n",
        "\n",
        "# Visualizamos el mapa de comunas\n",
        "ggplot() +\n",
        "  geom_sf(data = comunas, aes(fill = factor(COMUNAS))) +\n",
        "  scale_fill_viridis_d() +\n",
        "  theme_minimal() +\n",
        "  labs(title = \"Comunas de Buenos Aires\",\n",
        "       fill = \"Comuna\")\n"
      ]
    },
    {
      "cell_type": "code",
      "execution_count": null,
      "metadata": {
        "vscode": {
          "languageId": "r"
        },
        "id": "e3Q4sIrkOW7t"
      },
      "outputs": [],
      "source": [
        "%%R\n",
        "# Cargamos los datos de la EAH\n",
        "dataeah <- read.csv(\"https://github.com/rpasquini/econometrics_and_causality/blob/master/eah2016.csv?raw=true\")\n",
        "\n",
        "# Filtramos para quedarnos solo con los jefes de hogar\n",
        "dataeah <- dataeah[dataeah$parentes_2 == 1,]\n",
        "\n",
        "# Mostramos las primeras filas\n",
        "head(dataeah)\n"
      ]
    },
    {
      "cell_type": "code",
      "execution_count": null,
      "metadata": {
        "vscode": {
          "languageId": "r"
        },
        "id": "mXTs9AyKOW7t"
      },
      "outputs": [],
      "source": [
        "%%R\n",
        "# Función para ajustar el modelo multinomial logit\n",
        "mnlogit <- function(formula, data) {\n",
        "  # Eliminamos filas con NA\n",
        "  data <- na.omit(data)\n",
        "\n",
        "  # Ajustamos el modelo\n",
        "  modelo <- multinom(formula, data = data)\n",
        "\n",
        "  # Mostramos el resumen\n",
        "  print(summary(modelo))\n",
        "\n",
        "  return(modelo)\n",
        "}\n",
        "\n",
        "# Ajustamos el modelo multinomial\n",
        "modelo_mn <- mnlogit(comuna ~ ingtot_2 + edad, data = dataeah)\n",
        "\n",
        "# Calculamos probabilidades predichas para un caso específico\n",
        "nuevos_datos <- data.frame(\n",
        "  ingtot_2 = 20000,\n",
        "  edad = 60\n",
        ")\n",
        "\n",
        "# Predicción\n",
        "predicciones <- predict(modelo_mn, newdata = nuevos_datos, type = \"probs\")\n",
        "print(\"Probabilidades predichas por comuna:\")\n",
        "print(predicciones)\n"
      ]
    }
  ],
  "metadata": {
    "language_info": {
      "name": "python"
    },
    "colab": {
      "provenance": []
    },
    "kernelspec": {
      "name": "python3",
      "display_name": "Python 3"
    }
  },
  "nbformat": 4,
  "nbformat_minor": 0
}