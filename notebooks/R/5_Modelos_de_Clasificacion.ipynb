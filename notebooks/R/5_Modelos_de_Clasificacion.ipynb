{
  "cells": [
    {
      "cell_type": "markdown",
      "metadata": {
        "vscode": {
          "languageId": "raw"
        }
      },
      "source": [
        "<a href=\"https://colab.research.google.com/github/rpasquini/metodos_cuantitativos/blob/main/notebooks/R/5_Modelos_de_Clasificacion.ipynb\" target=\"_parent\"><img src=\"https://colab.research.google.com/assets/colab-badge.svg\" alt=\"Open In Colab\"/></a>\n"
      ]
    },
    {
      "cell_type": "code",
      "execution_count": null,
      "metadata": {},
      "outputs": [],
      "source": [
        "%load_ext rpy2.ipython\n"
      ]
    },
    {
      "cell_type": "code",
      "execution_count": null,
      "metadata": {
        "vscode": {
          "languageId": "r"
        }
      },
      "outputs": [],
      "source": [
        "%%R\n",
        "# Install required packages if not already installed\n",
        "if (!require(\"nnet\")) install.packages(\"nnet\")  # For multinomial logistic regression\n",
        "if (!require(\"sf\")) install.packages(\"sf\")      # For spatial data\n",
        "if (!require(\"dplyr\")) install.packages(\"dplyr\") # For data manipulation\n",
        "if (!require(\"ggplot2\")) install.packages(\"ggplot2\") # For plotting\n",
        "if (!require(\"margins\")) install.packages(\"margins\") # For marginal effects\n",
        "\n",
        "# Load the packages\n",
        "library(nnet)\n",
        "library(sf)\n",
        "library(dplyr)\n",
        "library(ggplot2)\n",
        "library(margins)\n"
      ]
    },
    {
      "cell_type": "markdown",
      "metadata": {
        "vscode": {
          "languageId": "raw"
        }
      },
      "source": [
        "## Estimación de un Modelo de Elección de \"Ubicación Residencial\" adaptado a una situación de vivir en la formalidad vs. la informalidad.\n",
        "\n",
        "A modo de ejemplo, vamos a intentar explicar predecir la localización de los hogares en las áreas de la \"ciudad formal\" o en los \"asentamientos informales\". Vamos a utilizar un extracto de los datos de la investigación de Goytia, Heikkila, Pasquini (2020).\n"
      ]
    },
    {
      "cell_type": "markdown",
      "metadata": {
        "vscode": {
          "languageId": "raw"
        }
      },
      "source": [
        "## Descripción de variables\n",
        "* bformal es una dummy que señala con 1 a las areas \"formales\" y 0 a las areas \"informales\". Este es un criterio de delimitación espacial.  \"Informal\" se utiliza para el área que constituye un barrio popular  \n",
        "* dconurb1, dconurb2, dconurb3 son dummies que señalan a los agrupamientos de partidos del AMBA \"Conurbano 1\", \"Conurbano 2\" y \"Conurbano 3\" respectivamente, según la categorización del INDEC.  Vease https://www.indec.gob.ar/dbindec/folleto_gba.pdf\n",
        "* dprop_soloviv', 'dprop_ocupant', 'dinquilinos' son dummies que señalan a los que son propietarios solo de la vivienda, ocupantes e inquilinos respectivamente.\n",
        "* dedu_secincomp', 'dedu_seccomp', 'dedu_ter_o_mas' son dummies que señalan la educación del jefe de hogar\n",
        "* 'dconexionagua1', 'delectricidad_med', 'dconexiongas'  son dummies que señalan la presencia de conexión al agua de red, la presencia de un medidor de electricidad y la conexión al gas de red respectivamente.\n"
      ]
    },
    {
      "cell_type": "markdown",
      "metadata": {
        "vscode": {
          "languageId": "raw"
        }
      },
      "source": [
        "El modelo que propondremos consistirá en explicar la condición de vivir en el \"área formal\" a partir de un conjunto de atributos del hogar, incluyendo el ingreso, el tamaño, y un conjunto de variabes indicadores del nivel educativo del jefe de hogar.\n",
        "\n",
        "Proponemos un Modelo Logit. Recordemos que este modelo puede pensar como el modelo de regresión lineal que es transformado mediante la función logística:\n",
        "\n",
        "$$P(F=1)_i=\\frac{1}{1+e^{-Z_i}} $$\n",
        "\n",
        "donde\n",
        "\n",
        "$$Z_i=\\beta_0+\\beta_1IngresoHogar_i+\\beta_2TamañoHogar_i+\\beta_3DSecundarioCompleto_i+\\beta_4DTerciarioCompleto_i+\\epsilon_i$$\n",
        "\n",
        "\n",
        "**Observación:** Una propiedad de este modelo que puede ser útil más adelante es notar que este modelo cumple que el *ratio de las chances* de vivir en el sector formal (definido en este caso como la probabilidad de F=1 sobre la probabilidad de F=0) tomado en logaritmo se asume de forma lineal:\n",
        "\n",
        "\n",
        "$$\\log(\\frac{P(F=1)}{P(F=0)})=\\beta_0+\\beta_1IngresoHogar_i+\\beta_2TamañoHogar_i+\\beta_3DSecundarioCompleto_i+\\beta_4DTerciarioCompleto_i+\\epsilon_i$$\n",
        "\n",
        "Esta última expresión es útil pues, al aparecer P(F=0) explicita que la probabilidad de pertenecer a una categoria se define siempre en relación a otra categoría. Esto será útil para la interpretación del modelo multi-categoría.\n"
      ]
    },
    {
      "cell_type": "code",
      "execution_count": null,
      "metadata": {
        "vscode": {
          "languageId": "r"
        }
      },
      "outputs": [],
      "source": [
        "%%R\n",
        "# Levantamos los datos\n",
        "datosghp <- read.csv(\"https://raw.githubusercontent.com/rpasquini/urban-econometrics/master/data/formal%20premia%20data%20extract.csv\")\n",
        "\n",
        "# Mostramos los primeros registros\n",
        "head(datosghp)\n"
      ]
    },
    {
      "cell_type": "code",
      "execution_count": null,
      "metadata": {
        "vscode": {
          "languageId": "r"
        }
      },
      "outputs": [],
      "source": [
        "%%R\n",
        "logit <- function(formula, data) {\n",
        "  # Función que realiza la regresión Logit\n",
        "  # formula: fórmula del modelo en formato R (ej: y ~ x1 + x2)\n",
        "  # data: dataframe con los datos\n",
        "  \n",
        "  # Eliminamos filas con NA\n",
        "  data <- na.omit(data)\n",
        "  \n",
        "  # Ajustamos el modelo\n",
        "  modelo <- glm(formula, data = data, family = binomial(link = \"logit\"))\n",
        "  \n",
        "  # Mostramos el resumen\n",
        "  print(summary(modelo))\n",
        "  \n",
        "  return(modelo)\n",
        "}\n",
        "\n",
        "# Ajustamos el modelo\n",
        "modelo_ajustado <- logit(bformal ~ ingresohogar2 + npersonashogar + dedu_seccomp + dedu_ter_o_mas, \n",
        "                        data = datosghp)\n",
        "\n",
        "# Calculamos los efectos marginales promedio\n",
        "margins_modelo <- margins(modelo_ajustado)\n",
        "summary(margins_modelo)\n"
      ]
    },
    {
      "cell_type": "markdown",
      "metadata": {
        "vscode": {
          "languageId": "raw"
        }
      },
      "source": [
        "¿Cuál es la probabilidad de que una familia de que una familia con cuatro integrantes, ingreso del hogar de $14000, y jefe con secundario incompleto viva en la formalidad?\n"
      ]
    },
    {
      "cell_type": "code",
      "execution_count": null,
      "metadata": {
        "vscode": {
          "languageId": "r"
        }
      },
      "outputs": [],
      "source": [
        "%%R\n",
        "# Creamos un nuevo dataframe con los valores para predecir\n",
        "nuevos_datos <- data.frame(\n",
        "  ingresohogar2 = 14000,\n",
        "  npersonashogar = 4,\n",
        "  dedu_seccomp = 0,\n",
        "  dedu_ter_o_mas = 0\n",
        ")\n",
        "\n",
        "# Calculamos la probabilidad\n",
        "prob <- predict(modelo_ajustado, newdata = nuevos_datos, type = \"response\")\n",
        "print(paste(\"Probabilidad de vivir en la formalidad:\", round(prob, 4)))\n"
      ]
    },
    {
      "cell_type": "markdown",
      "metadata": {
        "vscode": {
          "languageId": "raw"
        }
      },
      "source": [
        "# Versión Probit\n",
        "El modelo Probit representa una alternativa al modelo Logit. La función que realiza la transformación en este caso es la [función acumulativa](https://en.wikipedia.org/wiki/Cumulative_distribution_function) de la [Distribución Normal Estandar](https://en.wikipedia.org/wiki/Normal_distribution), que es típicamente denotada $\\Phi$. Es decir:\n",
        "\n",
        "$$P(F=1)=\\Phi(\\beta_0+\\beta_1IngresoHogar_i+\\beta_2TamañoHogar_i+\\beta_3DSecundarioCompleto_i+\\beta_4DTerciarioCompleto_i+\\epsilon_i)$$\n"
      ]
    },
    {
      "cell_type": "code",
      "execution_count": null,
      "metadata": {
        "vscode": {
          "languageId": "r"
        }
      },
      "outputs": [],
      "source": [
        "%%R\n",
        "probit <- function(formula, data) {\n",
        "  # Función que realiza la regresión Probit\n",
        "  # formula: fórmula del modelo en formato R (ej: y ~ x1 + x2)\n",
        "  # data: dataframe con los datos\n",
        "  \n",
        "  # Eliminamos filas con NA\n",
        "  data <- na.omit(data)\n",
        "  \n",
        "  # Ajustamos el modelo\n",
        "  modelo <- glm(formula, data = data, family = binomial(link = \"probit\"))\n",
        "  \n",
        "  # Mostramos el resumen\n",
        "  print(summary(modelo))\n",
        "  \n",
        "  return(modelo)\n",
        "}\n",
        "\n",
        "# Ajustamos el modelo probit\n",
        "modelo_probit <- probit(bformal ~ ingresohogar2 + npersonashogar + dedu_seccomp + dedu_ter_o_mas, \n",
        "                       data = datosghp)\n",
        "\n",
        "# Calculamos los efectos marginales promedio\n",
        "margins_probit <- margins(modelo_probit)\n",
        "summary(margins_probit)\n"
      ]
    },
    {
      "cell_type": "markdown",
      "metadata": {
        "vscode": {
          "languageId": "raw"
        }
      },
      "source": [
        "# Estimando un Modelo de Localización Residencial en la Ciudad. Aplicación del modelo de múltiples categorías.\n",
        "\n",
        "El modelo a estimar será un Multinomial Logit. Este modelo se puede pensar como una generalización del modelo Logit para una cantidad de K categorías. Podemos pensar a este modelo como la modelización de K-1 ecuaciones tomando como base a una categoría de referencia (la K-esima).  \n",
        "\n",
        "Al igual que el Logit, este modelo tiene la propiedad de que el logaritmo del ratio de las chances entre las categorías se modela de manera lineal. En este caso, el logaritmo del ratio de las chances de una categroria k-esima en relación a la categoría K (la última), se puede escribir como:\n",
        "\n",
        "$$ \\ln(\\frac{\\Pr(Y=k)}{\\Pr(Y=K)})=\\beta_{0,k}+\\beta_{1,k}X_i+\\epsilon_i$$\n",
        "\n",
        "El modelo tiene similares implicancias al Logit de dos categorías: Los efectos del modelo en las probabilidades serán no-lineales (i.e., dependerán de los valores de las variables explicativas) y será necesario estimar los *efectos marginales*.\n"
      ]
    },
    {
      "cell_type": "code",
      "execution_count": null,
      "metadata": {
        "vscode": {
          "languageId": "r"
        }
      },
      "outputs": [],
      "source": [
        "%%R\n",
        "# Descargamos y leemos el shapefile de comunas\n",
        "temp <- tempfile()\n",
        "download.file(\"https://github.com/rpasquini/econometrics_and_causality/blob/master/comunas.zip?raw=true\",\n",
        "              temp)\n",
        "unzip(temp)\n",
        "comunas <- st_read(\"comunas.shp\")\n",
        "\n",
        "# Visualizamos el mapa de comunas\n",
        "ggplot() +\n",
        "  geom_sf(data = comunas, aes(fill = factor(COMUNAS))) +\n",
        "  scale_fill_viridis_d() +\n",
        "  theme_minimal() +\n",
        "  labs(title = \"Comunas de Buenos Aires\",\n",
        "       fill = \"Comuna\")\n"
      ]
    },
    {
      "cell_type": "code",
      "execution_count": null,
      "metadata": {
        "vscode": {
          "languageId": "r"
        }
      },
      "outputs": [],
      "source": [
        "%%R\n",
        "# Cargamos los datos de la EAH\n",
        "dataeah <- read.csv(\"https://github.com/rpasquini/econometrics_and_causality/blob/master/eah2016.csv?raw=true\")\n",
        "\n",
        "# Filtramos para quedarnos solo con los jefes de hogar\n",
        "dataeah <- dataeah[dataeah$parentes_2 == 1,]\n",
        "\n",
        "# Mostramos las primeras filas\n",
        "head(dataeah)\n"
      ]
    },
    {
      "cell_type": "code",
      "execution_count": null,
      "metadata": {
        "vscode": {
          "languageId": "r"
        }
      },
      "outputs": [],
      "source": [
        "%%R\n",
        "# Función para ajustar el modelo multinomial logit\n",
        "mnlogit <- function(formula, data) {\n",
        "  # Eliminamos filas con NA\n",
        "  data <- na.omit(data)\n",
        "  \n",
        "  # Ajustamos el modelo\n",
        "  modelo <- multinom(formula, data = data)\n",
        "  \n",
        "  # Mostramos el resumen\n",
        "  print(summary(modelo))\n",
        "  \n",
        "  return(modelo)\n",
        "}\n",
        "\n",
        "# Ajustamos el modelo multinomial\n",
        "modelo_mn <- mnlogit(comuna ~ ingtot_2 + edad, data = dataeah)\n",
        "\n",
        "# Calculamos probabilidades predichas para un caso específico\n",
        "nuevos_datos <- data.frame(\n",
        "  ingtot_2 = 20000,\n",
        "  edad = 60\n",
        ")\n",
        "\n",
        "# Predicción\n",
        "predicciones <- predict(modelo_mn, newdata = nuevos_datos, type = \"probs\")\n",
        "print(\"Probabilidades predichas por comuna:\")\n",
        "print(predicciones)\n"
      ]
    }
  ],
  "metadata": {
    "language_info": {
      "name": "python"
    }
  },
  "nbformat": 4,
  "nbformat_minor": 2
}